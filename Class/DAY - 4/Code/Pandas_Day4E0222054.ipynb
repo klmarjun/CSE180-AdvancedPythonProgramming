{
 "cells": [
  {
   "cell_type": "code",
   "execution_count": 1,
   "id": "96ab6351",
   "metadata": {},
   "outputs": [],
   "source": [
    "import pandas as pd"
   ]
  },
  {
   "cell_type": "code",
   "execution_count": 2,
   "id": "2a4bc6aa",
   "metadata": {},
   "outputs": [],
   "source": [
    "df_sample = pd.DataFrame(index = ['Row1','Row2','Row3','Row4'],columns = ['UniqueId','Name'])"
   ]
  },
  {
   "cell_type": "code",
   "execution_count": 3,
   "id": "38e62a7b",
   "metadata": {},
   "outputs": [
    {
     "data": {
      "text/html": [
       "<div>\n",
       "<style scoped>\n",
       "    .dataframe tbody tr th:only-of-type {\n",
       "        vertical-align: middle;\n",
       "    }\n",
       "\n",
       "    .dataframe tbody tr th {\n",
       "        vertical-align: top;\n",
       "    }\n",
       "\n",
       "    .dataframe thead th {\n",
       "        text-align: right;\n",
       "    }\n",
       "</style>\n",
       "<table border=\"1\" class=\"dataframe\">\n",
       "  <thead>\n",
       "    <tr style=\"text-align: right;\">\n",
       "      <th></th>\n",
       "      <th>UniqueId</th>\n",
       "      <th>Name</th>\n",
       "    </tr>\n",
       "  </thead>\n",
       "  <tbody>\n",
       "    <tr>\n",
       "      <th>Row1</th>\n",
       "      <td>NaN</td>\n",
       "      <td>NaN</td>\n",
       "    </tr>\n",
       "    <tr>\n",
       "      <th>Row2</th>\n",
       "      <td>NaN</td>\n",
       "      <td>NaN</td>\n",
       "    </tr>\n",
       "    <tr>\n",
       "      <th>Row3</th>\n",
       "      <td>NaN</td>\n",
       "      <td>NaN</td>\n",
       "    </tr>\n",
       "    <tr>\n",
       "      <th>Row4</th>\n",
       "      <td>NaN</td>\n",
       "      <td>NaN</td>\n",
       "    </tr>\n",
       "  </tbody>\n",
       "</table>\n",
       "</div>"
      ],
      "text/plain": [
       "     UniqueId Name\n",
       "Row1      NaN  NaN\n",
       "Row2      NaN  NaN\n",
       "Row3      NaN  NaN\n",
       "Row4      NaN  NaN"
      ]
     },
     "execution_count": 3,
     "metadata": {},
     "output_type": "execute_result"
    }
   ],
   "source": [
    "df_sample"
   ]
  },
  {
   "cell_type": "code",
   "execution_count": 4,
   "id": "a4e4a215",
   "metadata": {},
   "outputs": [],
   "source": [
    "df_sample['Mark'] = 0"
   ]
  },
  {
   "cell_type": "code",
   "execution_count": 5,
   "id": "d506533a",
   "metadata": {},
   "outputs": [
    {
     "data": {
      "text/html": [
       "<div>\n",
       "<style scoped>\n",
       "    .dataframe tbody tr th:only-of-type {\n",
       "        vertical-align: middle;\n",
       "    }\n",
       "\n",
       "    .dataframe tbody tr th {\n",
       "        vertical-align: top;\n",
       "    }\n",
       "\n",
       "    .dataframe thead th {\n",
       "        text-align: right;\n",
       "    }\n",
       "</style>\n",
       "<table border=\"1\" class=\"dataframe\">\n",
       "  <thead>\n",
       "    <tr style=\"text-align: right;\">\n",
       "      <th></th>\n",
       "      <th>UniqueId</th>\n",
       "      <th>Name</th>\n",
       "      <th>Mark</th>\n",
       "    </tr>\n",
       "  </thead>\n",
       "  <tbody>\n",
       "    <tr>\n",
       "      <th>Row1</th>\n",
       "      <td>NaN</td>\n",
       "      <td>NaN</td>\n",
       "      <td>0</td>\n",
       "    </tr>\n",
       "    <tr>\n",
       "      <th>Row2</th>\n",
       "      <td>NaN</td>\n",
       "      <td>NaN</td>\n",
       "      <td>0</td>\n",
       "    </tr>\n",
       "    <tr>\n",
       "      <th>Row3</th>\n",
       "      <td>NaN</td>\n",
       "      <td>NaN</td>\n",
       "      <td>0</td>\n",
       "    </tr>\n",
       "    <tr>\n",
       "      <th>Row4</th>\n",
       "      <td>NaN</td>\n",
       "      <td>NaN</td>\n",
       "      <td>0</td>\n",
       "    </tr>\n",
       "  </tbody>\n",
       "</table>\n",
       "</div>"
      ],
      "text/plain": [
       "     UniqueId Name  Mark\n",
       "Row1      NaN  NaN     0\n",
       "Row2      NaN  NaN     0\n",
       "Row3      NaN  NaN     0\n",
       "Row4      NaN  NaN     0"
      ]
     },
     "execution_count": 5,
     "metadata": {},
     "output_type": "execute_result"
    }
   ],
   "source": [
    "df_sample"
   ]
  },
  {
   "cell_type": "code",
   "execution_count": 17,
   "id": "40b4bd23",
   "metadata": {},
   "outputs": [],
   "source": [
    "df_sample.iloc[0,0] = \"E0115478\"\n",
    "df_sample.iloc[1,0] = \"E0245678\"\n",
    "df_sample.iloc[2,0] = \"E0357813\"\n",
    "df_sample.iloc[3,0] = \"E0478945\""
   ]
  },
  {
   "cell_type": "code",
   "execution_count": 13,
   "id": "6164d0f6",
   "metadata": {},
   "outputs": [],
   "source": [
    "df_sample.iloc[0,1] = \"A\"\n",
    "df_sample.iloc[1,1] = \"B\"\n",
    "df_sample.iloc[2,1] = \"C\"\n",
    "df_sample.iloc[3,1] = \"D\""
   ]
  },
  {
   "cell_type": "code",
   "execution_count": 14,
   "id": "fc7161de",
   "metadata": {},
   "outputs": [],
   "source": [
    "df_sample.iloc[0,2] = 40\n",
    "df_sample.iloc[1,2] = 30\n",
    "df_sample.iloc[2,2] = 40\n",
    "df_sample.iloc[3,2] = 50"
   ]
  },
  {
   "cell_type": "code",
   "execution_count": 18,
   "id": "91240287",
   "metadata": {},
   "outputs": [
    {
     "data": {
      "text/html": [
       "<div>\n",
       "<style scoped>\n",
       "    .dataframe tbody tr th:only-of-type {\n",
       "        vertical-align: middle;\n",
       "    }\n",
       "\n",
       "    .dataframe tbody tr th {\n",
       "        vertical-align: top;\n",
       "    }\n",
       "\n",
       "    .dataframe thead th {\n",
       "        text-align: right;\n",
       "    }\n",
       "</style>\n",
       "<table border=\"1\" class=\"dataframe\">\n",
       "  <thead>\n",
       "    <tr style=\"text-align: right;\">\n",
       "      <th></th>\n",
       "      <th>UniqueId</th>\n",
       "      <th>Name</th>\n",
       "      <th>Mark</th>\n",
       "    </tr>\n",
       "  </thead>\n",
       "  <tbody>\n",
       "    <tr>\n",
       "      <th>Row1</th>\n",
       "      <td>E0115478</td>\n",
       "      <td>A</td>\n",
       "      <td>40</td>\n",
       "    </tr>\n",
       "    <tr>\n",
       "      <th>Row2</th>\n",
       "      <td>E0245678</td>\n",
       "      <td>B</td>\n",
       "      <td>30</td>\n",
       "    </tr>\n",
       "    <tr>\n",
       "      <th>Row3</th>\n",
       "      <td>E0357813</td>\n",
       "      <td>C</td>\n",
       "      <td>40</td>\n",
       "    </tr>\n",
       "    <tr>\n",
       "      <th>Row4</th>\n",
       "      <td>E0478945</td>\n",
       "      <td>D</td>\n",
       "      <td>50</td>\n",
       "    </tr>\n",
       "  </tbody>\n",
       "</table>\n",
       "</div>"
      ],
      "text/plain": [
       "      UniqueId Name Mark\n",
       "Row1  E0115478    A   40\n",
       "Row2  E0245678    B   30\n",
       "Row3  E0357813    C   40\n",
       "Row4  E0478945    D   50"
      ]
     },
     "execution_count": 18,
     "metadata": {},
     "output_type": "execute_result"
    }
   ],
   "source": [
    "df_sample"
   ]
  },
  {
   "cell_type": "code",
   "execution_count": 16,
   "id": "b10a878a",
   "metadata": {},
   "outputs": [
    {
     "data": {
      "text/plain": [
       "Row1    False\n",
       "Row2    False\n",
       "Row3    False\n",
       "Row4    False\n",
       "dtype: bool"
      ]
     },
     "execution_count": 16,
     "metadata": {},
     "output_type": "execute_result"
    }
   ],
   "source": [
    "df_sample.duplicated()"
   ]
  },
  {
   "cell_type": "code",
   "execution_count": 23,
   "id": "86a83240",
   "metadata": {},
   "outputs": [],
   "source": [
    "df_sample['stream'] = df_sample['UniqueId'].str[0:3]"
   ]
  },
  {
   "cell_type": "code",
   "execution_count": 24,
   "id": "ff10bf51",
   "metadata": {},
   "outputs": [
    {
     "data": {
      "text/html": [
       "<div>\n",
       "<style scoped>\n",
       "    .dataframe tbody tr th:only-of-type {\n",
       "        vertical-align: middle;\n",
       "    }\n",
       "\n",
       "    .dataframe tbody tr th {\n",
       "        vertical-align: top;\n",
       "    }\n",
       "\n",
       "    .dataframe thead th {\n",
       "        text-align: right;\n",
       "    }\n",
       "</style>\n",
       "<table border=\"1\" class=\"dataframe\">\n",
       "  <thead>\n",
       "    <tr style=\"text-align: right;\">\n",
       "      <th></th>\n",
       "      <th>UniqueId</th>\n",
       "      <th>Name</th>\n",
       "      <th>Mark</th>\n",
       "      <th>stream</th>\n",
       "    </tr>\n",
       "  </thead>\n",
       "  <tbody>\n",
       "    <tr>\n",
       "      <th>Row1</th>\n",
       "      <td>E0115478</td>\n",
       "      <td>A</td>\n",
       "      <td>40</td>\n",
       "      <td>E01</td>\n",
       "    </tr>\n",
       "    <tr>\n",
       "      <th>Row2</th>\n",
       "      <td>E0245678</td>\n",
       "      <td>B</td>\n",
       "      <td>30</td>\n",
       "      <td>E02</td>\n",
       "    </tr>\n",
       "    <tr>\n",
       "      <th>Row3</th>\n",
       "      <td>E0357813</td>\n",
       "      <td>C</td>\n",
       "      <td>40</td>\n",
       "      <td>E03</td>\n",
       "    </tr>\n",
       "    <tr>\n",
       "      <th>Row4</th>\n",
       "      <td>E0478945</td>\n",
       "      <td>D</td>\n",
       "      <td>50</td>\n",
       "      <td>E04</td>\n",
       "    </tr>\n",
       "  </tbody>\n",
       "</table>\n",
       "</div>"
      ],
      "text/plain": [
       "      UniqueId Name Mark stream\n",
       "Row1  E0115478    A   40    E01\n",
       "Row2  E0245678    B   30    E02\n",
       "Row3  E0357813    C   40    E03\n",
       "Row4  E0478945    D   50    E04"
      ]
     },
     "execution_count": 24,
     "metadata": {},
     "output_type": "execute_result"
    }
   ],
   "source": [
    "df_sample"
   ]
  },
  {
   "cell_type": "code",
   "execution_count": 25,
   "id": "4f6f48be",
   "metadata": {},
   "outputs": [],
   "source": [
    "dic = {\"E01\":\"AIML\",\"E02\":\"Cyber\",\"E03\":\"AIDA\",\"E04\":\"Bio-Med\"}"
   ]
  },
  {
   "cell_type": "code",
   "execution_count": 26,
   "id": "e65a5160",
   "metadata": {},
   "outputs": [],
   "source": [
    "df_sample[\"Department\"] = df_sample['stream'].map(dic)"
   ]
  },
  {
   "cell_type": "code",
   "execution_count": 27,
   "id": "57e17f06",
   "metadata": {},
   "outputs": [
    {
     "data": {
      "text/html": [
       "<div>\n",
       "<style scoped>\n",
       "    .dataframe tbody tr th:only-of-type {\n",
       "        vertical-align: middle;\n",
       "    }\n",
       "\n",
       "    .dataframe tbody tr th {\n",
       "        vertical-align: top;\n",
       "    }\n",
       "\n",
       "    .dataframe thead th {\n",
       "        text-align: right;\n",
       "    }\n",
       "</style>\n",
       "<table border=\"1\" class=\"dataframe\">\n",
       "  <thead>\n",
       "    <tr style=\"text-align: right;\">\n",
       "      <th></th>\n",
       "      <th>UniqueId</th>\n",
       "      <th>Name</th>\n",
       "      <th>Mark</th>\n",
       "      <th>stream</th>\n",
       "      <th>Department</th>\n",
       "    </tr>\n",
       "  </thead>\n",
       "  <tbody>\n",
       "    <tr>\n",
       "      <th>Row1</th>\n",
       "      <td>E0115478</td>\n",
       "      <td>A</td>\n",
       "      <td>40</td>\n",
       "      <td>E01</td>\n",
       "      <td>AIML</td>\n",
       "    </tr>\n",
       "    <tr>\n",
       "      <th>Row2</th>\n",
       "      <td>E0245678</td>\n",
       "      <td>B</td>\n",
       "      <td>30</td>\n",
       "      <td>E02</td>\n",
       "      <td>Cyber</td>\n",
       "    </tr>\n",
       "    <tr>\n",
       "      <th>Row3</th>\n",
       "      <td>E0357813</td>\n",
       "      <td>C</td>\n",
       "      <td>40</td>\n",
       "      <td>E03</td>\n",
       "      <td>AIDA</td>\n",
       "    </tr>\n",
       "    <tr>\n",
       "      <th>Row4</th>\n",
       "      <td>E0478945</td>\n",
       "      <td>D</td>\n",
       "      <td>50</td>\n",
       "      <td>E04</td>\n",
       "      <td>Bio-Med</td>\n",
       "    </tr>\n",
       "  </tbody>\n",
       "</table>\n",
       "</div>"
      ],
      "text/plain": [
       "      UniqueId Name Mark stream Department\n",
       "Row1  E0115478    A   40    E01       AIML\n",
       "Row2  E0245678    B   30    E02      Cyber\n",
       "Row3  E0357813    C   40    E03       AIDA\n",
       "Row4  E0478945    D   50    E04    Bio-Med"
      ]
     },
     "execution_count": 27,
     "metadata": {},
     "output_type": "execute_result"
    }
   ],
   "source": [
    "df_sample"
   ]
  },
  {
   "cell_type": "code",
   "execution_count": 29,
   "id": "8f3c2083",
   "metadata": {},
   "outputs": [],
   "source": [
    "import numpy as np"
   ]
  },
  {
   "cell_type": "code",
   "execution_count": 66,
   "id": "58341e67",
   "metadata": {},
   "outputs": [],
   "source": [
    "arr = np.arange(1,21).reshape(4,5)"
   ]
  },
  {
   "cell_type": "code",
   "execution_count": 67,
   "id": "b1d08cea",
   "metadata": {},
   "outputs": [],
   "source": [
    "df_sample = pd.DataFrame(arr,index = ['ROW1','ROW2','ROW3','ROW4'],columns=['COL1','COL2','COL3','COL4','COL5'])"
   ]
  },
  {
   "cell_type": "code",
   "execution_count": 68,
   "id": "1ce4dc2c",
   "metadata": {},
   "outputs": [
    {
     "data": {
      "text/html": [
       "<div>\n",
       "<style scoped>\n",
       "    .dataframe tbody tr th:only-of-type {\n",
       "        vertical-align: middle;\n",
       "    }\n",
       "\n",
       "    .dataframe tbody tr th {\n",
       "        vertical-align: top;\n",
       "    }\n",
       "\n",
       "    .dataframe thead th {\n",
       "        text-align: right;\n",
       "    }\n",
       "</style>\n",
       "<table border=\"1\" class=\"dataframe\">\n",
       "  <thead>\n",
       "    <tr style=\"text-align: right;\">\n",
       "      <th></th>\n",
       "      <th>COL1</th>\n",
       "      <th>COL2</th>\n",
       "      <th>COL3</th>\n",
       "      <th>COL4</th>\n",
       "      <th>COL5</th>\n",
       "    </tr>\n",
       "  </thead>\n",
       "  <tbody>\n",
       "    <tr>\n",
       "      <th>ROW1</th>\n",
       "      <td>1</td>\n",
       "      <td>2</td>\n",
       "      <td>3</td>\n",
       "      <td>4</td>\n",
       "      <td>5</td>\n",
       "    </tr>\n",
       "    <tr>\n",
       "      <th>ROW2</th>\n",
       "      <td>6</td>\n",
       "      <td>7</td>\n",
       "      <td>8</td>\n",
       "      <td>9</td>\n",
       "      <td>10</td>\n",
       "    </tr>\n",
       "    <tr>\n",
       "      <th>ROW3</th>\n",
       "      <td>11</td>\n",
       "      <td>12</td>\n",
       "      <td>13</td>\n",
       "      <td>14</td>\n",
       "      <td>15</td>\n",
       "    </tr>\n",
       "    <tr>\n",
       "      <th>ROW4</th>\n",
       "      <td>16</td>\n",
       "      <td>17</td>\n",
       "      <td>18</td>\n",
       "      <td>19</td>\n",
       "      <td>20</td>\n",
       "    </tr>\n",
       "  </tbody>\n",
       "</table>\n",
       "</div>"
      ],
      "text/plain": [
       "      COL1  COL2  COL3  COL4  COL5\n",
       "ROW1     1     2     3     4     5\n",
       "ROW2     6     7     8     9    10\n",
       "ROW3    11    12    13    14    15\n",
       "ROW4    16    17    18    19    20"
      ]
     },
     "execution_count": 68,
     "metadata": {},
     "output_type": "execute_result"
    }
   ],
   "source": [
    "df_sample"
   ]
  },
  {
   "cell_type": "code",
   "execution_count": 69,
   "id": "32baac07",
   "metadata": {},
   "outputs": [],
   "source": [
    "for column in df_sample.columns:\n",
    "    df_sample[column] = df_sample[column]/df_sample[column].max()"
   ]
  },
  {
   "cell_type": "code",
   "execution_count": 70,
   "id": "c1691e6b",
   "metadata": {},
   "outputs": [
    {
     "data": {
      "text/html": [
       "<div>\n",
       "<style scoped>\n",
       "    .dataframe tbody tr th:only-of-type {\n",
       "        vertical-align: middle;\n",
       "    }\n",
       "\n",
       "    .dataframe tbody tr th {\n",
       "        vertical-align: top;\n",
       "    }\n",
       "\n",
       "    .dataframe thead th {\n",
       "        text-align: right;\n",
       "    }\n",
       "</style>\n",
       "<table border=\"1\" class=\"dataframe\">\n",
       "  <thead>\n",
       "    <tr style=\"text-align: right;\">\n",
       "      <th></th>\n",
       "      <th>COL1</th>\n",
       "      <th>COL2</th>\n",
       "      <th>COL3</th>\n",
       "      <th>COL4</th>\n",
       "      <th>COL5</th>\n",
       "    </tr>\n",
       "  </thead>\n",
       "  <tbody>\n",
       "    <tr>\n",
       "      <th>ROW1</th>\n",
       "      <td>0.0625</td>\n",
       "      <td>0.117647</td>\n",
       "      <td>0.166667</td>\n",
       "      <td>0.210526</td>\n",
       "      <td>0.25</td>\n",
       "    </tr>\n",
       "    <tr>\n",
       "      <th>ROW2</th>\n",
       "      <td>0.3750</td>\n",
       "      <td>0.411765</td>\n",
       "      <td>0.444444</td>\n",
       "      <td>0.473684</td>\n",
       "      <td>0.50</td>\n",
       "    </tr>\n",
       "    <tr>\n",
       "      <th>ROW3</th>\n",
       "      <td>0.6875</td>\n",
       "      <td>0.705882</td>\n",
       "      <td>0.722222</td>\n",
       "      <td>0.736842</td>\n",
       "      <td>0.75</td>\n",
       "    </tr>\n",
       "    <tr>\n",
       "      <th>ROW4</th>\n",
       "      <td>1.0000</td>\n",
       "      <td>1.000000</td>\n",
       "      <td>1.000000</td>\n",
       "      <td>1.000000</td>\n",
       "      <td>1.00</td>\n",
       "    </tr>\n",
       "  </tbody>\n",
       "</table>\n",
       "</div>"
      ],
      "text/plain": [
       "        COL1      COL2      COL3      COL4  COL5\n",
       "ROW1  0.0625  0.117647  0.166667  0.210526  0.25\n",
       "ROW2  0.3750  0.411765  0.444444  0.473684  0.50\n",
       "ROW3  0.6875  0.705882  0.722222  0.736842  0.75\n",
       "ROW4  1.0000  1.000000  1.000000  1.000000  1.00"
      ]
     },
     "execution_count": 70,
     "metadata": {},
     "output_type": "execute_result"
    }
   ],
   "source": [
    "df_sample"
   ]
  },
  {
   "cell_type": "code",
   "execution_count": null,
   "id": "5db28fb2",
   "metadata": {},
   "outputs": [],
   "source": [
    "Normalization\n",
    "#done\n",
    "value/maxValue\n",
    "#yet to be done\n",
    "(min-value)/(max-min)\n",
    "Standardization\n",
    "(value-mean)/std"
   ]
  }
 ],
 "metadata": {
  "kernelspec": {
   "display_name": "Python 3 (ipykernel)",
   "language": "python",
   "name": "python3"
  },
  "language_info": {
   "codemirror_mode": {
    "name": "ipython",
    "version": 3
   },
   "file_extension": ".py",
   "mimetype": "text/x-python",
   "name": "python",
   "nbconvert_exporter": "python",
   "pygments_lexer": "ipython3",
   "version": "3.9.12"
  }
 },
 "nbformat": 4,
 "nbformat_minor": 5
}
