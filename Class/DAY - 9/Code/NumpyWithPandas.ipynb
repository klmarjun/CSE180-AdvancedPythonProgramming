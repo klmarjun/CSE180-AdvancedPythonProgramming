{
 "cells": [
  {
   "cell_type": "code",
   "execution_count": 1,
   "id": "ef38b275",
   "metadata": {},
   "outputs": [],
   "source": [
    "import pandas as pd\n",
    "import numpy as np"
   ]
  },
  {
   "cell_type": "markdown",
   "id": "66ee4f75",
   "metadata": {},
   "source": [
    "<b style=\"font-size:40px;color:#f51010\">Creating a DataFrame using numpy and pandas</b>"
   ]
  },
  {
   "cell_type": "markdown",
   "id": "23489900",
   "metadata": {},
   "source": [
    "<h3>Columns</h3>\n",
    "<ul>\n",
    "<li>\n",
    "Name\n",
    "</li>\n",
    "<li>\n",
    "Gender\n",
    "</li>\n",
    "<li>\n",
    "Subject\n",
    "</li>\n",
    "<li>\n",
    "Department\n",
    "</li>\n",
    "<li>\n",
    "Mark\n",
    "</li>"
   ]
  },
  {
   "cell_type": "code",
   "execution_count": 12,
   "id": "d301089c",
   "metadata": {},
   "outputs": [],
   "source": [
    "#Creating a array 'name' for the df\n",
    "n=np.array([\"S{0}\".format(i) for i in range(1,101)])"
   ]
  },
  {
   "cell_type": "code",
   "execution_count": 13,
   "id": "120ce214",
   "metadata": {},
   "outputs": [
    {
     "data": {
      "text/plain": [
       "array(['S1', 'S2', 'S3', 'S4', 'S5', 'S6', 'S7', 'S8', 'S9', 'S10', 'S11',\n",
       "       'S12', 'S13', 'S14', 'S15', 'S16', 'S17', 'S18', 'S19', 'S20',\n",
       "       'S21', 'S22', 'S23', 'S24', 'S25', 'S26', 'S27', 'S28', 'S29',\n",
       "       'S30', 'S31', 'S32', 'S33', 'S34', 'S35', 'S36', 'S37', 'S38',\n",
       "       'S39', 'S40', 'S41', 'S42', 'S43', 'S44', 'S45', 'S46', 'S47',\n",
       "       'S48', 'S49', 'S50', 'S51', 'S52', 'S53', 'S54', 'S55', 'S56',\n",
       "       'S57', 'S58', 'S59', 'S60', 'S61', 'S62', 'S63', 'S64', 'S65',\n",
       "       'S66', 'S67', 'S68', 'S69', 'S70', 'S71', 'S72', 'S73', 'S74',\n",
       "       'S75', 'S76', 'S77', 'S78', 'S79', 'S80', 'S81', 'S82', 'S83',\n",
       "       'S84', 'S85', 'S86', 'S87', 'S88', 'S89', 'S90', 'S91', 'S92',\n",
       "       'S93', 'S94', 'S95', 'S96', 'S97', 'S98', 'S99', 'S100'],\n",
       "      dtype='<U4')"
      ]
     },
     "execution_count": 13,
     "metadata": {},
     "output_type": "execute_result"
    }
   ],
   "source": [
    "#Viewing the values present in N\n",
    "n"
   ]
  },
  {
   "cell_type": "code",
   "execution_count": 15,
   "id": "9cb59a86",
   "metadata": {},
   "outputs": [],
   "source": [
    "#Duplicating the values \n",
    "n=np.repeat(n,3)"
   ]
  },
  {
   "cell_type": "code",
   "execution_count": 16,
   "id": "56d249f6",
   "metadata": {},
   "outputs": [
    {
     "data": {
      "text/plain": [
       "array(['S1', 'S1', 'S1', 'S2', 'S2', 'S2', 'S3', 'S3', 'S3', 'S4', 'S4',\n",
       "       'S4', 'S5', 'S5', 'S5', 'S6', 'S6', 'S6', 'S7', 'S7', 'S7', 'S8',\n",
       "       'S8', 'S8', 'S9', 'S9', 'S9', 'S10', 'S10', 'S10', 'S11', 'S11',\n",
       "       'S11', 'S12', 'S12', 'S12', 'S13', 'S13', 'S13', 'S14', 'S14',\n",
       "       'S14', 'S15', 'S15', 'S15', 'S16', 'S16', 'S16', 'S17', 'S17',\n",
       "       'S17', 'S18', 'S18', 'S18', 'S19', 'S19', 'S19', 'S20', 'S20',\n",
       "       'S20', 'S21', 'S21', 'S21', 'S22', 'S22', 'S22', 'S23', 'S23',\n",
       "       'S23', 'S24', 'S24', 'S24', 'S25', 'S25', 'S25', 'S26', 'S26',\n",
       "       'S26', 'S27', 'S27', 'S27', 'S28', 'S28', 'S28', 'S29', 'S29',\n",
       "       'S29', 'S30', 'S30', 'S30', 'S31', 'S31', 'S31', 'S32', 'S32',\n",
       "       'S32', 'S33', 'S33', 'S33', 'S34', 'S34', 'S34', 'S35', 'S35',\n",
       "       'S35', 'S36', 'S36', 'S36', 'S37', 'S37', 'S37', 'S38', 'S38',\n",
       "       'S38', 'S39', 'S39', 'S39', 'S40', 'S40', 'S40', 'S41', 'S41',\n",
       "       'S41', 'S42', 'S42', 'S42', 'S43', 'S43', 'S43', 'S44', 'S44',\n",
       "       'S44', 'S45', 'S45', 'S45', 'S46', 'S46', 'S46', 'S47', 'S47',\n",
       "       'S47', 'S48', 'S48', 'S48', 'S49', 'S49', 'S49', 'S50', 'S50',\n",
       "       'S50', 'S51', 'S51', 'S51', 'S52', 'S52', 'S52', 'S53', 'S53',\n",
       "       'S53', 'S54', 'S54', 'S54', 'S55', 'S55', 'S55', 'S56', 'S56',\n",
       "       'S56', 'S57', 'S57', 'S57', 'S58', 'S58', 'S58', 'S59', 'S59',\n",
       "       'S59', 'S60', 'S60', 'S60', 'S61', 'S61', 'S61', 'S62', 'S62',\n",
       "       'S62', 'S63', 'S63', 'S63', 'S64', 'S64', 'S64', 'S65', 'S65',\n",
       "       'S65', 'S66', 'S66', 'S66', 'S67', 'S67', 'S67', 'S68', 'S68',\n",
       "       'S68', 'S69', 'S69', 'S69', 'S70', 'S70', 'S70', 'S71', 'S71',\n",
       "       'S71', 'S72', 'S72', 'S72', 'S73', 'S73', 'S73', 'S74', 'S74',\n",
       "       'S74', 'S75', 'S75', 'S75', 'S76', 'S76', 'S76', 'S77', 'S77',\n",
       "       'S77', 'S78', 'S78', 'S78', 'S79', 'S79', 'S79', 'S80', 'S80',\n",
       "       'S80', 'S81', 'S81', 'S81', 'S82', 'S82', 'S82', 'S83', 'S83',\n",
       "       'S83', 'S84', 'S84', 'S84', 'S85', 'S85', 'S85', 'S86', 'S86',\n",
       "       'S86', 'S87', 'S87', 'S87', 'S88', 'S88', 'S88', 'S89', 'S89',\n",
       "       'S89', 'S90', 'S90', 'S90', 'S91', 'S91', 'S91', 'S92', 'S92',\n",
       "       'S92', 'S93', 'S93', 'S93', 'S94', 'S94', 'S94', 'S95', 'S95',\n",
       "       'S95', 'S96', 'S96', 'S96', 'S97', 'S97', 'S97', 'S98', 'S98',\n",
       "       'S98', 'S99', 'S99', 'S99', 'S100', 'S100', 'S100'], dtype='<U4')"
      ]
     },
     "execution_count": 16,
     "metadata": {},
     "output_type": "execute_result"
    }
   ],
   "source": [
    "#Viewing the updated values present in N\n",
    "n"
   ]
  },
  {
   "cell_type": "code",
   "execution_count": 17,
   "id": "d06d57c5",
   "metadata": {},
   "outputs": [],
   "source": [
    "#DataFrame Creation\n",
    "student_details=pd.DataFrame()"
   ]
  },
  {
   "cell_type": "code",
   "execution_count": 18,
   "id": "39122a99",
   "metadata": {},
   "outputs": [],
   "source": [
    "#Inserting the name column\n",
    "student_details['Name']=n"
   ]
  },
  {
   "cell_type": "code",
   "execution_count": 19,
   "id": "67246d13",
   "metadata": {},
   "outputs": [
    {
     "data": {
      "text/html": [
       "<div>\n",
       "<style scoped>\n",
       "    .dataframe tbody tr th:only-of-type {\n",
       "        vertical-align: middle;\n",
       "    }\n",
       "\n",
       "    .dataframe tbody tr th {\n",
       "        vertical-align: top;\n",
       "    }\n",
       "\n",
       "    .dataframe thead th {\n",
       "        text-align: right;\n",
       "    }\n",
       "</style>\n",
       "<table border=\"1\" class=\"dataframe\">\n",
       "  <thead>\n",
       "    <tr style=\"text-align: right;\">\n",
       "      <th></th>\n",
       "      <th>Name</th>\n",
       "    </tr>\n",
       "  </thead>\n",
       "  <tbody>\n",
       "    <tr>\n",
       "      <th>0</th>\n",
       "      <td>S1</td>\n",
       "    </tr>\n",
       "    <tr>\n",
       "      <th>1</th>\n",
       "      <td>S1</td>\n",
       "    </tr>\n",
       "    <tr>\n",
       "      <th>2</th>\n",
       "      <td>S1</td>\n",
       "    </tr>\n",
       "    <tr>\n",
       "      <th>3</th>\n",
       "      <td>S2</td>\n",
       "    </tr>\n",
       "    <tr>\n",
       "      <th>4</th>\n",
       "      <td>S2</td>\n",
       "    </tr>\n",
       "    <tr>\n",
       "      <th>...</th>\n",
       "      <td>...</td>\n",
       "    </tr>\n",
       "    <tr>\n",
       "      <th>295</th>\n",
       "      <td>S99</td>\n",
       "    </tr>\n",
       "    <tr>\n",
       "      <th>296</th>\n",
       "      <td>S99</td>\n",
       "    </tr>\n",
       "    <tr>\n",
       "      <th>297</th>\n",
       "      <td>S100</td>\n",
       "    </tr>\n",
       "    <tr>\n",
       "      <th>298</th>\n",
       "      <td>S100</td>\n",
       "    </tr>\n",
       "    <tr>\n",
       "      <th>299</th>\n",
       "      <td>S100</td>\n",
       "    </tr>\n",
       "  </tbody>\n",
       "</table>\n",
       "<p>300 rows × 1 columns</p>\n",
       "</div>"
      ],
      "text/plain": [
       "     Name\n",
       "0      S1\n",
       "1      S1\n",
       "2      S1\n",
       "3      S2\n",
       "4      S2\n",
       "..    ...\n",
       "295   S99\n",
       "296   S99\n",
       "297  S100\n",
       "298  S100\n",
       "299  S100\n",
       "\n",
       "[300 rows x 1 columns]"
      ]
     },
     "execution_count": 19,
     "metadata": {},
     "output_type": "execute_result"
    }
   ],
   "source": [
    "#Viewing the dataframe\n",
    "student_details"
   ]
  },
  {
   "cell_type": "code",
   "execution_count": 20,
   "id": "b2c48668",
   "metadata": {},
   "outputs": [],
   "source": [
    "# creating a column 'gender'\n",
    "g = np.random.choice(['M','F'],100)"
   ]
  },
  {
   "cell_type": "code",
   "execution_count": 21,
   "id": "5f91f724",
   "metadata": {},
   "outputs": [
    {
     "data": {
      "text/plain": [
       "array(['F', 'M', 'M', 'M', 'M', 'F', 'M', 'F', 'M', 'F', 'M', 'M', 'M',\n",
       "       'F', 'M', 'M', 'F', 'M', 'F', 'F', 'F', 'M', 'F', 'F', 'M', 'F',\n",
       "       'F', 'M', 'M', 'M', 'M', 'M', 'M', 'F', 'M', 'F', 'M', 'M', 'F',\n",
       "       'F', 'F', 'F', 'F', 'M', 'F', 'F', 'M', 'F', 'M', 'M', 'M', 'M',\n",
       "       'F', 'M', 'F', 'F', 'M', 'M', 'F', 'M', 'F', 'F', 'M', 'F', 'F',\n",
       "       'M', 'F', 'M', 'M', 'M', 'F', 'M', 'M', 'F', 'F', 'M', 'F', 'F',\n",
       "       'F', 'M', 'F', 'M', 'M', 'M', 'F', 'F', 'M', 'F', 'F', 'F', 'M',\n",
       "       'M', 'F', 'M', 'F', 'F', 'F', 'F', 'M', 'F'], dtype='<U1')"
      ]
     },
     "execution_count": 21,
     "metadata": {},
     "output_type": "execute_result"
    }
   ],
   "source": [
    "#Viewing the values present in it\n",
    "g"
   ]
  },
  {
   "cell_type": "code",
   "execution_count": 22,
   "id": "d150527a",
   "metadata": {},
   "outputs": [],
   "source": [
    "#Duplicating the Values\n",
    "g=np.repeat(g,3)"
   ]
  },
  {
   "cell_type": "code",
   "execution_count": 23,
   "id": "7f34d722",
   "metadata": {},
   "outputs": [
    {
     "data": {
      "text/plain": [
       "array(['F', 'F', 'F', 'M', 'M', 'M', 'M', 'M', 'M', 'M', 'M', 'M', 'M',\n",
       "       'M', 'M', 'F', 'F', 'F', 'M', 'M', 'M', 'F', 'F', 'F', 'M', 'M',\n",
       "       'M', 'F', 'F', 'F', 'M', 'M', 'M', 'M', 'M', 'M', 'M', 'M', 'M',\n",
       "       'F', 'F', 'F', 'M', 'M', 'M', 'M', 'M', 'M', 'F', 'F', 'F', 'M',\n",
       "       'M', 'M', 'F', 'F', 'F', 'F', 'F', 'F', 'F', 'F', 'F', 'M', 'M',\n",
       "       'M', 'F', 'F', 'F', 'F', 'F', 'F', 'M', 'M', 'M', 'F', 'F', 'F',\n",
       "       'F', 'F', 'F', 'M', 'M', 'M', 'M', 'M', 'M', 'M', 'M', 'M', 'M',\n",
       "       'M', 'M', 'M', 'M', 'M', 'M', 'M', 'M', 'F', 'F', 'F', 'M', 'M',\n",
       "       'M', 'F', 'F', 'F', 'M', 'M', 'M', 'M', 'M', 'M', 'F', 'F', 'F',\n",
       "       'F', 'F', 'F', 'F', 'F', 'F', 'F', 'F', 'F', 'F', 'F', 'F', 'M',\n",
       "       'M', 'M', 'F', 'F', 'F', 'F', 'F', 'F', 'M', 'M', 'M', 'F', 'F',\n",
       "       'F', 'M', 'M', 'M', 'M', 'M', 'M', 'M', 'M', 'M', 'M', 'M', 'M',\n",
       "       'F', 'F', 'F', 'M', 'M', 'M', 'F', 'F', 'F', 'F', 'F', 'F', 'M',\n",
       "       'M', 'M', 'M', 'M', 'M', 'F', 'F', 'F', 'M', 'M', 'M', 'F', 'F',\n",
       "       'F', 'F', 'F', 'F', 'M', 'M', 'M', 'F', 'F', 'F', 'F', 'F', 'F',\n",
       "       'M', 'M', 'M', 'F', 'F', 'F', 'M', 'M', 'M', 'M', 'M', 'M', 'M',\n",
       "       'M', 'M', 'F', 'F', 'F', 'M', 'M', 'M', 'M', 'M', 'M', 'F', 'F',\n",
       "       'F', 'F', 'F', 'F', 'M', 'M', 'M', 'F', 'F', 'F', 'F', 'F', 'F',\n",
       "       'F', 'F', 'F', 'M', 'M', 'M', 'F', 'F', 'F', 'M', 'M', 'M', 'M',\n",
       "       'M', 'M', 'M', 'M', 'M', 'F', 'F', 'F', 'F', 'F', 'F', 'M', 'M',\n",
       "       'M', 'F', 'F', 'F', 'F', 'F', 'F', 'F', 'F', 'F', 'M', 'M', 'M',\n",
       "       'M', 'M', 'M', 'F', 'F', 'F', 'M', 'M', 'M', 'F', 'F', 'F', 'F',\n",
       "       'F', 'F', 'F', 'F', 'F', 'F', 'F', 'F', 'M', 'M', 'M', 'F', 'F',\n",
       "       'F'], dtype='<U1')"
      ]
     },
     "execution_count": 23,
     "metadata": {},
     "output_type": "execute_result"
    }
   ],
   "source": [
    "#Viewing the updated values present in it\n",
    "g"
   ]
  },
  {
   "cell_type": "code",
   "execution_count": 24,
   "id": "e7221506",
   "metadata": {},
   "outputs": [],
   "source": [
    "#Inserting it into the Dataframe\n",
    "student_details['Gender']=g"
   ]
  },
  {
   "cell_type": "code",
   "execution_count": 25,
   "id": "b04cd649",
   "metadata": {},
   "outputs": [
    {
     "data": {
      "text/html": [
       "<div>\n",
       "<style scoped>\n",
       "    .dataframe tbody tr th:only-of-type {\n",
       "        vertical-align: middle;\n",
       "    }\n",
       "\n",
       "    .dataframe tbody tr th {\n",
       "        vertical-align: top;\n",
       "    }\n",
       "\n",
       "    .dataframe thead th {\n",
       "        text-align: right;\n",
       "    }\n",
       "</style>\n",
       "<table border=\"1\" class=\"dataframe\">\n",
       "  <thead>\n",
       "    <tr style=\"text-align: right;\">\n",
       "      <th></th>\n",
       "      <th>Name</th>\n",
       "      <th>Gender</th>\n",
       "    </tr>\n",
       "  </thead>\n",
       "  <tbody>\n",
       "    <tr>\n",
       "      <th>0</th>\n",
       "      <td>S1</td>\n",
       "      <td>F</td>\n",
       "    </tr>\n",
       "    <tr>\n",
       "      <th>1</th>\n",
       "      <td>S1</td>\n",
       "      <td>F</td>\n",
       "    </tr>\n",
       "    <tr>\n",
       "      <th>2</th>\n",
       "      <td>S1</td>\n",
       "      <td>F</td>\n",
       "    </tr>\n",
       "    <tr>\n",
       "      <th>3</th>\n",
       "      <td>S2</td>\n",
       "      <td>M</td>\n",
       "    </tr>\n",
       "    <tr>\n",
       "      <th>4</th>\n",
       "      <td>S2</td>\n",
       "      <td>M</td>\n",
       "    </tr>\n",
       "    <tr>\n",
       "      <th>...</th>\n",
       "      <td>...</td>\n",
       "      <td>...</td>\n",
       "    </tr>\n",
       "    <tr>\n",
       "      <th>295</th>\n",
       "      <td>S99</td>\n",
       "      <td>M</td>\n",
       "    </tr>\n",
       "    <tr>\n",
       "      <th>296</th>\n",
       "      <td>S99</td>\n",
       "      <td>M</td>\n",
       "    </tr>\n",
       "    <tr>\n",
       "      <th>297</th>\n",
       "      <td>S100</td>\n",
       "      <td>F</td>\n",
       "    </tr>\n",
       "    <tr>\n",
       "      <th>298</th>\n",
       "      <td>S100</td>\n",
       "      <td>F</td>\n",
       "    </tr>\n",
       "    <tr>\n",
       "      <th>299</th>\n",
       "      <td>S100</td>\n",
       "      <td>F</td>\n",
       "    </tr>\n",
       "  </tbody>\n",
       "</table>\n",
       "<p>300 rows × 2 columns</p>\n",
       "</div>"
      ],
      "text/plain": [
       "     Name Gender\n",
       "0      S1      F\n",
       "1      S1      F\n",
       "2      S1      F\n",
       "3      S2      M\n",
       "4      S2      M\n",
       "..    ...    ...\n",
       "295   S99      M\n",
       "296   S99      M\n",
       "297  S100      F\n",
       "298  S100      F\n",
       "299  S100      F\n",
       "\n",
       "[300 rows x 2 columns]"
      ]
     },
     "execution_count": 25,
     "metadata": {},
     "output_type": "execute_result"
    }
   ],
   "source": [
    "#Viewing the Dataframe\n",
    "student_details"
   ]
  },
  {
   "cell_type": "code",
   "execution_count": 32,
   "id": "b85999c3",
   "metadata": {},
   "outputs": [],
   "source": [
    "#Creating a column 'Subject'\n",
    "s=np.array([['Python','C','Java'] for i in range(100)])"
   ]
  },
  {
   "cell_type": "code",
   "execution_count": 33,
   "id": "a5979d51",
   "metadata": {},
   "outputs": [
    {
     "data": {
      "text/plain": [
       "array([['Python', 'C', 'Java'],\n",
       "       ['Python', 'C', 'Java'],\n",
       "       ['Python', 'C', 'Java'],\n",
       "       ['Python', 'C', 'Java'],\n",
       "       ['Python', 'C', 'Java'],\n",
       "       ['Python', 'C', 'Java'],\n",
       "       ['Python', 'C', 'Java'],\n",
       "       ['Python', 'C', 'Java'],\n",
       "       ['Python', 'C', 'Java'],\n",
       "       ['Python', 'C', 'Java'],\n",
       "       ['Python', 'C', 'Java'],\n",
       "       ['Python', 'C', 'Java'],\n",
       "       ['Python', 'C', 'Java'],\n",
       "       ['Python', 'C', 'Java'],\n",
       "       ['Python', 'C', 'Java'],\n",
       "       ['Python', 'C', 'Java'],\n",
       "       ['Python', 'C', 'Java'],\n",
       "       ['Python', 'C', 'Java'],\n",
       "       ['Python', 'C', 'Java'],\n",
       "       ['Python', 'C', 'Java'],\n",
       "       ['Python', 'C', 'Java'],\n",
       "       ['Python', 'C', 'Java'],\n",
       "       ['Python', 'C', 'Java'],\n",
       "       ['Python', 'C', 'Java'],\n",
       "       ['Python', 'C', 'Java'],\n",
       "       ['Python', 'C', 'Java'],\n",
       "       ['Python', 'C', 'Java'],\n",
       "       ['Python', 'C', 'Java'],\n",
       "       ['Python', 'C', 'Java'],\n",
       "       ['Python', 'C', 'Java'],\n",
       "       ['Python', 'C', 'Java'],\n",
       "       ['Python', 'C', 'Java'],\n",
       "       ['Python', 'C', 'Java'],\n",
       "       ['Python', 'C', 'Java'],\n",
       "       ['Python', 'C', 'Java'],\n",
       "       ['Python', 'C', 'Java'],\n",
       "       ['Python', 'C', 'Java'],\n",
       "       ['Python', 'C', 'Java'],\n",
       "       ['Python', 'C', 'Java'],\n",
       "       ['Python', 'C', 'Java'],\n",
       "       ['Python', 'C', 'Java'],\n",
       "       ['Python', 'C', 'Java'],\n",
       "       ['Python', 'C', 'Java'],\n",
       "       ['Python', 'C', 'Java'],\n",
       "       ['Python', 'C', 'Java'],\n",
       "       ['Python', 'C', 'Java'],\n",
       "       ['Python', 'C', 'Java'],\n",
       "       ['Python', 'C', 'Java'],\n",
       "       ['Python', 'C', 'Java'],\n",
       "       ['Python', 'C', 'Java'],\n",
       "       ['Python', 'C', 'Java'],\n",
       "       ['Python', 'C', 'Java'],\n",
       "       ['Python', 'C', 'Java'],\n",
       "       ['Python', 'C', 'Java'],\n",
       "       ['Python', 'C', 'Java'],\n",
       "       ['Python', 'C', 'Java'],\n",
       "       ['Python', 'C', 'Java'],\n",
       "       ['Python', 'C', 'Java'],\n",
       "       ['Python', 'C', 'Java'],\n",
       "       ['Python', 'C', 'Java'],\n",
       "       ['Python', 'C', 'Java'],\n",
       "       ['Python', 'C', 'Java'],\n",
       "       ['Python', 'C', 'Java'],\n",
       "       ['Python', 'C', 'Java'],\n",
       "       ['Python', 'C', 'Java'],\n",
       "       ['Python', 'C', 'Java'],\n",
       "       ['Python', 'C', 'Java'],\n",
       "       ['Python', 'C', 'Java'],\n",
       "       ['Python', 'C', 'Java'],\n",
       "       ['Python', 'C', 'Java'],\n",
       "       ['Python', 'C', 'Java'],\n",
       "       ['Python', 'C', 'Java'],\n",
       "       ['Python', 'C', 'Java'],\n",
       "       ['Python', 'C', 'Java'],\n",
       "       ['Python', 'C', 'Java'],\n",
       "       ['Python', 'C', 'Java'],\n",
       "       ['Python', 'C', 'Java'],\n",
       "       ['Python', 'C', 'Java'],\n",
       "       ['Python', 'C', 'Java'],\n",
       "       ['Python', 'C', 'Java'],\n",
       "       ['Python', 'C', 'Java'],\n",
       "       ['Python', 'C', 'Java'],\n",
       "       ['Python', 'C', 'Java'],\n",
       "       ['Python', 'C', 'Java'],\n",
       "       ['Python', 'C', 'Java'],\n",
       "       ['Python', 'C', 'Java'],\n",
       "       ['Python', 'C', 'Java'],\n",
       "       ['Python', 'C', 'Java'],\n",
       "       ['Python', 'C', 'Java'],\n",
       "       ['Python', 'C', 'Java'],\n",
       "       ['Python', 'C', 'Java'],\n",
       "       ['Python', 'C', 'Java'],\n",
       "       ['Python', 'C', 'Java'],\n",
       "       ['Python', 'C', 'Java'],\n",
       "       ['Python', 'C', 'Java'],\n",
       "       ['Python', 'C', 'Java'],\n",
       "       ['Python', 'C', 'Java'],\n",
       "       ['Python', 'C', 'Java'],\n",
       "       ['Python', 'C', 'Java'],\n",
       "       ['Python', 'C', 'Java']], dtype='<U6')"
      ]
     },
     "execution_count": 33,
     "metadata": {},
     "output_type": "execute_result"
    }
   ],
   "source": [
    "#Viewing the values present in it\n",
    "s"
   ]
  },
  {
   "cell_type": "code",
   "execution_count": 35,
   "id": "75866f3c",
   "metadata": {},
   "outputs": [],
   "source": [
    "#Flattening it to a 1d array\n",
    "s.shape=(300,)"
   ]
  },
  {
   "cell_type": "code",
   "execution_count": 36,
   "id": "e57545d2",
   "metadata": {},
   "outputs": [
    {
     "data": {
      "text/plain": [
       "array(['Python', 'C', 'Java', 'Python', 'C', 'Java', 'Python', 'C',\n",
       "       'Java', 'Python', 'C', 'Java', 'Python', 'C', 'Java', 'Python',\n",
       "       'C', 'Java', 'Python', 'C', 'Java', 'Python', 'C', 'Java',\n",
       "       'Python', 'C', 'Java', 'Python', 'C', 'Java', 'Python', 'C',\n",
       "       'Java', 'Python', 'C', 'Java', 'Python', 'C', 'Java', 'Python',\n",
       "       'C', 'Java', 'Python', 'C', 'Java', 'Python', 'C', 'Java',\n",
       "       'Python', 'C', 'Java', 'Python', 'C', 'Java', 'Python', 'C',\n",
       "       'Java', 'Python', 'C', 'Java', 'Python', 'C', 'Java', 'Python',\n",
       "       'C', 'Java', 'Python', 'C', 'Java', 'Python', 'C', 'Java',\n",
       "       'Python', 'C', 'Java', 'Python', 'C', 'Java', 'Python', 'C',\n",
       "       'Java', 'Python', 'C', 'Java', 'Python', 'C', 'Java', 'Python',\n",
       "       'C', 'Java', 'Python', 'C', 'Java', 'Python', 'C', 'Java',\n",
       "       'Python', 'C', 'Java', 'Python', 'C', 'Java', 'Python', 'C',\n",
       "       'Java', 'Python', 'C', 'Java', 'Python', 'C', 'Java', 'Python',\n",
       "       'C', 'Java', 'Python', 'C', 'Java', 'Python', 'C', 'Java',\n",
       "       'Python', 'C', 'Java', 'Python', 'C', 'Java', 'Python', 'C',\n",
       "       'Java', 'Python', 'C', 'Java', 'Python', 'C', 'Java', 'Python',\n",
       "       'C', 'Java', 'Python', 'C', 'Java', 'Python', 'C', 'Java',\n",
       "       'Python', 'C', 'Java', 'Python', 'C', 'Java', 'Python', 'C',\n",
       "       'Java', 'Python', 'C', 'Java', 'Python', 'C', 'Java', 'Python',\n",
       "       'C', 'Java', 'Python', 'C', 'Java', 'Python', 'C', 'Java',\n",
       "       'Python', 'C', 'Java', 'Python', 'C', 'Java', 'Python', 'C',\n",
       "       'Java', 'Python', 'C', 'Java', 'Python', 'C', 'Java', 'Python',\n",
       "       'C', 'Java', 'Python', 'C', 'Java', 'Python', 'C', 'Java',\n",
       "       'Python', 'C', 'Java', 'Python', 'C', 'Java', 'Python', 'C',\n",
       "       'Java', 'Python', 'C', 'Java', 'Python', 'C', 'Java', 'Python',\n",
       "       'C', 'Java', 'Python', 'C', 'Java', 'Python', 'C', 'Java',\n",
       "       'Python', 'C', 'Java', 'Python', 'C', 'Java', 'Python', 'C',\n",
       "       'Java', 'Python', 'C', 'Java', 'Python', 'C', 'Java', 'Python',\n",
       "       'C', 'Java', 'Python', 'C', 'Java', 'Python', 'C', 'Java',\n",
       "       'Python', 'C', 'Java', 'Python', 'C', 'Java', 'Python', 'C',\n",
       "       'Java', 'Python', 'C', 'Java', 'Python', 'C', 'Java', 'Python',\n",
       "       'C', 'Java', 'Python', 'C', 'Java', 'Python', 'C', 'Java',\n",
       "       'Python', 'C', 'Java', 'Python', 'C', 'Java', 'Python', 'C',\n",
       "       'Java', 'Python', 'C', 'Java', 'Python', 'C', 'Java', 'Python',\n",
       "       'C', 'Java', 'Python', 'C', 'Java', 'Python', 'C', 'Java',\n",
       "       'Python', 'C', 'Java', 'Python', 'C', 'Java', 'Python', 'C',\n",
       "       'Java', 'Python', 'C', 'Java'], dtype='<U6')"
      ]
     },
     "execution_count": 36,
     "metadata": {},
     "output_type": "execute_result"
    }
   ],
   "source": [
    "#Viewing the array with new dimension\n",
    "s"
   ]
  },
  {
   "cell_type": "code",
   "execution_count": 37,
   "id": "40059ff2",
   "metadata": {},
   "outputs": [],
   "source": [
    "#Inserting the column into the Dataframe\n",
    "student_details['Subject']=s"
   ]
  },
  {
   "cell_type": "code",
   "execution_count": 38,
   "id": "d90f2ce7",
   "metadata": {},
   "outputs": [
    {
     "data": {
      "text/html": [
       "<div>\n",
       "<style scoped>\n",
       "    .dataframe tbody tr th:only-of-type {\n",
       "        vertical-align: middle;\n",
       "    }\n",
       "\n",
       "    .dataframe tbody tr th {\n",
       "        vertical-align: top;\n",
       "    }\n",
       "\n",
       "    .dataframe thead th {\n",
       "        text-align: right;\n",
       "    }\n",
       "</style>\n",
       "<table border=\"1\" class=\"dataframe\">\n",
       "  <thead>\n",
       "    <tr style=\"text-align: right;\">\n",
       "      <th></th>\n",
       "      <th>Name</th>\n",
       "      <th>Gender</th>\n",
       "      <th>Subject</th>\n",
       "    </tr>\n",
       "  </thead>\n",
       "  <tbody>\n",
       "    <tr>\n",
       "      <th>0</th>\n",
       "      <td>S1</td>\n",
       "      <td>F</td>\n",
       "      <td>Python</td>\n",
       "    </tr>\n",
       "    <tr>\n",
       "      <th>1</th>\n",
       "      <td>S1</td>\n",
       "      <td>F</td>\n",
       "      <td>C</td>\n",
       "    </tr>\n",
       "    <tr>\n",
       "      <th>2</th>\n",
       "      <td>S1</td>\n",
       "      <td>F</td>\n",
       "      <td>Java</td>\n",
       "    </tr>\n",
       "    <tr>\n",
       "      <th>3</th>\n",
       "      <td>S2</td>\n",
       "      <td>M</td>\n",
       "      <td>Python</td>\n",
       "    </tr>\n",
       "    <tr>\n",
       "      <th>4</th>\n",
       "      <td>S2</td>\n",
       "      <td>M</td>\n",
       "      <td>C</td>\n",
       "    </tr>\n",
       "    <tr>\n",
       "      <th>...</th>\n",
       "      <td>...</td>\n",
       "      <td>...</td>\n",
       "      <td>...</td>\n",
       "    </tr>\n",
       "    <tr>\n",
       "      <th>295</th>\n",
       "      <td>S99</td>\n",
       "      <td>M</td>\n",
       "      <td>C</td>\n",
       "    </tr>\n",
       "    <tr>\n",
       "      <th>296</th>\n",
       "      <td>S99</td>\n",
       "      <td>M</td>\n",
       "      <td>Java</td>\n",
       "    </tr>\n",
       "    <tr>\n",
       "      <th>297</th>\n",
       "      <td>S100</td>\n",
       "      <td>F</td>\n",
       "      <td>Python</td>\n",
       "    </tr>\n",
       "    <tr>\n",
       "      <th>298</th>\n",
       "      <td>S100</td>\n",
       "      <td>F</td>\n",
       "      <td>C</td>\n",
       "    </tr>\n",
       "    <tr>\n",
       "      <th>299</th>\n",
       "      <td>S100</td>\n",
       "      <td>F</td>\n",
       "      <td>Java</td>\n",
       "    </tr>\n",
       "  </tbody>\n",
       "</table>\n",
       "<p>300 rows × 3 columns</p>\n",
       "</div>"
      ],
      "text/plain": [
       "     Name Gender Subject\n",
       "0      S1      F  Python\n",
       "1      S1      F       C\n",
       "2      S1      F    Java\n",
       "3      S2      M  Python\n",
       "4      S2      M       C\n",
       "..    ...    ...     ...\n",
       "295   S99      M       C\n",
       "296   S99      M    Java\n",
       "297  S100      F  Python\n",
       "298  S100      F       C\n",
       "299  S100      F    Java\n",
       "\n",
       "[300 rows x 3 columns]"
      ]
     },
     "execution_count": 38,
     "metadata": {},
     "output_type": "execute_result"
    }
   ],
   "source": [
    "#Viewing the Dataframe\n",
    "student_details"
   ]
  },
  {
   "cell_type": "code",
   "execution_count": 39,
   "id": "c6bfdc49",
   "metadata": {},
   "outputs": [],
   "source": [
    "# Creating a new Column 'Department'\n",
    "d=np.random.choice(['AIML','AIDA','CYS','MED'],100)"
   ]
  },
  {
   "cell_type": "code",
   "execution_count": 41,
   "id": "1a66fae1",
   "metadata": {},
   "outputs": [],
   "source": [
    "#Duplicating Values \n",
    "d=np.repeat(d,3)"
   ]
  },
  {
   "cell_type": "code",
   "execution_count": 42,
   "id": "d670c53a",
   "metadata": {},
   "outputs": [],
   "source": [
    "#Inserting into the Dataframe\n",
    "student_details['Department']=d"
   ]
  },
  {
   "cell_type": "code",
   "execution_count": 43,
   "id": "425a4f6c",
   "metadata": {},
   "outputs": [
    {
     "data": {
      "text/html": [
       "<div>\n",
       "<style scoped>\n",
       "    .dataframe tbody tr th:only-of-type {\n",
       "        vertical-align: middle;\n",
       "    }\n",
       "\n",
       "    .dataframe tbody tr th {\n",
       "        vertical-align: top;\n",
       "    }\n",
       "\n",
       "    .dataframe thead th {\n",
       "        text-align: right;\n",
       "    }\n",
       "</style>\n",
       "<table border=\"1\" class=\"dataframe\">\n",
       "  <thead>\n",
       "    <tr style=\"text-align: right;\">\n",
       "      <th></th>\n",
       "      <th>Name</th>\n",
       "      <th>Gender</th>\n",
       "      <th>Subject</th>\n",
       "      <th>Department</th>\n",
       "    </tr>\n",
       "  </thead>\n",
       "  <tbody>\n",
       "    <tr>\n",
       "      <th>0</th>\n",
       "      <td>S1</td>\n",
       "      <td>F</td>\n",
       "      <td>Python</td>\n",
       "      <td>MED</td>\n",
       "    </tr>\n",
       "    <tr>\n",
       "      <th>1</th>\n",
       "      <td>S1</td>\n",
       "      <td>F</td>\n",
       "      <td>C</td>\n",
       "      <td>MED</td>\n",
       "    </tr>\n",
       "    <tr>\n",
       "      <th>2</th>\n",
       "      <td>S1</td>\n",
       "      <td>F</td>\n",
       "      <td>Java</td>\n",
       "      <td>MED</td>\n",
       "    </tr>\n",
       "    <tr>\n",
       "      <th>3</th>\n",
       "      <td>S2</td>\n",
       "      <td>M</td>\n",
       "      <td>Python</td>\n",
       "      <td>CYS</td>\n",
       "    </tr>\n",
       "    <tr>\n",
       "      <th>4</th>\n",
       "      <td>S2</td>\n",
       "      <td>M</td>\n",
       "      <td>C</td>\n",
       "      <td>CYS</td>\n",
       "    </tr>\n",
       "    <tr>\n",
       "      <th>...</th>\n",
       "      <td>...</td>\n",
       "      <td>...</td>\n",
       "      <td>...</td>\n",
       "      <td>...</td>\n",
       "    </tr>\n",
       "    <tr>\n",
       "      <th>295</th>\n",
       "      <td>S99</td>\n",
       "      <td>M</td>\n",
       "      <td>C</td>\n",
       "      <td>AIDA</td>\n",
       "    </tr>\n",
       "    <tr>\n",
       "      <th>296</th>\n",
       "      <td>S99</td>\n",
       "      <td>M</td>\n",
       "      <td>Java</td>\n",
       "      <td>AIDA</td>\n",
       "    </tr>\n",
       "    <tr>\n",
       "      <th>297</th>\n",
       "      <td>S100</td>\n",
       "      <td>F</td>\n",
       "      <td>Python</td>\n",
       "      <td>AIDA</td>\n",
       "    </tr>\n",
       "    <tr>\n",
       "      <th>298</th>\n",
       "      <td>S100</td>\n",
       "      <td>F</td>\n",
       "      <td>C</td>\n",
       "      <td>AIDA</td>\n",
       "    </tr>\n",
       "    <tr>\n",
       "      <th>299</th>\n",
       "      <td>S100</td>\n",
       "      <td>F</td>\n",
       "      <td>Java</td>\n",
       "      <td>AIDA</td>\n",
       "    </tr>\n",
       "  </tbody>\n",
       "</table>\n",
       "<p>300 rows × 4 columns</p>\n",
       "</div>"
      ],
      "text/plain": [
       "     Name Gender Subject Department\n",
       "0      S1      F  Python        MED\n",
       "1      S1      F       C        MED\n",
       "2      S1      F    Java        MED\n",
       "3      S2      M  Python        CYS\n",
       "4      S2      M       C        CYS\n",
       "..    ...    ...     ...        ...\n",
       "295   S99      M       C       AIDA\n",
       "296   S99      M    Java       AIDA\n",
       "297  S100      F  Python       AIDA\n",
       "298  S100      F       C       AIDA\n",
       "299  S100      F    Java       AIDA\n",
       "\n",
       "[300 rows x 4 columns]"
      ]
     },
     "execution_count": 43,
     "metadata": {},
     "output_type": "execute_result"
    }
   ],
   "source": [
    "#Viewing the Dataframe\n",
    "student_details"
   ]
  },
  {
   "cell_type": "code",
   "execution_count": 44,
   "id": "be5de624",
   "metadata": {},
   "outputs": [],
   "source": [
    "#Creating a new Column 'Marks'\n",
    "m=np.random.randint(1,101,300)"
   ]
  },
  {
   "cell_type": "code",
   "execution_count": 45,
   "id": "d97f3bec",
   "metadata": {},
   "outputs": [],
   "source": [
    "#Inserting into the Dataframe\n",
    "student_details['Marks']=m"
   ]
  },
  {
   "cell_type": "code",
   "execution_count": 46,
   "id": "baf0d18c",
   "metadata": {},
   "outputs": [
    {
     "data": {
      "text/html": [
       "<div>\n",
       "<style scoped>\n",
       "    .dataframe tbody tr th:only-of-type {\n",
       "        vertical-align: middle;\n",
       "    }\n",
       "\n",
       "    .dataframe tbody tr th {\n",
       "        vertical-align: top;\n",
       "    }\n",
       "\n",
       "    .dataframe thead th {\n",
       "        text-align: right;\n",
       "    }\n",
       "</style>\n",
       "<table border=\"1\" class=\"dataframe\">\n",
       "  <thead>\n",
       "    <tr style=\"text-align: right;\">\n",
       "      <th></th>\n",
       "      <th>Name</th>\n",
       "      <th>Gender</th>\n",
       "      <th>Subject</th>\n",
       "      <th>Department</th>\n",
       "      <th>Marks</th>\n",
       "    </tr>\n",
       "  </thead>\n",
       "  <tbody>\n",
       "    <tr>\n",
       "      <th>0</th>\n",
       "      <td>S1</td>\n",
       "      <td>F</td>\n",
       "      <td>Python</td>\n",
       "      <td>MED</td>\n",
       "      <td>37</td>\n",
       "    </tr>\n",
       "    <tr>\n",
       "      <th>1</th>\n",
       "      <td>S1</td>\n",
       "      <td>F</td>\n",
       "      <td>C</td>\n",
       "      <td>MED</td>\n",
       "      <td>89</td>\n",
       "    </tr>\n",
       "    <tr>\n",
       "      <th>2</th>\n",
       "      <td>S1</td>\n",
       "      <td>F</td>\n",
       "      <td>Java</td>\n",
       "      <td>MED</td>\n",
       "      <td>60</td>\n",
       "    </tr>\n",
       "    <tr>\n",
       "      <th>3</th>\n",
       "      <td>S2</td>\n",
       "      <td>M</td>\n",
       "      <td>Python</td>\n",
       "      <td>CYS</td>\n",
       "      <td>74</td>\n",
       "    </tr>\n",
       "    <tr>\n",
       "      <th>4</th>\n",
       "      <td>S2</td>\n",
       "      <td>M</td>\n",
       "      <td>C</td>\n",
       "      <td>CYS</td>\n",
       "      <td>61</td>\n",
       "    </tr>\n",
       "    <tr>\n",
       "      <th>...</th>\n",
       "      <td>...</td>\n",
       "      <td>...</td>\n",
       "      <td>...</td>\n",
       "      <td>...</td>\n",
       "      <td>...</td>\n",
       "    </tr>\n",
       "    <tr>\n",
       "      <th>295</th>\n",
       "      <td>S99</td>\n",
       "      <td>M</td>\n",
       "      <td>C</td>\n",
       "      <td>AIDA</td>\n",
       "      <td>54</td>\n",
       "    </tr>\n",
       "    <tr>\n",
       "      <th>296</th>\n",
       "      <td>S99</td>\n",
       "      <td>M</td>\n",
       "      <td>Java</td>\n",
       "      <td>AIDA</td>\n",
       "      <td>93</td>\n",
       "    </tr>\n",
       "    <tr>\n",
       "      <th>297</th>\n",
       "      <td>S100</td>\n",
       "      <td>F</td>\n",
       "      <td>Python</td>\n",
       "      <td>AIDA</td>\n",
       "      <td>65</td>\n",
       "    </tr>\n",
       "    <tr>\n",
       "      <th>298</th>\n",
       "      <td>S100</td>\n",
       "      <td>F</td>\n",
       "      <td>C</td>\n",
       "      <td>AIDA</td>\n",
       "      <td>76</td>\n",
       "    </tr>\n",
       "    <tr>\n",
       "      <th>299</th>\n",
       "      <td>S100</td>\n",
       "      <td>F</td>\n",
       "      <td>Java</td>\n",
       "      <td>AIDA</td>\n",
       "      <td>29</td>\n",
       "    </tr>\n",
       "  </tbody>\n",
       "</table>\n",
       "<p>300 rows × 5 columns</p>\n",
       "</div>"
      ],
      "text/plain": [
       "     Name Gender Subject Department  Marks\n",
       "0      S1      F  Python        MED     37\n",
       "1      S1      F       C        MED     89\n",
       "2      S1      F    Java        MED     60\n",
       "3      S2      M  Python        CYS     74\n",
       "4      S2      M       C        CYS     61\n",
       "..    ...    ...     ...        ...    ...\n",
       "295   S99      M       C       AIDA     54\n",
       "296   S99      M    Java       AIDA     93\n",
       "297  S100      F  Python       AIDA     65\n",
       "298  S100      F       C       AIDA     76\n",
       "299  S100      F    Java       AIDA     29\n",
       "\n",
       "[300 rows x 5 columns]"
      ]
     },
     "execution_count": 46,
     "metadata": {},
     "output_type": "execute_result"
    }
   ],
   "source": [
    "#Viewing the Dataframe\n",
    "student_details"
   ]
  },
  {
   "cell_type": "markdown",
   "id": "ff3e308a",
   "metadata": {},
   "source": [
    "<li>What is the total for each student</li>\n",
    "<li>What is the avg mark for each student</li>\n",
    "<li>What is the avg of each dept</li>\n",
    "<li>What is the avg marks of python of each dept</li>\n",
    "<li>What is the avg mark of java for each gender</li>"
   ]
  },
  {
   "cell_type": "markdown",
   "id": "5604ef92",
   "metadata": {},
   "source": [
    "<b style=\"font-size:40px;color:#f51010\">Using Groupby functions performing some basic operations</b>"
   ]
  },
  {
   "cell_type": "code",
   "execution_count": 57,
   "id": "83c5b0e5",
   "metadata": {},
   "outputs": [],
   "source": [
    "q1= student_details.groupby(['Name'])['Marks'].sum()"
   ]
  },
  {
   "cell_type": "code",
   "execution_count": 58,
   "id": "e8400081",
   "metadata": {},
   "outputs": [
    {
     "data": {
      "text/plain": [
       "Name\n",
       "S1      186\n",
       "S10     256\n",
       "S100    170\n",
       "S11     270\n",
       "S12     117\n",
       "       ... \n",
       "S95     228\n",
       "S96     132\n",
       "S97     190\n",
       "S98     113\n",
       "S99     186\n",
       "Name: Marks, Length: 100, dtype: int32"
      ]
     },
     "execution_count": 58,
     "metadata": {},
     "output_type": "execute_result"
    }
   ],
   "source": [
    "q1"
   ]
  },
  {
   "cell_type": "code",
   "execution_count": 59,
   "id": "345d7760",
   "metadata": {},
   "outputs": [],
   "source": [
    "q2= student_details.groupby(['Name'])['Marks'].mean()"
   ]
  },
  {
   "cell_type": "code",
   "execution_count": 60,
   "id": "94be16ed",
   "metadata": {},
   "outputs": [
    {
     "data": {
      "text/plain": [
       "Name\n",
       "S1      62.000000\n",
       "S10     85.333333\n",
       "S100    56.666667\n",
       "S11     90.000000\n",
       "S12     39.000000\n",
       "          ...    \n",
       "S95     76.000000\n",
       "S96     44.000000\n",
       "S97     63.333333\n",
       "S98     37.666667\n",
       "S99     62.000000\n",
       "Name: Marks, Length: 100, dtype: float64"
      ]
     },
     "execution_count": 60,
     "metadata": {},
     "output_type": "execute_result"
    }
   ],
   "source": [
    "q2"
   ]
  },
  {
   "cell_type": "code",
   "execution_count": 61,
   "id": "ec2db2b5",
   "metadata": {},
   "outputs": [],
   "source": [
    "q3= student_details.groupby(['Department'])['Marks'].mean()"
   ]
  },
  {
   "cell_type": "code",
   "execution_count": 62,
   "id": "92c511f9",
   "metadata": {},
   "outputs": [
    {
     "data": {
      "text/plain": [
       "Department\n",
       "AIDA    47.064103\n",
       "AIML    55.615385\n",
       "CYS     46.825397\n",
       "MED     47.839506\n",
       "Name: Marks, dtype: float64"
      ]
     },
     "execution_count": 62,
     "metadata": {},
     "output_type": "execute_result"
    }
   ],
   "source": [
    "q3"
   ]
  },
  {
   "cell_type": "code",
   "execution_count": 63,
   "id": "609634be",
   "metadata": {},
   "outputs": [],
   "source": [
    "q4= student_details.groupby(['Department','Subject'])['Marks'].mean()"
   ]
  },
  {
   "cell_type": "code",
   "execution_count": 64,
   "id": "9a8767a9",
   "metadata": {},
   "outputs": [
    {
     "data": {
      "text/plain": [
       "Department  Subject\n",
       "AIDA        C          42.384615\n",
       "            Java       53.923077\n",
       "            Python     44.884615\n",
       "AIML        C          55.538462\n",
       "            Java       50.884615\n",
       "            Python     60.423077\n",
       "CYS         C          51.333333\n",
       "            Java       43.761905\n",
       "            Python     45.380952\n",
       "MED         C          52.185185\n",
       "            Java       50.777778\n",
       "            Python     40.555556\n",
       "Name: Marks, dtype: float64"
      ]
     },
     "execution_count": 64,
     "metadata": {},
     "output_type": "execute_result"
    }
   ],
   "source": [
    "q4"
   ]
  },
  {
   "cell_type": "code",
   "execution_count": 67,
   "id": "c2fae57d",
   "metadata": {},
   "outputs": [],
   "source": [
    "q5=student_details.groupby(['Gender','Subject'])['Marks'].mean()"
   ]
  },
  {
   "cell_type": "code",
   "execution_count": 68,
   "id": "8be4d3d8",
   "metadata": {},
   "outputs": [
    {
     "data": {
      "text/plain": [
       "Gender  Subject\n",
       "F       C          52.34\n",
       "        Java       50.58\n",
       "        Python     48.52\n",
       "M       C          48.32\n",
       "        Java       49.72\n",
       "        Python     47.20\n",
       "Name: Marks, dtype: float64"
      ]
     },
     "execution_count": 68,
     "metadata": {},
     "output_type": "execute_result"
    }
   ],
   "source": [
    "q5"
   ]
  }
 ],
 "metadata": {
  "kernelspec": {
   "display_name": "Python 3 (ipykernel)",
   "language": "python",
   "name": "python3"
  },
  "language_info": {
   "codemirror_mode": {
    "name": "ipython",
    "version": 3
   },
   "file_extension": ".py",
   "mimetype": "text/x-python",
   "name": "python",
   "nbconvert_exporter": "python",
   "pygments_lexer": "ipython3",
   "version": "3.9.12"
  }
 },
 "nbformat": 4,
 "nbformat_minor": 5
}
