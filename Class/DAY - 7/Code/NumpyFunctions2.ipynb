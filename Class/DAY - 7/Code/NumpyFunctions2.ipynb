{
 "cells": [
  {
   "cell_type": "markdown",
   "id": "0390435e",
   "metadata": {},
   "source": [
    "<h2>Converts the array into 1D</h2>\n",
    "<ul>\n",
    "<li>\n",
    "ravel - shallow copy\n",
    "</li>\n",
    "<li>\n",
    "flatten - deep copy\n",
    "</li>\n",
    "</ul>\n"
   ]
  },
  {
   "cell_type": "markdown",
   "id": "694ad817",
   "metadata": {},
   "source": [
    "<li>np.append(old array,new array,axis=dimension-1)</li>"
   ]
  },
  {
   "cell_type": "code",
   "execution_count": null,
   "id": "1973bc0b",
   "metadata": {},
   "outputs": [],
   "source": []
  }
 ],
 "metadata": {
  "kernelspec": {
   "display_name": "Python 3 (ipykernel)",
   "language": "python",
   "name": "python3"
  },
  "language_info": {
   "codemirror_mode": {
    "name": "ipython",
    "version": 3
   },
   "file_extension": ".py",
   "mimetype": "text/x-python",
   "name": "python",
   "nbconvert_exporter": "python",
   "pygments_lexer": "ipython3",
   "version": "3.9.12"
  }
 },
 "nbformat": 4,
 "nbformat_minor": 5
}
