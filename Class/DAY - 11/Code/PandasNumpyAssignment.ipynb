{
 "cells": [
  {
   "cell_type": "code",
   "execution_count": 1,
   "id": "625f152b",
   "metadata": {},
   "outputs": [
    {
     "data": {
      "application/javascript": [
       "\n",
       "        if (window._pyforest_update_imports_cell) { window._pyforest_update_imports_cell('import numpy as np'); }\n",
       "    "
      ],
      "text/plain": [
       "<IPython.core.display.Javascript object>"
      ]
     },
     "metadata": {},
     "output_type": "display_data"
    }
   ],
   "source": [
    "#Creating an random array of customers from c1-c5\n",
    "n=np.random.choice(['C1','C2','C3','C4','C5'],500)"
   ]
  },
  {
   "cell_type": "code",
   "execution_count": 2,
   "id": "01ac57f4",
   "metadata": {},
   "outputs": [
    {
     "data": {
      "application/javascript": [
       "\n",
       "        if (window._pyforest_update_imports_cell) { window._pyforest_update_imports_cell('import numpy as np'); }\n",
       "    "
      ],
      "text/plain": [
       "<IPython.core.display.Javascript object>"
      ]
     },
     "metadata": {},
     "output_type": "display_data"
    }
   ],
   "source": [
    "#Assuming that each customers purchased two products(maybe same or different so repeating the same id twice)\n",
    "n=np.repeat(n,2)"
   ]
  },
  {
   "cell_type": "code",
   "execution_count": 3,
   "id": "181187b4",
   "metadata": {},
   "outputs": [
    {
     "data": {
      "text/plain": [
       "array(['C4', 'C4', 'C4', 'C4', 'C3', 'C3', 'C1', 'C1', 'C4', 'C4', 'C5',\n",
       "       'C5', 'C5', 'C5', 'C2', 'C2', 'C3', 'C3', 'C4', 'C4', 'C4', 'C4',\n",
       "       'C4', 'C4', 'C3', 'C3', 'C4', 'C4', 'C5', 'C5', 'C4', 'C4', 'C1',\n",
       "       'C1', 'C3', 'C3', 'C5', 'C5', 'C5', 'C5', 'C1', 'C1', 'C5', 'C5',\n",
       "       'C3', 'C3', 'C5', 'C5', 'C1', 'C1', 'C1', 'C1', 'C5', 'C5', 'C2',\n",
       "       'C2', 'C1', 'C1', 'C3', 'C3', 'C4', 'C4', 'C4', 'C4', 'C2', 'C2',\n",
       "       'C4', 'C4', 'C4', 'C4', 'C4', 'C4', 'C3', 'C3', 'C1', 'C1', 'C4',\n",
       "       'C4', 'C2', 'C2', 'C2', 'C2', 'C5', 'C5', 'C4', 'C4', 'C3', 'C3',\n",
       "       'C2', 'C2', 'C2', 'C2', 'C4', 'C4', 'C1', 'C1', 'C4', 'C4', 'C4',\n",
       "       'C4', 'C3', 'C3', 'C2', 'C2', 'C5', 'C5', 'C2', 'C2', 'C3', 'C3',\n",
       "       'C4', 'C4', 'C1', 'C1', 'C5', 'C5', 'C3', 'C3', 'C3', 'C3', 'C4',\n",
       "       'C4', 'C5', 'C5', 'C5', 'C5', 'C3', 'C3', 'C1', 'C1', 'C1', 'C1',\n",
       "       'C4', 'C4', 'C5', 'C5', 'C4', 'C4', 'C5', 'C5', 'C3', 'C3', 'C3',\n",
       "       'C3', 'C2', 'C2', 'C3', 'C3', 'C2', 'C2', 'C3', 'C3', 'C2', 'C2',\n",
       "       'C3', 'C3', 'C1', 'C1', 'C2', 'C2', 'C1', 'C1', 'C5', 'C5', 'C3',\n",
       "       'C3', 'C3', 'C3', 'C4', 'C4', 'C2', 'C2', 'C4', 'C4', 'C5', 'C5',\n",
       "       'C5', 'C5', 'C4', 'C4', 'C1', 'C1', 'C1', 'C1', 'C1', 'C1', 'C3',\n",
       "       'C3', 'C5', 'C5', 'C4', 'C4', 'C3', 'C3', 'C5', 'C5', 'C5', 'C5',\n",
       "       'C1', 'C1', 'C4', 'C4', 'C2', 'C2', 'C1', 'C1', 'C5', 'C5', 'C4',\n",
       "       'C4', 'C2', 'C2', 'C4', 'C4', 'C4', 'C4', 'C1', 'C1', 'C2', 'C2',\n",
       "       'C3', 'C3', 'C3', 'C3', 'C3', 'C3', 'C4', 'C4', 'C1', 'C1', 'C1',\n",
       "       'C1', 'C5', 'C5', 'C3', 'C3', 'C5', 'C5', 'C4', 'C4', 'C4', 'C4',\n",
       "       'C2', 'C2', 'C3', 'C3', 'C2', 'C2', 'C3', 'C3', 'C5', 'C5', 'C4',\n",
       "       'C4', 'C2', 'C2', 'C3', 'C3', 'C4', 'C4', 'C1', 'C1', 'C2', 'C2',\n",
       "       'C1', 'C1', 'C3', 'C3', 'C3', 'C3', 'C3', 'C3', 'C5', 'C5', 'C1',\n",
       "       'C1', 'C5', 'C5', 'C3', 'C3', 'C4', 'C4', 'C5', 'C5', 'C3', 'C3',\n",
       "       'C1', 'C1', 'C4', 'C4', 'C5', 'C5', 'C5', 'C5', 'C5', 'C5', 'C3',\n",
       "       'C3', 'C2', 'C2', 'C2', 'C2', 'C3', 'C3', 'C5', 'C5', 'C4', 'C4',\n",
       "       'C5', 'C5', 'C4', 'C4', 'C3', 'C3', 'C1', 'C1', 'C4', 'C4', 'C4',\n",
       "       'C4', 'C5', 'C5', 'C3', 'C3', 'C2', 'C2', 'C3', 'C3', 'C5', 'C5',\n",
       "       'C1', 'C1', 'C4', 'C4', 'C1', 'C1', 'C3', 'C3', 'C4', 'C4', 'C3',\n",
       "       'C3', 'C1', 'C1', 'C3', 'C3', 'C5', 'C5', 'C2', 'C2', 'C4', 'C4',\n",
       "       'C4', 'C4', 'C1', 'C1', 'C5', 'C5', 'C4', 'C4', 'C2', 'C2', 'C2',\n",
       "       'C2', 'C1', 'C1', 'C5', 'C5', 'C3', 'C3', 'C5', 'C5', 'C4', 'C4',\n",
       "       'C2', 'C2', 'C2', 'C2', 'C3', 'C3', 'C3', 'C3', 'C3', 'C3', 'C1',\n",
       "       'C1', 'C4', 'C4', 'C2', 'C2', 'C4', 'C4', 'C5', 'C5', 'C4', 'C4',\n",
       "       'C3', 'C3', 'C2', 'C2', 'C2', 'C2', 'C5', 'C5', 'C4', 'C4', 'C5',\n",
       "       'C5', 'C3', 'C3', 'C3', 'C3', 'C1', 'C1', 'C1', 'C1', 'C4', 'C4',\n",
       "       'C5', 'C5', 'C5', 'C5', 'C1', 'C1', 'C2', 'C2', 'C5', 'C5', 'C4',\n",
       "       'C4', 'C3', 'C3', 'C1', 'C1', 'C4', 'C4', 'C1', 'C1', 'C2', 'C2',\n",
       "       'C4', 'C4', 'C1', 'C1', 'C1', 'C1', 'C3', 'C3', 'C1', 'C1', 'C1',\n",
       "       'C1', 'C5', 'C5', 'C5', 'C5', 'C1', 'C1', 'C2', 'C2', 'C2', 'C2',\n",
       "       'C3', 'C3', 'C5', 'C5', 'C1', 'C1', 'C5', 'C5', 'C2', 'C2', 'C3',\n",
       "       'C3', 'C1', 'C1', 'C1', 'C1', 'C3', 'C3', 'C3', 'C3', 'C2', 'C2',\n",
       "       'C1', 'C1', 'C1', 'C1', 'C2', 'C2', 'C1', 'C1', 'C1', 'C1', 'C4',\n",
       "       'C4', 'C3', 'C3', 'C1', 'C1', 'C2', 'C2', 'C2', 'C2', 'C4', 'C4',\n",
       "       'C4', 'C4', 'C2', 'C2', 'C4', 'C4', 'C5', 'C5', 'C1', 'C1', 'C4',\n",
       "       'C4', 'C1', 'C1', 'C3', 'C3', 'C1', 'C1', 'C5', 'C5', 'C3', 'C3',\n",
       "       'C4', 'C4', 'C4', 'C4', 'C2', 'C2', 'C5', 'C5', 'C2', 'C2', 'C5',\n",
       "       'C5', 'C2', 'C2', 'C4', 'C4', 'C4', 'C4', 'C3', 'C3', 'C3', 'C3',\n",
       "       'C2', 'C2', 'C2', 'C2', 'C5', 'C5', 'C1', 'C1', 'C5', 'C5', 'C1',\n",
       "       'C1', 'C2', 'C2', 'C4', 'C4', 'C2', 'C2', 'C2', 'C2', 'C4', 'C4',\n",
       "       'C3', 'C3', 'C3', 'C3', 'C4', 'C4', 'C2', 'C2', 'C3', 'C3', 'C4',\n",
       "       'C4', 'C4', 'C4', 'C4', 'C4', 'C3', 'C3', 'C5', 'C5', 'C2', 'C2',\n",
       "       'C4', 'C4', 'C3', 'C3', 'C3', 'C3', 'C1', 'C1', 'C1', 'C1', 'C4',\n",
       "       'C4', 'C5', 'C5', 'C4', 'C4', 'C3', 'C3', 'C1', 'C1', 'C4', 'C4',\n",
       "       'C4', 'C4', 'C4', 'C4', 'C2', 'C2', 'C2', 'C2', 'C3', 'C3', 'C5',\n",
       "       'C5', 'C5', 'C5', 'C4', 'C4', 'C1', 'C1', 'C5', 'C5', 'C4', 'C4',\n",
       "       'C2', 'C2', 'C5', 'C5', 'C5', 'C5', 'C4', 'C4', 'C4', 'C4', 'C4',\n",
       "       'C4', 'C4', 'C4', 'C3', 'C3', 'C2', 'C2', 'C4', 'C4', 'C1', 'C1',\n",
       "       'C4', 'C4', 'C4', 'C4', 'C3', 'C3', 'C1', 'C1', 'C2', 'C2', 'C4',\n",
       "       'C4', 'C3', 'C3', 'C1', 'C1', 'C5', 'C5', 'C2', 'C2', 'C4', 'C4',\n",
       "       'C3', 'C3', 'C5', 'C5', 'C4', 'C4', 'C5', 'C5', 'C3', 'C3', 'C3',\n",
       "       'C3', 'C4', 'C4', 'C4', 'C4', 'C5', 'C5', 'C4', 'C4', 'C4', 'C4',\n",
       "       'C3', 'C3', 'C1', 'C1', 'C3', 'C3', 'C5', 'C5', 'C5', 'C5', 'C3',\n",
       "       'C3', 'C2', 'C2', 'C2', 'C2', 'C4', 'C4', 'C4', 'C4', 'C3', 'C3',\n",
       "       'C5', 'C5', 'C1', 'C1', 'C5', 'C5', 'C3', 'C3', 'C5', 'C5', 'C3',\n",
       "       'C3', 'C4', 'C4', 'C4', 'C4', 'C4', 'C4', 'C3', 'C3', 'C3', 'C3',\n",
       "       'C2', 'C2', 'C5', 'C5', 'C5', 'C5', 'C2', 'C2', 'C2', 'C2', 'C5',\n",
       "       'C5', 'C1', 'C1', 'C4', 'C4', 'C1', 'C1', 'C5', 'C5', 'C1', 'C1',\n",
       "       'C1', 'C1', 'C5', 'C5', 'C5', 'C5', 'C4', 'C4', 'C3', 'C3', 'C4',\n",
       "       'C4', 'C5', 'C5', 'C2', 'C2', 'C1', 'C1', 'C4', 'C4', 'C3', 'C3',\n",
       "       'C2', 'C2', 'C2', 'C2', 'C5', 'C5', 'C3', 'C3', 'C2', 'C2', 'C5',\n",
       "       'C5', 'C3', 'C3', 'C2', 'C2', 'C3', 'C3', 'C4', 'C4', 'C3', 'C3',\n",
       "       'C1', 'C1', 'C3', 'C3', 'C2', 'C2', 'C4', 'C4', 'C5', 'C5', 'C3',\n",
       "       'C3', 'C3', 'C3', 'C3', 'C3', 'C2', 'C2', 'C2', 'C2', 'C3', 'C3',\n",
       "       'C1', 'C1', 'C1', 'C1', 'C4', 'C4', 'C2', 'C2', 'C4', 'C4', 'C2',\n",
       "       'C2', 'C3', 'C3', 'C5', 'C5', 'C2', 'C2', 'C1', 'C1', 'C5', 'C5',\n",
       "       'C3', 'C3', 'C1', 'C1', 'C2', 'C2', 'C1', 'C1', 'C2', 'C2', 'C1',\n",
       "       'C1', 'C1', 'C1', 'C3', 'C3', 'C3', 'C3', 'C2', 'C2', 'C3', 'C3',\n",
       "       'C2', 'C2', 'C4', 'C4', 'C2', 'C2', 'C4', 'C4', 'C5', 'C5', 'C3',\n",
       "       'C3', 'C1', 'C1', 'C1', 'C1', 'C4', 'C4', 'C1', 'C1', 'C3', 'C3',\n",
       "       'C2', 'C2', 'C2', 'C2', 'C5', 'C5', 'C5', 'C5', 'C2', 'C2', 'C2',\n",
       "       'C2', 'C3', 'C3', 'C5', 'C5', 'C1', 'C1', 'C2', 'C2', 'C5', 'C5',\n",
       "       'C3', 'C3', 'C5', 'C5', 'C4', 'C4', 'C3', 'C3', 'C4', 'C4', 'C4',\n",
       "       'C4', 'C2', 'C2', 'C4', 'C4', 'C3', 'C3', 'C3', 'C3', 'C2', 'C2',\n",
       "       'C2', 'C2', 'C5', 'C5', 'C3', 'C3', 'C4', 'C4', 'C2', 'C2', 'C5',\n",
       "       'C5', 'C1', 'C1', 'C5', 'C5', 'C1', 'C1', 'C1', 'C1', 'C3', 'C3',\n",
       "       'C4', 'C4', 'C4', 'C4', 'C3', 'C3', 'C5', 'C5', 'C3', 'C3', 'C5',\n",
       "       'C5', 'C3', 'C3', 'C1', 'C1', 'C4', 'C4', 'C3', 'C3', 'C1', 'C1',\n",
       "       'C3', 'C3', 'C3', 'C3', 'C5', 'C5', 'C4', 'C4', 'C2', 'C2'],\n",
       "      dtype='<U2')"
      ]
     },
     "execution_count": 3,
     "metadata": {},
     "output_type": "execute_result"
    }
   ],
   "source": [
    "#Viewing the array\n",
    "n"
   ]
  },
  {
   "cell_type": "code",
   "execution_count": 4,
   "id": "4c8941ad",
   "metadata": {},
   "outputs": [
    {
     "data": {
      "application/javascript": [
       "\n",
       "        if (window._pyforest_update_imports_cell) { window._pyforest_update_imports_cell('import numpy as np'); }\n",
       "    "
      ],
      "text/plain": [
       "<IPython.core.display.Javascript object>"
      ]
     },
     "metadata": {},
     "output_type": "display_data"
    }
   ],
   "source": [
    "#Creating an array of product elements\n",
    "p = np.random.choice(['A','B','C','D'],1000)"
   ]
  },
  {
   "cell_type": "code",
   "execution_count": 5,
   "id": "87419e5b",
   "metadata": {},
   "outputs": [
    {
     "data": {
      "text/plain": [
       "array(['D', 'A', 'C', 'D', 'A', 'D', 'C', 'D', 'A', 'A', 'C', 'B', 'A',\n",
       "       'A', 'A', 'A', 'B', 'C', 'A', 'B', 'C', 'B', 'B', 'A', 'D', 'B',\n",
       "       'D', 'A', 'C', 'C', 'D', 'A', 'A', 'D', 'C', 'C', 'A', 'B', 'D',\n",
       "       'B', 'A', 'B', 'D', 'C', 'A', 'A', 'A', 'B', 'C', 'D', 'B', 'A',\n",
       "       'C', 'A', 'A', 'C', 'B', 'C', 'A', 'C', 'C', 'B', 'D', 'B', 'A',\n",
       "       'B', 'A', 'B', 'D', 'A', 'C', 'C', 'B', 'B', 'D', 'A', 'B', 'C',\n",
       "       'D', 'A', 'A', 'A', 'C', 'B', 'A', 'B', 'D', 'B', 'B', 'A', 'C',\n",
       "       'C', 'A', 'D', 'A', 'D', 'C', 'B', 'D', 'D', 'D', 'B', 'C', 'B',\n",
       "       'A', 'B', 'B', 'D', 'B', 'D', 'D', 'C', 'A', 'A', 'B', 'A', 'A',\n",
       "       'D', 'D', 'B', 'C', 'B', 'D', 'D', 'B', 'C', 'C', 'A', 'D', 'B',\n",
       "       'D', 'A', 'D', 'D', 'D', 'B', 'B', 'D', 'C', 'C', 'D', 'B', 'A',\n",
       "       'D', 'A', 'B', 'A', 'D', 'C', 'B', 'A', 'D', 'D', 'B', 'A', 'A',\n",
       "       'B', 'B', 'C', 'D', 'D', 'D', 'B', 'A', 'D', 'C', 'D', 'A', 'C',\n",
       "       'D', 'A', 'C', 'D', 'A', 'B', 'C', 'C', 'A', 'B', 'C', 'A', 'C',\n",
       "       'D', 'A', 'C', 'A', 'A', 'A', 'D', 'D', 'B', 'C', 'B', 'D', 'A',\n",
       "       'C', 'D', 'B', 'B', 'A', 'C', 'D', 'D', 'A', 'A', 'D', 'A', 'A',\n",
       "       'A', 'A', 'C', 'D', 'D', 'A', 'D', 'A', 'B', 'D', 'C', 'B', 'D',\n",
       "       'C', 'A', 'C', 'B', 'A', 'C', 'A', 'B', 'D', 'A', 'B', 'A', 'D',\n",
       "       'A', 'D', 'B', 'A', 'B', 'C', 'C', 'B', 'B', 'A', 'D', 'B', 'B',\n",
       "       'C', 'B', 'C', 'C', 'A', 'D', 'B', 'C', 'D', 'C', 'B', 'A', 'C',\n",
       "       'B', 'A', 'B', 'D', 'B', 'B', 'A', 'B', 'A', 'B', 'B', 'B', 'A',\n",
       "       'B', 'C', 'D', 'D', 'D', 'B', 'D', 'C', 'C', 'A', 'C', 'C', 'B',\n",
       "       'B', 'A', 'C', 'C', 'D', 'B', 'D', 'C', 'A', 'A', 'B', 'A', 'B',\n",
       "       'B', 'A', 'D', 'B', 'D', 'A', 'B', 'D', 'C', 'D', 'A', 'C', 'C',\n",
       "       'A', 'A', 'A', 'D', 'A', 'D', 'D', 'D', 'C', 'B', 'A', 'B', 'B',\n",
       "       'C', 'B', 'D', 'B', 'D', 'A', 'B', 'A', 'C', 'C', 'B', 'C', 'C',\n",
       "       'C', 'A', 'B', 'A', 'D', 'A', 'B', 'B', 'D', 'D', 'B', 'C', 'C',\n",
       "       'D', 'A', 'B', 'C', 'A', 'B', 'A', 'C', 'B', 'B', 'A', 'D', 'D',\n",
       "       'A', 'B', 'B', 'B', 'A', 'D', 'D', 'D', 'A', 'C', 'A', 'B', 'B',\n",
       "       'D', 'D', 'A', 'B', 'A', 'D', 'D', 'B', 'A', 'D', 'C', 'C', 'C',\n",
       "       'D', 'A', 'C', 'C', 'D', 'D', 'C', 'C', 'B', 'A', 'A', 'B', 'B',\n",
       "       'D', 'B', 'A', 'B', 'B', 'A', 'B', 'D', 'C', 'A', 'D', 'D', 'C',\n",
       "       'A', 'A', 'D', 'A', 'A', 'A', 'B', 'B', 'A', 'B', 'A', 'A', 'A',\n",
       "       'C', 'B', 'B', 'D', 'C', 'D', 'B', 'D', 'A', 'C', 'B', 'C', 'C',\n",
       "       'A', 'B', 'D', 'B', 'D', 'C', 'D', 'A', 'C', 'A', 'D', 'B', 'B',\n",
       "       'A', 'C', 'C', 'B', 'A', 'D', 'A', 'B', 'D', 'D', 'D', 'C', 'B',\n",
       "       'A', 'D', 'A', 'A', 'B', 'D', 'C', 'C', 'D', 'A', 'A', 'A', 'A',\n",
       "       'B', 'B', 'D', 'D', 'B', 'D', 'C', 'B', 'B', 'A', 'D', 'C', 'A',\n",
       "       'C', 'D', 'A', 'D', 'D', 'A', 'D', 'A', 'D', 'B', 'B', 'A', 'B',\n",
       "       'A', 'C', 'B', 'C', 'D', 'A', 'A', 'D', 'B', 'A', 'C', 'A', 'B',\n",
       "       'A', 'A', 'A', 'A', 'D', 'A', 'A', 'D', 'B', 'A', 'A', 'B', 'A',\n",
       "       'D', 'C', 'D', 'B', 'C', 'C', 'D', 'C', 'A', 'C', 'A', 'A', 'B',\n",
       "       'B', 'C', 'B', 'D', 'D', 'C', 'D', 'A', 'D', 'C', 'A', 'D', 'B',\n",
       "       'D', 'D', 'C', 'B', 'A', 'D', 'A', 'C', 'D', 'A', 'C', 'C', 'C',\n",
       "       'D', 'B', 'B', 'A', 'B', 'D', 'C', 'D', 'B', 'C', 'B', 'D', 'C',\n",
       "       'A', 'B', 'B', 'A', 'A', 'A', 'B', 'A', 'B', 'C', 'C', 'C', 'C',\n",
       "       'D', 'D', 'D', 'B', 'D', 'C', 'D', 'C', 'A', 'B', 'C', 'A', 'A',\n",
       "       'A', 'D', 'D', 'A', 'B', 'B', 'A', 'B', 'C', 'B', 'D', 'C', 'A',\n",
       "       'C', 'D', 'A', 'B', 'D', 'D', 'C', 'B', 'B', 'D', 'A', 'A', 'A',\n",
       "       'C', 'B', 'D', 'D', 'B', 'D', 'B', 'B', 'B', 'C', 'C', 'A', 'C',\n",
       "       'D', 'B', 'A', 'D', 'D', 'C', 'C', 'B', 'A', 'C', 'B', 'D', 'A',\n",
       "       'A', 'A', 'D', 'B', 'D', 'B', 'A', 'D', 'D', 'B', 'A', 'A', 'D',\n",
       "       'C', 'D', 'B', 'B', 'B', 'B', 'D', 'C', 'D', 'C', 'B', 'B', 'D',\n",
       "       'D', 'C', 'D', 'C', 'A', 'D', 'D', 'D', 'C', 'B', 'B', 'A', 'A',\n",
       "       'B', 'B', 'B', 'A', 'C', 'B', 'C', 'A', 'B', 'A', 'B', 'A', 'A',\n",
       "       'C', 'D', 'C', 'B', 'B', 'A', 'D', 'A', 'C', 'C', 'D', 'A', 'C',\n",
       "       'D', 'C', 'D', 'D', 'D', 'C', 'D', 'D', 'C', 'A', 'C', 'D', 'B',\n",
       "       'D', 'D', 'A', 'A', 'D', 'B', 'B', 'C', 'C', 'A', 'D', 'C', 'D',\n",
       "       'B', 'D', 'C', 'D', 'A', 'C', 'D', 'C', 'C', 'C', 'C', 'A', 'B',\n",
       "       'C', 'D', 'B', 'D', 'B', 'B', 'D', 'A', 'A', 'A', 'A', 'B', 'B',\n",
       "       'D', 'C', 'B', 'A', 'D', 'B', 'D', 'A', 'B', 'D', 'B', 'C', 'D',\n",
       "       'D', 'A', 'B', 'C', 'B', 'A', 'A', 'A', 'B', 'C', 'D', 'C', 'A',\n",
       "       'B', 'B', 'A', 'D', 'C', 'C', 'D', 'A', 'C', 'D', 'D', 'A', 'D',\n",
       "       'B', 'B', 'A', 'B', 'A', 'C', 'D', 'B', 'A', 'A', 'D', 'C', 'C',\n",
       "       'A', 'C', 'B', 'D', 'C', 'C', 'D', 'B', 'B', 'A', 'B', 'B', 'B',\n",
       "       'A', 'C', 'C', 'D', 'C', 'D', 'D', 'C', 'D', 'A', 'A', 'B', 'C',\n",
       "       'A', 'B', 'B', 'C', 'B', 'B', 'A', 'D', 'A', 'D', 'C', 'C', 'C',\n",
       "       'A', 'B', 'B', 'A', 'B', 'D', 'B', 'A', 'B', 'B', 'A', 'D', 'C',\n",
       "       'D', 'B', 'B', 'A', 'A', 'C', 'A', 'D', 'D', 'B', 'B', 'D', 'A',\n",
       "       'B', 'D', 'C', 'D', 'A', 'D', 'D', 'D', 'A', 'A', 'A', 'A', 'A',\n",
       "       'B', 'A', 'D', 'C', 'A', 'D', 'D', 'D', 'D', 'B', 'C', 'D', 'D',\n",
       "       'B', 'C', 'B', 'D', 'D', 'D', 'A', 'C', 'A', 'A', 'B', 'D', 'C',\n",
       "       'D', 'A', 'D', 'C', 'C', 'B', 'A', 'D', 'B', 'A', 'A', 'D', 'B',\n",
       "       'C', 'D', 'B', 'D', 'D', 'B', 'D', 'C', 'B', 'D', 'A', 'C', 'A',\n",
       "       'A', 'B', 'D', 'D', 'C', 'C', 'C', 'D', 'D', 'B', 'A', 'C', 'D',\n",
       "       'B', 'C', 'D', 'D', 'C', 'A', 'C', 'C', 'D', 'D', 'B', 'D', 'C',\n",
       "       'D', 'C', 'B', 'D', 'D', 'C', 'A', 'D', 'A', 'D', 'C', 'A'],\n",
       "      dtype='<U1')"
      ]
     },
     "execution_count": 5,
     "metadata": {},
     "output_type": "execute_result"
    }
   ],
   "source": [
    "#Viewing the array\n",
    "p"
   ]
  },
  {
   "cell_type": "code",
   "execution_count": 6,
   "id": "eea80d96",
   "metadata": {},
   "outputs": [
    {
     "data": {
      "application/javascript": [
       "\n",
       "        if (window._pyforest_update_imports_cell) { window._pyforest_update_imports_cell('import numpy as np'); }\n",
       "    "
      ],
      "text/plain": [
       "<IPython.core.display.Javascript object>"
      ]
     },
     "metadata": {},
     "output_type": "display_data"
    }
   ],
   "source": [
    "#Creating the array for quantity purchased\n",
    "q=np.random.randint(1,10,1000)"
   ]
  },
  {
   "cell_type": "code",
   "execution_count": 7,
   "id": "12f117b7",
   "metadata": {},
   "outputs": [
    {
     "data": {
      "text/plain": [
       "array([7, 7, 2, 7, 8, 8, 9, 7, 8, 4, 5, 1, 1, 8, 3, 6, 9, 3, 6, 3, 9, 5,\n",
       "       8, 9, 9, 1, 3, 8, 7, 5, 8, 5, 9, 5, 3, 4, 9, 1, 9, 5, 8, 6, 2, 9,\n",
       "       2, 8, 9, 6, 3, 8, 3, 8, 1, 4, 5, 8, 5, 7, 3, 6, 6, 1, 5, 1, 6, 4,\n",
       "       6, 3, 4, 6, 9, 3, 1, 5, 4, 6, 6, 3, 9, 6, 9, 3, 3, 1, 2, 5, 6, 3,\n",
       "       6, 4, 4, 6, 6, 2, 3, 9, 5, 3, 6, 5, 7, 9, 8, 4, 3, 7, 3, 7, 2, 6,\n",
       "       1, 6, 6, 6, 8, 6, 6, 5, 4, 8, 7, 1, 3, 6, 6, 6, 7, 2, 6, 5, 7, 2,\n",
       "       7, 5, 9, 2, 3, 7, 2, 6, 3, 4, 6, 4, 3, 9, 4, 7, 5, 1, 9, 8, 5, 8,\n",
       "       9, 8, 6, 6, 2, 6, 8, 8, 6, 6, 6, 5, 7, 8, 1, 3, 6, 7, 6, 4, 7, 8,\n",
       "       4, 9, 6, 4, 1, 7, 6, 7, 1, 2, 6, 1, 3, 2, 6, 9, 6, 3, 6, 6, 5, 2,\n",
       "       7, 5, 4, 7, 3, 1, 2, 9, 4, 6, 8, 1, 3, 3, 7, 3, 9, 7, 8, 4, 5, 6,\n",
       "       2, 3, 9, 7, 6, 9, 7, 4, 6, 4, 2, 9, 5, 7, 8, 9, 3, 5, 2, 4, 9, 7,\n",
       "       6, 3, 6, 1, 3, 9, 4, 9, 7, 1, 7, 9, 8, 7, 7, 2, 5, 9, 7, 6, 2, 6,\n",
       "       5, 3, 7, 9, 3, 6, 9, 6, 6, 3, 3, 2, 8, 2, 5, 7, 8, 8, 1, 3, 2, 5,\n",
       "       8, 3, 5, 9, 1, 9, 5, 2, 4, 3, 2, 2, 1, 1, 6, 3, 2, 5, 4, 9, 9, 9,\n",
       "       6, 4, 7, 5, 7, 9, 4, 6, 1, 8, 1, 6, 9, 8, 7, 8, 6, 4, 2, 9, 8, 9,\n",
       "       3, 1, 6, 5, 6, 9, 2, 1, 7, 1, 9, 5, 9, 2, 7, 4, 6, 3, 5, 3, 6, 2,\n",
       "       8, 5, 1, 8, 1, 5, 5, 6, 5, 2, 4, 8, 3, 1, 2, 6, 7, 9, 9, 4, 4, 4,\n",
       "       9, 8, 3, 7, 9, 6, 1, 6, 4, 5, 4, 8, 8, 7, 6, 3, 5, 9, 9, 4, 7, 8,\n",
       "       2, 1, 2, 6, 1, 8, 7, 3, 4, 9, 4, 4, 6, 3, 9, 8, 6, 3, 8, 1, 1, 3,\n",
       "       4, 2, 8, 7, 6, 6, 2, 8, 7, 2, 4, 6, 6, 1, 5, 4, 5, 6, 4, 9, 3, 4,\n",
       "       7, 7, 3, 8, 4, 7, 6, 9, 3, 9, 4, 6, 7, 5, 6, 6, 5, 6, 5, 6, 3, 4,\n",
       "       2, 3, 9, 7, 9, 4, 9, 3, 7, 9, 3, 9, 2, 2, 2, 4, 3, 7, 4, 5, 4, 5,\n",
       "       7, 4, 7, 9, 3, 4, 3, 1, 5, 7, 6, 1, 3, 1, 1, 1, 5, 6, 1, 2, 7, 5,\n",
       "       4, 5, 8, 5, 9, 4, 9, 3, 6, 2, 3, 5, 9, 5, 7, 1, 9, 7, 3, 8, 9, 8,\n",
       "       6, 4, 1, 1, 7, 6, 3, 3, 5, 1, 8, 3, 1, 1, 2, 7, 8, 6, 2, 4, 3, 6,\n",
       "       4, 8, 2, 3, 7, 5, 1, 2, 9, 1, 4, 4, 4, 9, 9, 1, 4, 3, 3, 4, 8, 7,\n",
       "       4, 6, 6, 7, 8, 3, 1, 8, 1, 5, 6, 8, 5, 6, 8, 8, 4, 8, 7, 4, 5, 5,\n",
       "       5, 7, 5, 5, 1, 9, 7, 2, 8, 3, 2, 7, 3, 8, 7, 9, 1, 9, 4, 8, 9, 5,\n",
       "       3, 8, 8, 6, 5, 4, 5, 2, 5, 8, 4, 3, 4, 3, 1, 8, 3, 6, 1, 6, 9, 6,\n",
       "       5, 4, 4, 7, 1, 7, 4, 3, 1, 4, 9, 8, 6, 4, 1, 9, 3, 5, 1, 1, 7, 1,\n",
       "       6, 6, 2, 1, 4, 5, 1, 3, 4, 2, 4, 6, 8, 4, 7, 4, 9, 9, 2, 4, 9, 4,\n",
       "       2, 5, 7, 3, 2, 6, 4, 8, 8, 3, 9, 6, 5, 4, 5, 7, 5, 9, 5, 7, 7, 7,\n",
       "       2, 5, 1, 7, 4, 7, 7, 1, 7, 3, 8, 3, 1, 4, 3, 9, 4, 7, 5, 2, 1, 9,\n",
       "       8, 6, 8, 3, 9, 5, 7, 6, 2, 1, 8, 8, 2, 8, 2, 9, 5, 3, 8, 4, 5, 1,\n",
       "       3, 2, 9, 2, 2, 9, 7, 4, 1, 6, 9, 2, 9, 5, 1, 3, 5, 5, 7, 7, 2, 1,\n",
       "       8, 2, 1, 8, 9, 1, 4, 6, 9, 2, 5, 8, 1, 1, 4, 9, 3, 2, 9, 5, 7, 8,\n",
       "       4, 6, 3, 9, 2, 8, 4, 2, 1, 9, 1, 1, 1, 7, 6, 5, 5, 7, 7, 4, 4, 6,\n",
       "       9, 3, 4, 9, 3, 5, 2, 4, 5, 6, 9, 7, 7, 1, 7, 9, 3, 2, 8, 2, 3, 8,\n",
       "       8, 7, 7, 9, 9, 9, 8, 7, 9, 5, 4, 3, 9, 9, 4, 6, 2, 6, 8, 9, 7, 5,\n",
       "       4, 3, 7, 8, 6, 7, 9, 7, 6, 2, 3, 2, 6, 5, 9, 5, 7, 5, 9, 6, 8, 1,\n",
       "       1, 2, 8, 7, 2, 9, 4, 4, 4, 5, 5, 7, 5, 6, 4, 8, 2, 4, 2, 6, 4, 8,\n",
       "       1, 6, 1, 8, 6, 8, 5, 8, 5, 3, 2, 4, 4, 9, 6, 5, 3, 6, 5, 1, 5, 1,\n",
       "       1, 4, 5, 6, 7, 2, 1, 7, 4, 2, 7, 9, 7, 3, 6, 4, 3, 9, 3, 7, 8, 8,\n",
       "       2, 9, 1, 3, 8, 7, 7, 7, 6, 8, 8, 7, 5, 4, 9, 8, 3, 2, 6, 8, 6, 6,\n",
       "       4, 2, 6, 8, 9, 3, 4, 2, 4, 8, 9, 3, 4, 9, 3, 4, 2, 5, 1, 2, 3, 8,\n",
       "       4, 9, 2, 9, 7, 1, 1, 2, 5, 5])"
      ]
     },
     "execution_count": 7,
     "metadata": {},
     "output_type": "execute_result"
    }
   ],
   "source": [
    "#Viewing the array\n",
    "q"
   ]
  },
  {
   "cell_type": "code",
   "execution_count": 8,
   "id": "5bc5e439",
   "metadata": {},
   "outputs": [],
   "source": [
    "#Creating an dictionary to map the products to price per quantity\n",
    "dic={'A':400,'B':250,'C':479,'D':750}"
   ]
  },
  {
   "cell_type": "code",
   "execution_count": 9,
   "id": "52a67877",
   "metadata": {},
   "outputs": [
    {
     "data": {
      "application/javascript": [
       "\n",
       "        if (window._pyforest_update_imports_cell) { window._pyforest_update_imports_cell('import pandas as pd\\nimport numpy as np'); }\n",
       "    "
      ],
      "text/plain": [
       "<IPython.core.display.Javascript object>"
      ]
     },
     "metadata": {},
     "output_type": "display_data"
    }
   ],
   "source": [
    "#Creating an new DataFrame\n",
    "df=pd.DataFrame()"
   ]
  },
  {
   "cell_type": "code",
   "execution_count": 10,
   "id": "7d9ca2fa",
   "metadata": {},
   "outputs": [],
   "source": [
    "#Appending the Customer id into the Dataframe\n",
    "df['Customer Id']=n"
   ]
  },
  {
   "cell_type": "code",
   "execution_count": 11,
   "id": "dd2285ae",
   "metadata": {},
   "outputs": [
    {
     "data": {
      "text/html": [
       "<div>\n",
       "<style scoped>\n",
       "    .dataframe tbody tr th:only-of-type {\n",
       "        vertical-align: middle;\n",
       "    }\n",
       "\n",
       "    .dataframe tbody tr th {\n",
       "        vertical-align: top;\n",
       "    }\n",
       "\n",
       "    .dataframe thead th {\n",
       "        text-align: right;\n",
       "    }\n",
       "</style>\n",
       "<table border=\"1\" class=\"dataframe\">\n",
       "  <thead>\n",
       "    <tr style=\"text-align: right;\">\n",
       "      <th></th>\n",
       "      <th>Customer Id</th>\n",
       "    </tr>\n",
       "  </thead>\n",
       "  <tbody>\n",
       "    <tr>\n",
       "      <th>0</th>\n",
       "      <td>C4</td>\n",
       "    </tr>\n",
       "    <tr>\n",
       "      <th>1</th>\n",
       "      <td>C4</td>\n",
       "    </tr>\n",
       "    <tr>\n",
       "      <th>2</th>\n",
       "      <td>C4</td>\n",
       "    </tr>\n",
       "    <tr>\n",
       "      <th>3</th>\n",
       "      <td>C4</td>\n",
       "    </tr>\n",
       "    <tr>\n",
       "      <th>4</th>\n",
       "      <td>C3</td>\n",
       "    </tr>\n",
       "    <tr>\n",
       "      <th>...</th>\n",
       "      <td>...</td>\n",
       "    </tr>\n",
       "    <tr>\n",
       "      <th>995</th>\n",
       "      <td>C5</td>\n",
       "    </tr>\n",
       "    <tr>\n",
       "      <th>996</th>\n",
       "      <td>C4</td>\n",
       "    </tr>\n",
       "    <tr>\n",
       "      <th>997</th>\n",
       "      <td>C4</td>\n",
       "    </tr>\n",
       "    <tr>\n",
       "      <th>998</th>\n",
       "      <td>C2</td>\n",
       "    </tr>\n",
       "    <tr>\n",
       "      <th>999</th>\n",
       "      <td>C2</td>\n",
       "    </tr>\n",
       "  </tbody>\n",
       "</table>\n",
       "<p>1000 rows × 1 columns</p>\n",
       "</div>"
      ],
      "text/plain": [
       "    Customer Id\n",
       "0            C4\n",
       "1            C4\n",
       "2            C4\n",
       "3            C4\n",
       "4            C3\n",
       "..          ...\n",
       "995          C5\n",
       "996          C4\n",
       "997          C4\n",
       "998          C2\n",
       "999          C2\n",
       "\n",
       "[1000 rows x 1 columns]"
      ]
     },
     "execution_count": 11,
     "metadata": {},
     "output_type": "execute_result"
    }
   ],
   "source": [
    "#Viewing the DataFrame\n",
    "df"
   ]
  },
  {
   "cell_type": "code",
   "execution_count": 12,
   "id": "5a6a070e",
   "metadata": {},
   "outputs": [],
   "source": [
    "#Appending the Product into the Dataframe\n",
    "df['Product']=p"
   ]
  },
  {
   "cell_type": "code",
   "execution_count": 13,
   "id": "2763414c",
   "metadata": {},
   "outputs": [
    {
     "data": {
      "text/html": [
       "<div>\n",
       "<style scoped>\n",
       "    .dataframe tbody tr th:only-of-type {\n",
       "        vertical-align: middle;\n",
       "    }\n",
       "\n",
       "    .dataframe tbody tr th {\n",
       "        vertical-align: top;\n",
       "    }\n",
       "\n",
       "    .dataframe thead th {\n",
       "        text-align: right;\n",
       "    }\n",
       "</style>\n",
       "<table border=\"1\" class=\"dataframe\">\n",
       "  <thead>\n",
       "    <tr style=\"text-align: right;\">\n",
       "      <th></th>\n",
       "      <th>Customer Id</th>\n",
       "      <th>Product</th>\n",
       "    </tr>\n",
       "  </thead>\n",
       "  <tbody>\n",
       "    <tr>\n",
       "      <th>0</th>\n",
       "      <td>C4</td>\n",
       "      <td>D</td>\n",
       "    </tr>\n",
       "    <tr>\n",
       "      <th>1</th>\n",
       "      <td>C4</td>\n",
       "      <td>A</td>\n",
       "    </tr>\n",
       "    <tr>\n",
       "      <th>2</th>\n",
       "      <td>C4</td>\n",
       "      <td>C</td>\n",
       "    </tr>\n",
       "    <tr>\n",
       "      <th>3</th>\n",
       "      <td>C4</td>\n",
       "      <td>D</td>\n",
       "    </tr>\n",
       "    <tr>\n",
       "      <th>4</th>\n",
       "      <td>C3</td>\n",
       "      <td>A</td>\n",
       "    </tr>\n",
       "    <tr>\n",
       "      <th>...</th>\n",
       "      <td>...</td>\n",
       "      <td>...</td>\n",
       "    </tr>\n",
       "    <tr>\n",
       "      <th>995</th>\n",
       "      <td>C5</td>\n",
       "      <td>D</td>\n",
       "    </tr>\n",
       "    <tr>\n",
       "      <th>996</th>\n",
       "      <td>C4</td>\n",
       "      <td>A</td>\n",
       "    </tr>\n",
       "    <tr>\n",
       "      <th>997</th>\n",
       "      <td>C4</td>\n",
       "      <td>D</td>\n",
       "    </tr>\n",
       "    <tr>\n",
       "      <th>998</th>\n",
       "      <td>C2</td>\n",
       "      <td>C</td>\n",
       "    </tr>\n",
       "    <tr>\n",
       "      <th>999</th>\n",
       "      <td>C2</td>\n",
       "      <td>A</td>\n",
       "    </tr>\n",
       "  </tbody>\n",
       "</table>\n",
       "<p>1000 rows × 2 columns</p>\n",
       "</div>"
      ],
      "text/plain": [
       "    Customer Id Product\n",
       "0            C4       D\n",
       "1            C4       A\n",
       "2            C4       C\n",
       "3            C4       D\n",
       "4            C3       A\n",
       "..          ...     ...\n",
       "995          C5       D\n",
       "996          C4       A\n",
       "997          C4       D\n",
       "998          C2       C\n",
       "999          C2       A\n",
       "\n",
       "[1000 rows x 2 columns]"
      ]
     },
     "execution_count": 13,
     "metadata": {},
     "output_type": "execute_result"
    }
   ],
   "source": [
    "#Viewing the DataFrame\n",
    "df"
   ]
  },
  {
   "cell_type": "code",
   "execution_count": 14,
   "id": "fe50a812",
   "metadata": {},
   "outputs": [],
   "source": [
    "#Appending the Quantity into the Dataframe\n",
    "df['Quantity']=q"
   ]
  },
  {
   "cell_type": "code",
   "execution_count": 15,
   "id": "c3e8948a",
   "metadata": {},
   "outputs": [
    {
     "data": {
      "text/html": [
       "<div>\n",
       "<style scoped>\n",
       "    .dataframe tbody tr th:only-of-type {\n",
       "        vertical-align: middle;\n",
       "    }\n",
       "\n",
       "    .dataframe tbody tr th {\n",
       "        vertical-align: top;\n",
       "    }\n",
       "\n",
       "    .dataframe thead th {\n",
       "        text-align: right;\n",
       "    }\n",
       "</style>\n",
       "<table border=\"1\" class=\"dataframe\">\n",
       "  <thead>\n",
       "    <tr style=\"text-align: right;\">\n",
       "      <th></th>\n",
       "      <th>Customer Id</th>\n",
       "      <th>Product</th>\n",
       "      <th>Quantity</th>\n",
       "    </tr>\n",
       "  </thead>\n",
       "  <tbody>\n",
       "    <tr>\n",
       "      <th>0</th>\n",
       "      <td>C4</td>\n",
       "      <td>D</td>\n",
       "      <td>7</td>\n",
       "    </tr>\n",
       "    <tr>\n",
       "      <th>1</th>\n",
       "      <td>C4</td>\n",
       "      <td>A</td>\n",
       "      <td>7</td>\n",
       "    </tr>\n",
       "    <tr>\n",
       "      <th>2</th>\n",
       "      <td>C4</td>\n",
       "      <td>C</td>\n",
       "      <td>2</td>\n",
       "    </tr>\n",
       "    <tr>\n",
       "      <th>3</th>\n",
       "      <td>C4</td>\n",
       "      <td>D</td>\n",
       "      <td>7</td>\n",
       "    </tr>\n",
       "    <tr>\n",
       "      <th>4</th>\n",
       "      <td>C3</td>\n",
       "      <td>A</td>\n",
       "      <td>8</td>\n",
       "    </tr>\n",
       "    <tr>\n",
       "      <th>...</th>\n",
       "      <td>...</td>\n",
       "      <td>...</td>\n",
       "      <td>...</td>\n",
       "    </tr>\n",
       "    <tr>\n",
       "      <th>995</th>\n",
       "      <td>C5</td>\n",
       "      <td>D</td>\n",
       "      <td>1</td>\n",
       "    </tr>\n",
       "    <tr>\n",
       "      <th>996</th>\n",
       "      <td>C4</td>\n",
       "      <td>A</td>\n",
       "      <td>1</td>\n",
       "    </tr>\n",
       "    <tr>\n",
       "      <th>997</th>\n",
       "      <td>C4</td>\n",
       "      <td>D</td>\n",
       "      <td>2</td>\n",
       "    </tr>\n",
       "    <tr>\n",
       "      <th>998</th>\n",
       "      <td>C2</td>\n",
       "      <td>C</td>\n",
       "      <td>5</td>\n",
       "    </tr>\n",
       "    <tr>\n",
       "      <th>999</th>\n",
       "      <td>C2</td>\n",
       "      <td>A</td>\n",
       "      <td>5</td>\n",
       "    </tr>\n",
       "  </tbody>\n",
       "</table>\n",
       "<p>1000 rows × 3 columns</p>\n",
       "</div>"
      ],
      "text/plain": [
       "    Customer Id Product  Quantity\n",
       "0            C4       D         7\n",
       "1            C4       A         7\n",
       "2            C4       C         2\n",
       "3            C4       D         7\n",
       "4            C3       A         8\n",
       "..          ...     ...       ...\n",
       "995          C5       D         1\n",
       "996          C4       A         1\n",
       "997          C4       D         2\n",
       "998          C2       C         5\n",
       "999          C2       A         5\n",
       "\n",
       "[1000 rows x 3 columns]"
      ]
     },
     "execution_count": 15,
     "metadata": {},
     "output_type": "execute_result"
    }
   ],
   "source": [
    "#Viewing the DataFrame\n",
    "df"
   ]
  },
  {
   "cell_type": "code",
   "execution_count": 16,
   "id": "5a7c21a5",
   "metadata": {},
   "outputs": [],
   "source": [
    "#Mapping the column PPQ by taking the Reference as product\n",
    "#Becoz for the same product it has the same PPQ \n",
    "#So we dont use randint here instead we use map based on Products\n",
    "df['Price per Quantity']=df['Product'].map(dic)"
   ]
  },
  {
   "cell_type": "code",
   "execution_count": 17,
   "id": "f72e7ce5",
   "metadata": {},
   "outputs": [
    {
     "data": {
      "text/html": [
       "<div>\n",
       "<style scoped>\n",
       "    .dataframe tbody tr th:only-of-type {\n",
       "        vertical-align: middle;\n",
       "    }\n",
       "\n",
       "    .dataframe tbody tr th {\n",
       "        vertical-align: top;\n",
       "    }\n",
       "\n",
       "    .dataframe thead th {\n",
       "        text-align: right;\n",
       "    }\n",
       "</style>\n",
       "<table border=\"1\" class=\"dataframe\">\n",
       "  <thead>\n",
       "    <tr style=\"text-align: right;\">\n",
       "      <th></th>\n",
       "      <th>Customer Id</th>\n",
       "      <th>Product</th>\n",
       "      <th>Quantity</th>\n",
       "      <th>Price per Quantity</th>\n",
       "    </tr>\n",
       "  </thead>\n",
       "  <tbody>\n",
       "    <tr>\n",
       "      <th>0</th>\n",
       "      <td>C4</td>\n",
       "      <td>D</td>\n",
       "      <td>7</td>\n",
       "      <td>750</td>\n",
       "    </tr>\n",
       "    <tr>\n",
       "      <th>1</th>\n",
       "      <td>C4</td>\n",
       "      <td>A</td>\n",
       "      <td>7</td>\n",
       "      <td>400</td>\n",
       "    </tr>\n",
       "    <tr>\n",
       "      <th>2</th>\n",
       "      <td>C4</td>\n",
       "      <td>C</td>\n",
       "      <td>2</td>\n",
       "      <td>479</td>\n",
       "    </tr>\n",
       "    <tr>\n",
       "      <th>3</th>\n",
       "      <td>C4</td>\n",
       "      <td>D</td>\n",
       "      <td>7</td>\n",
       "      <td>750</td>\n",
       "    </tr>\n",
       "    <tr>\n",
       "      <th>4</th>\n",
       "      <td>C3</td>\n",
       "      <td>A</td>\n",
       "      <td>8</td>\n",
       "      <td>400</td>\n",
       "    </tr>\n",
       "    <tr>\n",
       "      <th>...</th>\n",
       "      <td>...</td>\n",
       "      <td>...</td>\n",
       "      <td>...</td>\n",
       "      <td>...</td>\n",
       "    </tr>\n",
       "    <tr>\n",
       "      <th>995</th>\n",
       "      <td>C5</td>\n",
       "      <td>D</td>\n",
       "      <td>1</td>\n",
       "      <td>750</td>\n",
       "    </tr>\n",
       "    <tr>\n",
       "      <th>996</th>\n",
       "      <td>C4</td>\n",
       "      <td>A</td>\n",
       "      <td>1</td>\n",
       "      <td>400</td>\n",
       "    </tr>\n",
       "    <tr>\n",
       "      <th>997</th>\n",
       "      <td>C4</td>\n",
       "      <td>D</td>\n",
       "      <td>2</td>\n",
       "      <td>750</td>\n",
       "    </tr>\n",
       "    <tr>\n",
       "      <th>998</th>\n",
       "      <td>C2</td>\n",
       "      <td>C</td>\n",
       "      <td>5</td>\n",
       "      <td>479</td>\n",
       "    </tr>\n",
       "    <tr>\n",
       "      <th>999</th>\n",
       "      <td>C2</td>\n",
       "      <td>A</td>\n",
       "      <td>5</td>\n",
       "      <td>400</td>\n",
       "    </tr>\n",
       "  </tbody>\n",
       "</table>\n",
       "<p>1000 rows × 4 columns</p>\n",
       "</div>"
      ],
      "text/plain": [
       "    Customer Id Product  Quantity  Price per Quantity\n",
       "0            C4       D         7                 750\n",
       "1            C4       A         7                 400\n",
       "2            C4       C         2                 479\n",
       "3            C4       D         7                 750\n",
       "4            C3       A         8                 400\n",
       "..          ...     ...       ...                 ...\n",
       "995          C5       D         1                 750\n",
       "996          C4       A         1                 400\n",
       "997          C4       D         2                 750\n",
       "998          C2       C         5                 479\n",
       "999          C2       A         5                 400\n",
       "\n",
       "[1000 rows x 4 columns]"
      ]
     },
     "execution_count": 17,
     "metadata": {},
     "output_type": "execute_result"
    }
   ],
   "source": [
    "#Viewing the DataFrame\n",
    "df"
   ]
  },
  {
   "cell_type": "markdown",
   "id": "e3a167b6",
   "metadata": {},
   "source": [
    "<h3 style='color:red;border:2px solid blue;padding:5px'>1)Total price for each row</h3>"
   ]
  },
  {
   "cell_type": "code",
   "execution_count": 18,
   "id": "48403fd2",
   "metadata": {},
   "outputs": [],
   "source": [
    "#Total Price= PPQ*Quantity\n",
    "df['TotalPrice']=df['Quantity']*df['Price per Quantity']"
   ]
  },
  {
   "cell_type": "code",
   "execution_count": 19,
   "id": "b7bbc354",
   "metadata": {},
   "outputs": [
    {
     "data": {
      "text/html": [
       "<div>\n",
       "<style scoped>\n",
       "    .dataframe tbody tr th:only-of-type {\n",
       "        vertical-align: middle;\n",
       "    }\n",
       "\n",
       "    .dataframe tbody tr th {\n",
       "        vertical-align: top;\n",
       "    }\n",
       "\n",
       "    .dataframe thead th {\n",
       "        text-align: right;\n",
       "    }\n",
       "</style>\n",
       "<table border=\"1\" class=\"dataframe\">\n",
       "  <thead>\n",
       "    <tr style=\"text-align: right;\">\n",
       "      <th></th>\n",
       "      <th>Customer Id</th>\n",
       "      <th>Product</th>\n",
       "      <th>Quantity</th>\n",
       "      <th>Price per Quantity</th>\n",
       "      <th>TotalPrice</th>\n",
       "    </tr>\n",
       "  </thead>\n",
       "  <tbody>\n",
       "    <tr>\n",
       "      <th>0</th>\n",
       "      <td>C4</td>\n",
       "      <td>D</td>\n",
       "      <td>7</td>\n",
       "      <td>750</td>\n",
       "      <td>5250</td>\n",
       "    </tr>\n",
       "    <tr>\n",
       "      <th>1</th>\n",
       "      <td>C4</td>\n",
       "      <td>A</td>\n",
       "      <td>7</td>\n",
       "      <td>400</td>\n",
       "      <td>2800</td>\n",
       "    </tr>\n",
       "    <tr>\n",
       "      <th>2</th>\n",
       "      <td>C4</td>\n",
       "      <td>C</td>\n",
       "      <td>2</td>\n",
       "      <td>479</td>\n",
       "      <td>958</td>\n",
       "    </tr>\n",
       "    <tr>\n",
       "      <th>3</th>\n",
       "      <td>C4</td>\n",
       "      <td>D</td>\n",
       "      <td>7</td>\n",
       "      <td>750</td>\n",
       "      <td>5250</td>\n",
       "    </tr>\n",
       "    <tr>\n",
       "      <th>4</th>\n",
       "      <td>C3</td>\n",
       "      <td>A</td>\n",
       "      <td>8</td>\n",
       "      <td>400</td>\n",
       "      <td>3200</td>\n",
       "    </tr>\n",
       "    <tr>\n",
       "      <th>...</th>\n",
       "      <td>...</td>\n",
       "      <td>...</td>\n",
       "      <td>...</td>\n",
       "      <td>...</td>\n",
       "      <td>...</td>\n",
       "    </tr>\n",
       "    <tr>\n",
       "      <th>995</th>\n",
       "      <td>C5</td>\n",
       "      <td>D</td>\n",
       "      <td>1</td>\n",
       "      <td>750</td>\n",
       "      <td>750</td>\n",
       "    </tr>\n",
       "    <tr>\n",
       "      <th>996</th>\n",
       "      <td>C4</td>\n",
       "      <td>A</td>\n",
       "      <td>1</td>\n",
       "      <td>400</td>\n",
       "      <td>400</td>\n",
       "    </tr>\n",
       "    <tr>\n",
       "      <th>997</th>\n",
       "      <td>C4</td>\n",
       "      <td>D</td>\n",
       "      <td>2</td>\n",
       "      <td>750</td>\n",
       "      <td>1500</td>\n",
       "    </tr>\n",
       "    <tr>\n",
       "      <th>998</th>\n",
       "      <td>C2</td>\n",
       "      <td>C</td>\n",
       "      <td>5</td>\n",
       "      <td>479</td>\n",
       "      <td>2395</td>\n",
       "    </tr>\n",
       "    <tr>\n",
       "      <th>999</th>\n",
       "      <td>C2</td>\n",
       "      <td>A</td>\n",
       "      <td>5</td>\n",
       "      <td>400</td>\n",
       "      <td>2000</td>\n",
       "    </tr>\n",
       "  </tbody>\n",
       "</table>\n",
       "<p>1000 rows × 5 columns</p>\n",
       "</div>"
      ],
      "text/plain": [
       "    Customer Id Product  Quantity  Price per Quantity  TotalPrice\n",
       "0            C4       D         7                 750        5250\n",
       "1            C4       A         7                 400        2800\n",
       "2            C4       C         2                 479         958\n",
       "3            C4       D         7                 750        5250\n",
       "4            C3       A         8                 400        3200\n",
       "..          ...     ...       ...                 ...         ...\n",
       "995          C5       D         1                 750         750\n",
       "996          C4       A         1                 400         400\n",
       "997          C4       D         2                 750        1500\n",
       "998          C2       C         5                 479        2395\n",
       "999          C2       A         5                 400        2000\n",
       "\n",
       "[1000 rows x 5 columns]"
      ]
     },
     "execution_count": 19,
     "metadata": {},
     "output_type": "execute_result"
    }
   ],
   "source": [
    "#Viewing the DataFrame\n",
    "df"
   ]
  },
  {
   "cell_type": "markdown",
   "id": "1780d840",
   "metadata": {},
   "source": [
    "<h3 style='color:red;border:2px solid blue;padding:5px'>2)Which customer purchased more (by number of products)</h3>"
   ]
  },
  {
   "cell_type": "code",
   "execution_count": 21,
   "id": "b26aac56",
   "metadata": {},
   "outputs": [],
   "source": [
    "con= df.groupby(['Customer Id'])['Quantity'].sum()"
   ]
  },
  {
   "cell_type": "code",
   "execution_count": 22,
   "id": "e2459988",
   "metadata": {},
   "outputs": [
    {
     "data": {
      "text/plain": [
       "Customer Id\n",
       "C4    1248\n",
       "C3    1222\n",
       "C5     971\n",
       "C1     884\n",
       "C2     838\n",
       "Name: Quantity, dtype: int32"
      ]
     },
     "execution_count": 22,
     "metadata": {},
     "output_type": "execute_result"
    }
   ],
   "source": [
    "con.sort_values(ascending=False)"
   ]
  },
  {
   "cell_type": "code",
   "execution_count": 23,
   "id": "70edb13b",
   "metadata": {},
   "outputs": [
    {
     "data": {
      "text/plain": [
       "1248"
      ]
     },
     "execution_count": 23,
     "metadata": {},
     "output_type": "execute_result"
    }
   ],
   "source": [
    "max(con)"
   ]
  },
  {
   "cell_type": "markdown",
   "id": "fe6afbf8",
   "metadata": {},
   "source": [
    "<h3 style='color:red;border:2px solid blue;padding:5px'>3)Which customer purchased more (by total price)</h3>"
   ]
  },
  {
   "cell_type": "code",
   "execution_count": 32,
   "id": "17a1688c",
   "metadata": {},
   "outputs": [],
   "source": [
    "con=df.groupby(['Customer Id'])['TotalPrice'].sum()"
   ]
  },
  {
   "cell_type": "code",
   "execution_count": 33,
   "id": "c35c69bc",
   "metadata": {},
   "outputs": [
    {
     "data": {
      "text/plain": [
       "Customer Id\n",
       "C1    439564\n",
       "C2    374469\n",
       "C3    590172\n",
       "C4    598345\n",
       "C5    464383\n",
       "Name: TotalPrice, dtype: int64"
      ]
     },
     "execution_count": 33,
     "metadata": {},
     "output_type": "execute_result"
    }
   ],
   "source": [
    "con"
   ]
  },
  {
   "cell_type": "markdown",
   "id": "2264d0d1",
   "metadata": {},
   "source": [
    "<h3 style='color:red;border:2px solid blue;padding:5px'>4)which customer purchased more (by number of orders)</h3>"
   ]
  },
  {
   "cell_type": "code",
   "execution_count": 34,
   "id": "d664c6ca",
   "metadata": {},
   "outputs": [
    {
     "data": {
      "text/plain": [
       "C4    234\n",
       "C3    226\n",
       "C5    190\n",
       "C2    178\n",
       "C1    172\n",
       "Name: Customer Id, dtype: int64"
      ]
     },
     "execution_count": 34,
     "metadata": {},
     "output_type": "execute_result"
    }
   ],
   "source": [
    "df['Customer Id'].value_counts()"
   ]
  },
  {
   "cell_type": "markdown",
   "id": "17139552",
   "metadata": {},
   "source": [
    "<h3 style='color:red;border:2px solid blue;padding:5px'>5)Which product is least purchased</h3>"
   ]
  },
  {
   "cell_type": "code",
   "execution_count": 35,
   "id": "7101d029",
   "metadata": {},
   "outputs": [],
   "source": [
    "con=df.groupby(['Product'])['Quantity'].sum()"
   ]
  },
  {
   "cell_type": "code",
   "execution_count": 36,
   "id": "fa6ee160",
   "metadata": {},
   "outputs": [
    {
     "data": {
      "text/plain": [
       "Product\n",
       "A    1397\n",
       "B    1249\n",
       "C    1077\n",
       "D    1440\n",
       "Name: Quantity, dtype: int32"
      ]
     },
     "execution_count": 36,
     "metadata": {},
     "output_type": "execute_result"
    }
   ],
   "source": [
    "con"
   ]
  },
  {
   "cell_type": "code",
   "execution_count": 42,
   "id": "5d4d0d12",
   "metadata": {},
   "outputs": [
    {
     "data": {
      "application/javascript": [
       "\n",
       "        if (window._pyforest_update_imports_cell) { window._pyforest_update_imports_cell('import pandas as pd\\nimport numpy as np'); }\n",
       "    "
      ],
      "text/plain": [
       "<IPython.core.display.Javascript object>"
      ]
     },
     "metadata": {},
     "output_type": "display_data"
    }
   ],
   "source": [
    "a=np.array([[[1,2],[5,6],[10,12]],\n",
    "[[10,0],[1,3],[4,5]]])"
   ]
  },
  {
   "cell_type": "code",
   "execution_count": 43,
   "id": "7784a136",
   "metadata": {},
   "outputs": [
    {
     "data": {
      "text/plain": [
       "(2, 3, 2)"
      ]
     },
     "execution_count": 43,
     "metadata": {},
     "output_type": "execute_result"
    }
   ],
   "source": [
    "a.shape"
   ]
  },
  {
   "cell_type": "code",
   "execution_count": null,
   "id": "28fbdf55",
   "metadata": {},
   "outputs": [],
   "source": [
    "#Append\n",
    "for the axis you append you must make it 1 and multuply others\n",
    "-convert the new array shape as the first array after making 1\n",
    "np.append(old_arr,new_val,axis)"
   ]
  }
 ],
 "metadata": {
  "kernelspec": {
   "display_name": "Python 3 (ipykernel)",
   "language": "python",
   "name": "python3"
  },
  "language_info": {
   "codemirror_mode": {
    "name": "ipython",
    "version": 3
   },
   "file_extension": ".py",
   "mimetype": "text/x-python",
   "name": "python",
   "nbconvert_exporter": "python",
   "pygments_lexer": "ipython3",
   "version": "3.9.12"
  }
 },
 "nbformat": 4,
 "nbformat_minor": 5
}
