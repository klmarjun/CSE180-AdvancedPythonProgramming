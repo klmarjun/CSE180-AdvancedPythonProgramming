{
 "cells": [
  {
   "cell_type": "markdown",
   "id": "7c2a9d65",
   "metadata": {},
   "source": [
    "Problems in dataframe:\n",
    "   <html><body> \n",
    "    <ol>missing values</ol>\n",
    "    <ul>wrong information</ul>\n",
    "    <ol>wrong format</ol>\n",
    "    <ol>normalization</ol>\n",
    "    </body>\n",
    "    </html>"
   ]
  },
  {
   "cell_type": "code",
   "execution_count": 1,
   "id": "f45e3097",
   "metadata": {},
   "outputs": [],
   "source": [
    "#import the package\n",
    "import pandas as pd"
   ]
  },
  {
   "cell_type": "code",
   "execution_count": 2,
   "id": "4abf6b00",
   "metadata": {},
   "outputs": [],
   "source": [
    "#reading the data\n",
    "df_sample = pd.read_clipboard()"
   ]
  },
  {
   "cell_type": "code",
   "execution_count": 3,
   "id": "5838783e",
   "metadata": {},
   "outputs": [
    {
     "data": {
      "text/html": [
       "<div>\n",
       "<style scoped>\n",
       "    .dataframe tbody tr th:only-of-type {\n",
       "        vertical-align: middle;\n",
       "    }\n",
       "\n",
       "    .dataframe tbody tr th {\n",
       "        vertical-align: top;\n",
       "    }\n",
       "\n",
       "    .dataframe thead th {\n",
       "        text-align: right;\n",
       "    }\n",
       "</style>\n",
       "<table border=\"1\" class=\"dataframe\">\n",
       "  <thead>\n",
       "    <tr style=\"text-align: right;\">\n",
       "      <th></th>\n",
       "      <th>id</th>\n",
       "      <th>Name</th>\n",
       "      <th>mark</th>\n",
       "      <th>gender</th>\n",
       "      <th>dept</th>\n",
       "    </tr>\n",
       "  </thead>\n",
       "  <tbody>\n",
       "    <tr>\n",
       "      <th>0</th>\n",
       "      <td>1</td>\n",
       "      <td>a</td>\n",
       "      <td>10</td>\n",
       "      <td>m</td>\n",
       "      <td>cyber</td>\n",
       "    </tr>\n",
       "    <tr>\n",
       "      <th>1</th>\n",
       "      <td>2</td>\n",
       "      <td>b</td>\n",
       "      <td>20</td>\n",
       "      <td>male</td>\n",
       "      <td>cys</td>\n",
       "    </tr>\n",
       "    <tr>\n",
       "      <th>2</th>\n",
       "      <td>3</td>\n",
       "      <td>c</td>\n",
       "      <td>30</td>\n",
       "      <td>m</td>\n",
       "      <td>iot</td>\n",
       "    </tr>\n",
       "    <tr>\n",
       "      <th>3</th>\n",
       "      <td>4</td>\n",
       "      <td>d</td>\n",
       "      <td>40</td>\n",
       "      <td>female</td>\n",
       "      <td>ai ml</td>\n",
       "    </tr>\n",
       "    <tr>\n",
       "      <th>4</th>\n",
       "      <td>5</td>\n",
       "      <td>e</td>\n",
       "      <td>50</td>\n",
       "      <td>girl</td>\n",
       "      <td>ai da</td>\n",
       "    </tr>\n",
       "    <tr>\n",
       "      <th>5</th>\n",
       "      <td>6</td>\n",
       "      <td>f</td>\n",
       "      <td>60</td>\n",
       "      <td>girl</td>\n",
       "      <td>da</td>\n",
       "    </tr>\n",
       "    <tr>\n",
       "      <th>6</th>\n",
       "      <td>7</td>\n",
       "      <td>g</td>\n",
       "      <td>70</td>\n",
       "      <td>female</td>\n",
       "      <td>ml</td>\n",
       "    </tr>\n",
       "    <tr>\n",
       "      <th>7</th>\n",
       "      <td>8</td>\n",
       "      <td>h</td>\n",
       "      <td>80</td>\n",
       "      <td>f</td>\n",
       "      <td>ai da</td>\n",
       "    </tr>\n",
       "    <tr>\n",
       "      <th>8</th>\n",
       "      <td>9</td>\n",
       "      <td>i</td>\n",
       "      <td>90</td>\n",
       "      <td>male</td>\n",
       "      <td>cyber</td>\n",
       "    </tr>\n",
       "  </tbody>\n",
       "</table>\n",
       "</div>"
      ],
      "text/plain": [
       "   id Name  mark  gender    dept\n",
       "0   1    a    10       m   cyber\n",
       "1   2    b    20    male     cys\n",
       "2   3    c    30       m     iot\n",
       "3   4    d    40  female   ai ml\n",
       "4   5    e    50    girl   ai da\n",
       "5   6    f    60    girl      da\n",
       "6   7    g    70  female      ml\n",
       "7   8    h    80       f   ai da\n",
       "8   9    i    90    male   cyber"
      ]
     },
     "execution_count": 3,
     "metadata": {},
     "output_type": "execute_result"
    }
   ],
   "source": [
    "#viewing the data\n",
    "df_sample"
   ]
  },
  {
   "cell_type": "code",
   "execution_count": 4,
   "id": "8e831b21",
   "metadata": {
    "scrolled": true
   },
   "outputs": [
    {
     "data": {
      "text/plain": [
       "array(['m', 'male', 'female', 'girl', 'f'], dtype=object)"
      ]
     },
     "execution_count": 4,
     "metadata": {},
     "output_type": "execute_result"
    }
   ],
   "source": [
    "#since the gender column is in wrong fomat\n",
    "# mapping m,male,Male,M,boy to M\n",
    "# mapping f,female,F,Female,girl to F\n",
    "df_sample['gender'].unique()"
   ]
  },
  {
   "cell_type": "code",
   "execution_count": 5,
   "id": "48f28e6e",
   "metadata": {},
   "outputs": [],
   "source": [
    "#creating a dictionary to map the respective values in the same format\n",
    "dic = {'m':\"M\",'male':\"M\",\"female\":\"F\",\"girl\":\"F\",\"f\":\"F\"}"
   ]
  },
  {
   "cell_type": "code",
   "execution_count": 6,
   "id": "abeb17ec",
   "metadata": {},
   "outputs": [],
   "source": [
    "#saving the mapped values in the same column \n",
    "df_sample['gender'] = df_sample['gender'].map(dic)"
   ]
  },
  {
   "cell_type": "code",
   "execution_count": 7,
   "id": "ba4e382c",
   "metadata": {},
   "outputs": [
    {
     "data": {
      "text/html": [
       "<div>\n",
       "<style scoped>\n",
       "    .dataframe tbody tr th:only-of-type {\n",
       "        vertical-align: middle;\n",
       "    }\n",
       "\n",
       "    .dataframe tbody tr th {\n",
       "        vertical-align: top;\n",
       "    }\n",
       "\n",
       "    .dataframe thead th {\n",
       "        text-align: right;\n",
       "    }\n",
       "</style>\n",
       "<table border=\"1\" class=\"dataframe\">\n",
       "  <thead>\n",
       "    <tr style=\"text-align: right;\">\n",
       "      <th></th>\n",
       "      <th>id</th>\n",
       "      <th>Name</th>\n",
       "      <th>mark</th>\n",
       "      <th>gender</th>\n",
       "      <th>dept</th>\n",
       "    </tr>\n",
       "  </thead>\n",
       "  <tbody>\n",
       "    <tr>\n",
       "      <th>0</th>\n",
       "      <td>1</td>\n",
       "      <td>a</td>\n",
       "      <td>10</td>\n",
       "      <td>M</td>\n",
       "      <td>cyber</td>\n",
       "    </tr>\n",
       "    <tr>\n",
       "      <th>1</th>\n",
       "      <td>2</td>\n",
       "      <td>b</td>\n",
       "      <td>20</td>\n",
       "      <td>M</td>\n",
       "      <td>cys</td>\n",
       "    </tr>\n",
       "    <tr>\n",
       "      <th>2</th>\n",
       "      <td>3</td>\n",
       "      <td>c</td>\n",
       "      <td>30</td>\n",
       "      <td>M</td>\n",
       "      <td>iot</td>\n",
       "    </tr>\n",
       "    <tr>\n",
       "      <th>3</th>\n",
       "      <td>4</td>\n",
       "      <td>d</td>\n",
       "      <td>40</td>\n",
       "      <td>F</td>\n",
       "      <td>ai ml</td>\n",
       "    </tr>\n",
       "    <tr>\n",
       "      <th>4</th>\n",
       "      <td>5</td>\n",
       "      <td>e</td>\n",
       "      <td>50</td>\n",
       "      <td>F</td>\n",
       "      <td>ai da</td>\n",
       "    </tr>\n",
       "    <tr>\n",
       "      <th>5</th>\n",
       "      <td>6</td>\n",
       "      <td>f</td>\n",
       "      <td>60</td>\n",
       "      <td>F</td>\n",
       "      <td>da</td>\n",
       "    </tr>\n",
       "    <tr>\n",
       "      <th>6</th>\n",
       "      <td>7</td>\n",
       "      <td>g</td>\n",
       "      <td>70</td>\n",
       "      <td>F</td>\n",
       "      <td>ml</td>\n",
       "    </tr>\n",
       "    <tr>\n",
       "      <th>7</th>\n",
       "      <td>8</td>\n",
       "      <td>h</td>\n",
       "      <td>80</td>\n",
       "      <td>F</td>\n",
       "      <td>ai da</td>\n",
       "    </tr>\n",
       "    <tr>\n",
       "      <th>8</th>\n",
       "      <td>9</td>\n",
       "      <td>i</td>\n",
       "      <td>90</td>\n",
       "      <td>M</td>\n",
       "      <td>cyber</td>\n",
       "    </tr>\n",
       "  </tbody>\n",
       "</table>\n",
       "</div>"
      ],
      "text/plain": [
       "   id Name  mark gender    dept\n",
       "0   1    a    10      M   cyber\n",
       "1   2    b    20      M     cys\n",
       "2   3    c    30      M     iot\n",
       "3   4    d    40      F   ai ml\n",
       "4   5    e    50      F   ai da\n",
       "5   6    f    60      F      da\n",
       "6   7    g    70      F      ml\n",
       "7   8    h    80      F   ai da\n",
       "8   9    i    90      M   cyber"
      ]
     },
     "execution_count": 7,
     "metadata": {},
     "output_type": "execute_result"
    }
   ],
   "source": [
    "#viewing the changed column\n",
    "df_sample"
   ]
  },
  {
   "cell_type": "code",
   "execution_count": 8,
   "id": "0fd5345d",
   "metadata": {},
   "outputs": [],
   "source": [
    "#viewing the unique elements that are in the dept column\n",
    "unique = set(df_sample[\"dept\"])"
   ]
  },
  {
   "cell_type": "code",
   "execution_count": 9,
   "id": "b6fd224c",
   "metadata": {},
   "outputs": [
    {
     "data": {
      "text/plain": [
       "{' ai ml', 'ai da', 'cyber', 'cys', 'da', 'iot', 'ml'}"
      ]
     },
     "execution_count": 9,
     "metadata": {},
     "output_type": "execute_result"
    }
   ],
   "source": [
    "#oh no☹️☹️ there are some values which mean the same in meaning but different in format\n",
    "unique"
   ]
  },
  {
   "cell_type": "code",
   "execution_count": 10,
   "id": "ea22dadc",
   "metadata": {},
   "outputs": [],
   "source": [
    "#creating a dictionary to map the respective values in the same format\n",
    "dic = {\" ai ml\":\"AI & ML\",\"ai da\":\"AI & DA\",\"cyber\":\"Cybersecurity & IOT\",\"cys\":\"Cybersecurity & IOT\",\"da\":\"AI & DA\",\"iot\":\"Cybersecurity & IOT\",\"ml\":\"AI & ML\"}"
   ]
  },
  {
   "cell_type": "code",
   "execution_count": 11,
   "id": "79ef1f64",
   "metadata": {},
   "outputs": [],
   "source": [
    "#saving the mapped values in the same column \n",
    "df_sample['dept'] = df_sample['dept'].map(dic)"
   ]
  },
  {
   "cell_type": "code",
   "execution_count": 12,
   "id": "a3043880",
   "metadata": {},
   "outputs": [
    {
     "data": {
      "text/html": [
       "<div>\n",
       "<style scoped>\n",
       "    .dataframe tbody tr th:only-of-type {\n",
       "        vertical-align: middle;\n",
       "    }\n",
       "\n",
       "    .dataframe tbody tr th {\n",
       "        vertical-align: top;\n",
       "    }\n",
       "\n",
       "    .dataframe thead th {\n",
       "        text-align: right;\n",
       "    }\n",
       "</style>\n",
       "<table border=\"1\" class=\"dataframe\">\n",
       "  <thead>\n",
       "    <tr style=\"text-align: right;\">\n",
       "      <th></th>\n",
       "      <th>id</th>\n",
       "      <th>Name</th>\n",
       "      <th>mark</th>\n",
       "      <th>gender</th>\n",
       "      <th>dept</th>\n",
       "    </tr>\n",
       "  </thead>\n",
       "  <tbody>\n",
       "    <tr>\n",
       "      <th>0</th>\n",
       "      <td>1</td>\n",
       "      <td>a</td>\n",
       "      <td>10</td>\n",
       "      <td>M</td>\n",
       "      <td>Cybersecurity &amp; IOT</td>\n",
       "    </tr>\n",
       "    <tr>\n",
       "      <th>1</th>\n",
       "      <td>2</td>\n",
       "      <td>b</td>\n",
       "      <td>20</td>\n",
       "      <td>M</td>\n",
       "      <td>Cybersecurity &amp; IOT</td>\n",
       "    </tr>\n",
       "    <tr>\n",
       "      <th>2</th>\n",
       "      <td>3</td>\n",
       "      <td>c</td>\n",
       "      <td>30</td>\n",
       "      <td>M</td>\n",
       "      <td>Cybersecurity &amp; IOT</td>\n",
       "    </tr>\n",
       "    <tr>\n",
       "      <th>3</th>\n",
       "      <td>4</td>\n",
       "      <td>d</td>\n",
       "      <td>40</td>\n",
       "      <td>F</td>\n",
       "      <td>AI &amp; ML</td>\n",
       "    </tr>\n",
       "    <tr>\n",
       "      <th>4</th>\n",
       "      <td>5</td>\n",
       "      <td>e</td>\n",
       "      <td>50</td>\n",
       "      <td>F</td>\n",
       "      <td>AI &amp; DA</td>\n",
       "    </tr>\n",
       "    <tr>\n",
       "      <th>5</th>\n",
       "      <td>6</td>\n",
       "      <td>f</td>\n",
       "      <td>60</td>\n",
       "      <td>F</td>\n",
       "      <td>AI &amp; DA</td>\n",
       "    </tr>\n",
       "    <tr>\n",
       "      <th>6</th>\n",
       "      <td>7</td>\n",
       "      <td>g</td>\n",
       "      <td>70</td>\n",
       "      <td>F</td>\n",
       "      <td>AI &amp; ML</td>\n",
       "    </tr>\n",
       "    <tr>\n",
       "      <th>7</th>\n",
       "      <td>8</td>\n",
       "      <td>h</td>\n",
       "      <td>80</td>\n",
       "      <td>F</td>\n",
       "      <td>AI &amp; DA</td>\n",
       "    </tr>\n",
       "    <tr>\n",
       "      <th>8</th>\n",
       "      <td>9</td>\n",
       "      <td>i</td>\n",
       "      <td>90</td>\n",
       "      <td>M</td>\n",
       "      <td>Cybersecurity &amp; IOT</td>\n",
       "    </tr>\n",
       "  </tbody>\n",
       "</table>\n",
       "</div>"
      ],
      "text/plain": [
       "   id Name  mark gender                 dept\n",
       "0   1    a    10      M  Cybersecurity & IOT\n",
       "1   2    b    20      M  Cybersecurity & IOT\n",
       "2   3    c    30      M  Cybersecurity & IOT\n",
       "3   4    d    40      F              AI & ML\n",
       "4   5    e    50      F              AI & DA\n",
       "5   6    f    60      F              AI & DA\n",
       "6   7    g    70      F              AI & ML\n",
       "7   8    h    80      F              AI & DA\n",
       "8   9    i    90      M  Cybersecurity & IOT"
      ]
     },
     "execution_count": 12,
     "metadata": {},
     "output_type": "execute_result"
    }
   ],
   "source": [
    "#Viewing the df\n",
    "#now every column which has duplicate values are changed into the same format\n",
    "df_sample"
   ]
  },
  {
   "cell_type": "code",
   "execution_count": 18,
   "id": "c364dcb4",
   "metadata": {},
   "outputs": [],
   "source": [
    "# handling the missing data\n",
    "new_df = pd.read_clipboard()"
   ]
  },
  {
   "cell_type": "code",
   "execution_count": 19,
   "id": "11a989b8",
   "metadata": {},
   "outputs": [
    {
     "data": {
      "text/html": [
       "<div>\n",
       "<style scoped>\n",
       "    .dataframe tbody tr th:only-of-type {\n",
       "        vertical-align: middle;\n",
       "    }\n",
       "\n",
       "    .dataframe tbody tr th {\n",
       "        vertical-align: top;\n",
       "    }\n",
       "\n",
       "    .dataframe thead th {\n",
       "        text-align: right;\n",
       "    }\n",
       "</style>\n",
       "<table border=\"1\" class=\"dataframe\">\n",
       "  <thead>\n",
       "    <tr style=\"text-align: right;\">\n",
       "      <th></th>\n",
       "      <th>id</th>\n",
       "      <th>Mark</th>\n",
       "    </tr>\n",
       "  </thead>\n",
       "  <tbody>\n",
       "    <tr>\n",
       "      <th>0</th>\n",
       "      <td>1</td>\n",
       "      <td>10.0</td>\n",
       "    </tr>\n",
       "    <tr>\n",
       "      <th>1</th>\n",
       "      <td>2</td>\n",
       "      <td>20.0</td>\n",
       "    </tr>\n",
       "    <tr>\n",
       "      <th>2</th>\n",
       "      <td>3</td>\n",
       "      <td>NaN</td>\n",
       "    </tr>\n",
       "    <tr>\n",
       "      <th>3</th>\n",
       "      <td>4</td>\n",
       "      <td>40.0</td>\n",
       "    </tr>\n",
       "    <tr>\n",
       "      <th>4</th>\n",
       "      <td>5</td>\n",
       "      <td>50.0</td>\n",
       "    </tr>\n",
       "    <tr>\n",
       "      <th>5</th>\n",
       "      <td>6</td>\n",
       "      <td>NaN</td>\n",
       "    </tr>\n",
       "    <tr>\n",
       "      <th>6</th>\n",
       "      <td>7</td>\n",
       "      <td>70.0</td>\n",
       "    </tr>\n",
       "    <tr>\n",
       "      <th>7</th>\n",
       "      <td>8</td>\n",
       "      <td>80.0</td>\n",
       "    </tr>\n",
       "    <tr>\n",
       "      <th>8</th>\n",
       "      <td>9</td>\n",
       "      <td>NaN</td>\n",
       "    </tr>\n",
       "  </tbody>\n",
       "</table>\n",
       "</div>"
      ],
      "text/plain": [
       "   id  Mark\n",
       "0   1  10.0\n",
       "1   2  20.0\n",
       "2   3   NaN\n",
       "3   4  40.0\n",
       "4   5  50.0\n",
       "5   6   NaN\n",
       "6   7  70.0\n",
       "7   8  80.0\n",
       "8   9   NaN"
      ]
     },
     "execution_count": 19,
     "metadata": {},
     "output_type": "execute_result"
    }
   ],
   "source": [
    "#viewing the datframe\n",
    "new_df"
   ]
  },
  {
   "cell_type": "code",
   "execution_count": 20,
   "id": "8af5f720",
   "metadata": {},
   "outputs": [
    {
     "data": {
      "text/plain": [
       "0    10.0\n",
       "1    20.0\n",
       "2     NaN\n",
       "3    40.0\n",
       "4    50.0\n",
       "5     NaN\n",
       "6    70.0\n",
       "7    80.0\n",
       "8     NaN\n",
       "Name: Mark, dtype: float64"
      ]
     },
     "execution_count": 20,
     "metadata": {},
     "output_type": "execute_result"
    }
   ],
   "source": [
    "#returns the mark from the df column\n",
    "new_df['Mark']"
   ]
  },
  {
   "cell_type": "code",
   "execution_count": 21,
   "id": "8ec407c0",
   "metadata": {},
   "outputs": [
    {
     "data": {
      "text/html": [
       "<div>\n",
       "<style scoped>\n",
       "    .dataframe tbody tr th:only-of-type {\n",
       "        vertical-align: middle;\n",
       "    }\n",
       "\n",
       "    .dataframe tbody tr th {\n",
       "        vertical-align: top;\n",
       "    }\n",
       "\n",
       "    .dataframe thead th {\n",
       "        text-align: right;\n",
       "    }\n",
       "</style>\n",
       "<table border=\"1\" class=\"dataframe\">\n",
       "  <thead>\n",
       "    <tr style=\"text-align: right;\">\n",
       "      <th></th>\n",
       "      <th>id</th>\n",
       "      <th>Mark</th>\n",
       "    </tr>\n",
       "  </thead>\n",
       "  <tbody>\n",
       "    <tr>\n",
       "      <th>0</th>\n",
       "      <td>False</td>\n",
       "      <td>False</td>\n",
       "    </tr>\n",
       "    <tr>\n",
       "      <th>1</th>\n",
       "      <td>False</td>\n",
       "      <td>False</td>\n",
       "    </tr>\n",
       "    <tr>\n",
       "      <th>2</th>\n",
       "      <td>False</td>\n",
       "      <td>True</td>\n",
       "    </tr>\n",
       "    <tr>\n",
       "      <th>3</th>\n",
       "      <td>False</td>\n",
       "      <td>False</td>\n",
       "    </tr>\n",
       "    <tr>\n",
       "      <th>4</th>\n",
       "      <td>False</td>\n",
       "      <td>False</td>\n",
       "    </tr>\n",
       "    <tr>\n",
       "      <th>5</th>\n",
       "      <td>False</td>\n",
       "      <td>True</td>\n",
       "    </tr>\n",
       "    <tr>\n",
       "      <th>6</th>\n",
       "      <td>False</td>\n",
       "      <td>False</td>\n",
       "    </tr>\n",
       "    <tr>\n",
       "      <th>7</th>\n",
       "      <td>False</td>\n",
       "      <td>False</td>\n",
       "    </tr>\n",
       "    <tr>\n",
       "      <th>8</th>\n",
       "      <td>False</td>\n",
       "      <td>True</td>\n",
       "    </tr>\n",
       "  </tbody>\n",
       "</table>\n",
       "</div>"
      ],
      "text/plain": [
       "      id   Mark\n",
       "0  False  False\n",
       "1  False  False\n",
       "2  False   True\n",
       "3  False  False\n",
       "4  False  False\n",
       "5  False   True\n",
       "6  False  False\n",
       "7  False  False\n",
       "8  False   True"
      ]
     },
     "execution_count": 21,
     "metadata": {},
     "output_type": "execute_result"
    }
   ],
   "source": [
    "#returns true if the value is null and false if its not\n",
    "new_df.isnull()"
   ]
  },
  {
   "cell_type": "code",
   "execution_count": 22,
   "id": "0b8ffc50",
   "metadata": {},
   "outputs": [
    {
     "data": {
      "text/plain": [
       "id      0\n",
       "Mark    3\n",
       "dtype: int64"
      ]
     },
     "execution_count": 22,
     "metadata": {},
     "output_type": "execute_result"
    }
   ],
   "source": [
    "#finding the no. of datavalues which are null values(missing values)\n",
    "new_df.isnull().sum()"
   ]
  },
  {
   "cell_type": "code",
   "execution_count": 23,
   "id": "60ceb364",
   "metadata": {},
   "outputs": [
    {
     "data": {
      "text/html": [
       "<div>\n",
       "<style scoped>\n",
       "    .dataframe tbody tr th:only-of-type {\n",
       "        vertical-align: middle;\n",
       "    }\n",
       "\n",
       "    .dataframe tbody tr th {\n",
       "        vertical-align: top;\n",
       "    }\n",
       "\n",
       "    .dataframe thead th {\n",
       "        text-align: right;\n",
       "    }\n",
       "</style>\n",
       "<table border=\"1\" class=\"dataframe\">\n",
       "  <thead>\n",
       "    <tr style=\"text-align: right;\">\n",
       "      <th></th>\n",
       "      <th>id</th>\n",
       "      <th>Mark</th>\n",
       "    </tr>\n",
       "  </thead>\n",
       "  <tbody>\n",
       "    <tr>\n",
       "      <th>count</th>\n",
       "      <td>9.000000</td>\n",
       "      <td>6.000000</td>\n",
       "    </tr>\n",
       "    <tr>\n",
       "      <th>mean</th>\n",
       "      <td>5.000000</td>\n",
       "      <td>45.000000</td>\n",
       "    </tr>\n",
       "    <tr>\n",
       "      <th>std</th>\n",
       "      <td>2.738613</td>\n",
       "      <td>27.386128</td>\n",
       "    </tr>\n",
       "    <tr>\n",
       "      <th>min</th>\n",
       "      <td>1.000000</td>\n",
       "      <td>10.000000</td>\n",
       "    </tr>\n",
       "    <tr>\n",
       "      <th>25%</th>\n",
       "      <td>3.000000</td>\n",
       "      <td>25.000000</td>\n",
       "    </tr>\n",
       "    <tr>\n",
       "      <th>50%</th>\n",
       "      <td>5.000000</td>\n",
       "      <td>45.000000</td>\n",
       "    </tr>\n",
       "    <tr>\n",
       "      <th>75%</th>\n",
       "      <td>7.000000</td>\n",
       "      <td>65.000000</td>\n",
       "    </tr>\n",
       "    <tr>\n",
       "      <th>max</th>\n",
       "      <td>9.000000</td>\n",
       "      <td>80.000000</td>\n",
       "    </tr>\n",
       "  </tbody>\n",
       "</table>\n",
       "</div>"
      ],
      "text/plain": [
       "             id       Mark\n",
       "count  9.000000   6.000000\n",
       "mean   5.000000  45.000000\n",
       "std    2.738613  27.386128\n",
       "min    1.000000  10.000000\n",
       "25%    3.000000  25.000000\n",
       "50%    5.000000  45.000000\n",
       "75%    7.000000  65.000000\n",
       "max    9.000000  80.000000"
      ]
     },
     "execution_count": 23,
     "metadata": {},
     "output_type": "execute_result"
    }
   ],
   "source": [
    "#describe() function provide the 5poin summary,mean,std and count of the data having quantitative description\n",
    "new_df.describe()"
   ]
  },
  {
   "cell_type": "code",
   "execution_count": 27,
   "id": "ecaf208c",
   "metadata": {},
   "outputs": [
    {
     "data": {
      "text/plain": [
       "0    10.0\n",
       "1    20.0\n",
       "2     NaN\n",
       "3    40.0\n",
       "4    50.0\n",
       "5     NaN\n",
       "6    70.0\n",
       "7    80.0\n",
       "8     NaN\n",
       "Name: Mark, dtype: float64"
      ]
     },
     "execution_count": 27,
     "metadata": {},
     "output_type": "execute_result"
    }
   ],
   "source": [
    "new_df['Mark']"
   ]
  },
  {
   "cell_type": "code",
   "execution_count": 26,
   "id": "45883a30",
   "metadata": {},
   "outputs": [
    {
     "data": {
      "text/plain": [
       "45.0"
      ]
     },
     "execution_count": 26,
     "metadata": {},
     "output_type": "execute_result"
    }
   ],
   "source": [
    "#calculating the mean of the mark column\n",
    "new_df['Mark'].mean()"
   ]
  },
  {
   "cell_type": "code",
   "execution_count": 29,
   "id": "8ddde682",
   "metadata": {},
   "outputs": [
    {
     "data": {
      "text/plain": [
       "0    10.0\n",
       "1    20.0\n",
       "2    45.0\n",
       "3    40.0\n",
       "4    50.0\n",
       "5    45.0\n",
       "6    70.0\n",
       "7    80.0\n",
       "8    45.0\n",
       "Name: Mark, dtype: float64"
      ]
     },
     "execution_count": 29,
     "metadata": {},
     "output_type": "execute_result"
    }
   ],
   "source": [
    "#replacing nan values with the mean\n",
    "new_df['Mark'].fillna(new_df['Mark'].mean())"
   ]
  },
  {
   "cell_type": "code",
   "execution_count": 30,
   "id": "d8654f2c",
   "metadata": {},
   "outputs": [
    {
     "data": {
      "text/plain": [
       "0    10.0\n",
       "1    20.0\n",
       "2    10.0\n",
       "3    40.0\n",
       "4    50.0\n",
       "5    10.0\n",
       "6    70.0\n",
       "7    80.0\n",
       "8    10.0\n",
       "Name: Mark, dtype: float64"
      ]
     },
     "execution_count": 30,
     "metadata": {},
     "output_type": "execute_result"
    }
   ],
   "source": [
    "new_df['Mark'].fillna(new_df['Mark'].min())"
   ]
  },
  {
   "cell_type": "code",
   "execution_count": 31,
   "id": "5069fcaf",
   "metadata": {},
   "outputs": [
    {
     "data": {
      "text/plain": [
       "0    10.0\n",
       "1    20.0\n",
       "2    80.0\n",
       "3    40.0\n",
       "4    50.0\n",
       "5    80.0\n",
       "6    70.0\n",
       "7    80.0\n",
       "8    80.0\n",
       "Name: Mark, dtype: float64"
      ]
     },
     "execution_count": 31,
     "metadata": {},
     "output_type": "execute_result"
    }
   ],
   "source": [
    "#replacing nan values with the max\n",
    "new_df['Mark'].fillna(new_df['Mark'].max())"
   ]
  },
  {
   "cell_type": "code",
   "execution_count": 32,
   "id": "9493f99a",
   "metadata": {
    "scrolled": true
   },
   "outputs": [
    {
     "data": {
      "text/plain": [
       "0    10.000000\n",
       "1    20.000000\n",
       "2    27.386128\n",
       "3    40.000000\n",
       "4    50.000000\n",
       "5    27.386128\n",
       "6    70.000000\n",
       "7    80.000000\n",
       "8    27.386128\n",
       "Name: Mark, dtype: float64"
      ]
     },
     "execution_count": 32,
     "metadata": {},
     "output_type": "execute_result"
    }
   ],
   "source": [
    "#replacing nan values with the standard deviation\n",
    "new_df['Mark'].fillna(new_df['Mark'].std())"
   ]
  },
  {
   "cell_type": "code",
   "execution_count": 33,
   "id": "1a84d3ef",
   "metadata": {},
   "outputs": [
    {
     "data": {
      "text/plain": [
       "0    10.0\n",
       "1    20.0\n",
       "2     9.0\n",
       "3    40.0\n",
       "4    50.0\n",
       "5     9.0\n",
       "6    70.0\n",
       "7    80.0\n",
       "8     9.0\n",
       "Name: Mark, dtype: float64"
      ]
     },
     "execution_count": 33,
     "metadata": {},
     "output_type": "execute_result"
    }
   ],
   "source": [
    "#replacing nan values with the max of another column known as id\n",
    "new_df['Mark'].fillna(new_df['id'].max())"
   ]
  }
 ],
 "metadata": {
  "kernelspec": {
   "display_name": "Python 3 (ipykernel)",
   "language": "python",
   "name": "python3"
  },
  "language_info": {
   "codemirror_mode": {
    "name": "ipython",
    "version": 3
   },
   "file_extension": ".py",
   "mimetype": "text/x-python",
   "name": "python",
   "nbconvert_exporter": "python",
   "pygments_lexer": "ipython3",
   "version": "3.9.12"
  }
 },
 "nbformat": 4,
 "nbformat_minor": 5
}
