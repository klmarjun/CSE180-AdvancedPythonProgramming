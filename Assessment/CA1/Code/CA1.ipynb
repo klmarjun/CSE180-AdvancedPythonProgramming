{
 "cells": [
  {
   "cell_type": "code",
   "execution_count": 1,
   "id": "8d37cf00",
   "metadata": {},
   "outputs": [],
   "source": [
    "#Importing packages\n",
    "import pandas as pd\n",
    "import numpy as np"
   ]
  },
  {
   "cell_type": "code",
   "execution_count": 2,
   "id": "305bece3",
   "metadata": {},
   "outputs": [],
   "source": [
    "# #TO create a DF\n",
    "# 1.Determine the columns\n",
    "# 2.Using for loop  and numpy generate some fake values\n",
    "# 3.Create a empty Dataframe"
   ]
  },
  {
   "cell_type": "code",
   "execution_count": 3,
   "id": "6d10cfc9",
   "metadata": {},
   "outputs": [],
   "source": [
    "df=pd.DataFrame(columns=['COlumn1','COlumn2'])"
   ]
  },
  {
   "cell_type": "code",
   "execution_count": 4,
   "id": "64ca16c7",
   "metadata": {},
   "outputs": [
    {
     "data": {
      "text/html": [
       "<div>\n",
       "<style scoped>\n",
       "    .dataframe tbody tr th:only-of-type {\n",
       "        vertical-align: middle;\n",
       "    }\n",
       "\n",
       "    .dataframe tbody tr th {\n",
       "        vertical-align: top;\n",
       "    }\n",
       "\n",
       "    .dataframe thead th {\n",
       "        text-align: right;\n",
       "    }\n",
       "</style>\n",
       "<table border=\"1\" class=\"dataframe\">\n",
       "  <thead>\n",
       "    <tr style=\"text-align: right;\">\n",
       "      <th></th>\n",
       "      <th>COlumn1</th>\n",
       "      <th>COlumn2</th>\n",
       "    </tr>\n",
       "  </thead>\n",
       "  <tbody>\n",
       "  </tbody>\n",
       "</table>\n",
       "</div>"
      ],
      "text/plain": [
       "Empty DataFrame\n",
       "Columns: [COlumn1, COlumn2]\n",
       "Index: []"
      ]
     },
     "execution_count": 4,
     "metadata": {},
     "output_type": "execute_result"
    }
   ],
   "source": [
    "df"
   ]
  },
  {
   "cell_type": "code",
   "execution_count": 5,
   "id": "be047867",
   "metadata": {},
   "outputs": [],
   "source": [
    "df['COlumn1']=np.random.choice([1,0],99)"
   ]
  },
  {
   "cell_type": "code",
   "execution_count": 6,
   "id": "89d5da6c",
   "metadata": {},
   "outputs": [
    {
     "data": {
      "text/plain": [
       "pandas.core.frame.DataFrame"
      ]
     },
     "execution_count": 6,
     "metadata": {},
     "output_type": "execute_result"
    }
   ],
   "source": [
    "type(df)"
   ]
  },
  {
   "cell_type": "code",
   "execution_count": 7,
   "id": "147d3047",
   "metadata": {
    "scrolled": true
   },
   "outputs": [
    {
     "data": {
      "text/html": [
       "<div>\n",
       "<style scoped>\n",
       "    .dataframe tbody tr th:only-of-type {\n",
       "        vertical-align: middle;\n",
       "    }\n",
       "\n",
       "    .dataframe tbody tr th {\n",
       "        vertical-align: top;\n",
       "    }\n",
       "\n",
       "    .dataframe thead th {\n",
       "        text-align: right;\n",
       "    }\n",
       "</style>\n",
       "<table border=\"1\" class=\"dataframe\">\n",
       "  <thead>\n",
       "    <tr style=\"text-align: right;\">\n",
       "      <th></th>\n",
       "      <th>COlumn1</th>\n",
       "      <th>COlumn2</th>\n",
       "    </tr>\n",
       "  </thead>\n",
       "  <tbody>\n",
       "    <tr>\n",
       "      <th>0</th>\n",
       "      <td>0</td>\n",
       "      <td>NaN</td>\n",
       "    </tr>\n",
       "    <tr>\n",
       "      <th>1</th>\n",
       "      <td>0</td>\n",
       "      <td>NaN</td>\n",
       "    </tr>\n",
       "    <tr>\n",
       "      <th>2</th>\n",
       "      <td>0</td>\n",
       "      <td>NaN</td>\n",
       "    </tr>\n",
       "    <tr>\n",
       "      <th>3</th>\n",
       "      <td>0</td>\n",
       "      <td>NaN</td>\n",
       "    </tr>\n",
       "    <tr>\n",
       "      <th>4</th>\n",
       "      <td>0</td>\n",
       "      <td>NaN</td>\n",
       "    </tr>\n",
       "    <tr>\n",
       "      <th>...</th>\n",
       "      <td>...</td>\n",
       "      <td>...</td>\n",
       "    </tr>\n",
       "    <tr>\n",
       "      <th>94</th>\n",
       "      <td>0</td>\n",
       "      <td>NaN</td>\n",
       "    </tr>\n",
       "    <tr>\n",
       "      <th>95</th>\n",
       "      <td>0</td>\n",
       "      <td>NaN</td>\n",
       "    </tr>\n",
       "    <tr>\n",
       "      <th>96</th>\n",
       "      <td>0</td>\n",
       "      <td>NaN</td>\n",
       "    </tr>\n",
       "    <tr>\n",
       "      <th>97</th>\n",
       "      <td>1</td>\n",
       "      <td>NaN</td>\n",
       "    </tr>\n",
       "    <tr>\n",
       "      <th>98</th>\n",
       "      <td>1</td>\n",
       "      <td>NaN</td>\n",
       "    </tr>\n",
       "  </tbody>\n",
       "</table>\n",
       "<p>99 rows × 2 columns</p>\n",
       "</div>"
      ],
      "text/plain": [
       "    COlumn1 COlumn2\n",
       "0         0     NaN\n",
       "1         0     NaN\n",
       "2         0     NaN\n",
       "3         0     NaN\n",
       "4         0     NaN\n",
       "..      ...     ...\n",
       "94        0     NaN\n",
       "95        0     NaN\n",
       "96        0     NaN\n",
       "97        1     NaN\n",
       "98        1     NaN\n",
       "\n",
       "[99 rows x 2 columns]"
      ]
     },
     "execution_count": 7,
     "metadata": {},
     "output_type": "execute_result"
    }
   ],
   "source": [
    "df"
   ]
  },
  {
   "cell_type": "code",
   "execution_count": 8,
   "id": "49258780",
   "metadata": {},
   "outputs": [],
   "source": [
    "df.iloc[1,1]=58"
   ]
  },
  {
   "cell_type": "code",
   "execution_count": 9,
   "id": "cc9ab107",
   "metadata": {},
   "outputs": [
    {
     "data": {
      "text/html": [
       "<div>\n",
       "<style scoped>\n",
       "    .dataframe tbody tr th:only-of-type {\n",
       "        vertical-align: middle;\n",
       "    }\n",
       "\n",
       "    .dataframe tbody tr th {\n",
       "        vertical-align: top;\n",
       "    }\n",
       "\n",
       "    .dataframe thead th {\n",
       "        text-align: right;\n",
       "    }\n",
       "</style>\n",
       "<table border=\"1\" class=\"dataframe\">\n",
       "  <thead>\n",
       "    <tr style=\"text-align: right;\">\n",
       "      <th></th>\n",
       "      <th>COlumn1</th>\n",
       "      <th>COlumn2</th>\n",
       "    </tr>\n",
       "  </thead>\n",
       "  <tbody>\n",
       "    <tr>\n",
       "      <th>0</th>\n",
       "      <td>0</td>\n",
       "      <td>NaN</td>\n",
       "    </tr>\n",
       "    <tr>\n",
       "      <th>1</th>\n",
       "      <td>0</td>\n",
       "      <td>58</td>\n",
       "    </tr>\n",
       "    <tr>\n",
       "      <th>2</th>\n",
       "      <td>0</td>\n",
       "      <td>NaN</td>\n",
       "    </tr>\n",
       "    <tr>\n",
       "      <th>3</th>\n",
       "      <td>0</td>\n",
       "      <td>NaN</td>\n",
       "    </tr>\n",
       "    <tr>\n",
       "      <th>4</th>\n",
       "      <td>0</td>\n",
       "      <td>NaN</td>\n",
       "    </tr>\n",
       "    <tr>\n",
       "      <th>...</th>\n",
       "      <td>...</td>\n",
       "      <td>...</td>\n",
       "    </tr>\n",
       "    <tr>\n",
       "      <th>94</th>\n",
       "      <td>0</td>\n",
       "      <td>NaN</td>\n",
       "    </tr>\n",
       "    <tr>\n",
       "      <th>95</th>\n",
       "      <td>0</td>\n",
       "      <td>NaN</td>\n",
       "    </tr>\n",
       "    <tr>\n",
       "      <th>96</th>\n",
       "      <td>0</td>\n",
       "      <td>NaN</td>\n",
       "    </tr>\n",
       "    <tr>\n",
       "      <th>97</th>\n",
       "      <td>1</td>\n",
       "      <td>NaN</td>\n",
       "    </tr>\n",
       "    <tr>\n",
       "      <th>98</th>\n",
       "      <td>1</td>\n",
       "      <td>NaN</td>\n",
       "    </tr>\n",
       "  </tbody>\n",
       "</table>\n",
       "<p>99 rows × 2 columns</p>\n",
       "</div>"
      ],
      "text/plain": [
       "    COlumn1 COlumn2\n",
       "0         0     NaN\n",
       "1         0      58\n",
       "2         0     NaN\n",
       "3         0     NaN\n",
       "4         0     NaN\n",
       "..      ...     ...\n",
       "94        0     NaN\n",
       "95        0     NaN\n",
       "96        0     NaN\n",
       "97        1     NaN\n",
       "98        1     NaN\n",
       "\n",
       "[99 rows x 2 columns]"
      ]
     },
     "execution_count": 9,
     "metadata": {},
     "output_type": "execute_result"
    }
   ],
   "source": [
    "df"
   ]
  },
  {
   "cell_type": "code",
   "execution_count": 10,
   "id": "ff923337",
   "metadata": {},
   "outputs": [],
   "source": [
    "df.iloc[0,1]=58"
   ]
  },
  {
   "cell_type": "code",
   "execution_count": 11,
   "id": "98473794",
   "metadata": {},
   "outputs": [
    {
     "data": {
      "text/html": [
       "<div>\n",
       "<style scoped>\n",
       "    .dataframe tbody tr th:only-of-type {\n",
       "        vertical-align: middle;\n",
       "    }\n",
       "\n",
       "    .dataframe tbody tr th {\n",
       "        vertical-align: top;\n",
       "    }\n",
       "\n",
       "    .dataframe thead th {\n",
       "        text-align: right;\n",
       "    }\n",
       "</style>\n",
       "<table border=\"1\" class=\"dataframe\">\n",
       "  <thead>\n",
       "    <tr style=\"text-align: right;\">\n",
       "      <th></th>\n",
       "      <th>COlumn1</th>\n",
       "      <th>COlumn2</th>\n",
       "    </tr>\n",
       "  </thead>\n",
       "  <tbody>\n",
       "    <tr>\n",
       "      <th>0</th>\n",
       "      <td>0</td>\n",
       "      <td>58</td>\n",
       "    </tr>\n",
       "    <tr>\n",
       "      <th>1</th>\n",
       "      <td>0</td>\n",
       "      <td>58</td>\n",
       "    </tr>\n",
       "    <tr>\n",
       "      <th>2</th>\n",
       "      <td>0</td>\n",
       "      <td>NaN</td>\n",
       "    </tr>\n",
       "    <tr>\n",
       "      <th>3</th>\n",
       "      <td>0</td>\n",
       "      <td>NaN</td>\n",
       "    </tr>\n",
       "    <tr>\n",
       "      <th>4</th>\n",
       "      <td>0</td>\n",
       "      <td>NaN</td>\n",
       "    </tr>\n",
       "    <tr>\n",
       "      <th>...</th>\n",
       "      <td>...</td>\n",
       "      <td>...</td>\n",
       "    </tr>\n",
       "    <tr>\n",
       "      <th>94</th>\n",
       "      <td>0</td>\n",
       "      <td>NaN</td>\n",
       "    </tr>\n",
       "    <tr>\n",
       "      <th>95</th>\n",
       "      <td>0</td>\n",
       "      <td>NaN</td>\n",
       "    </tr>\n",
       "    <tr>\n",
       "      <th>96</th>\n",
       "      <td>0</td>\n",
       "      <td>NaN</td>\n",
       "    </tr>\n",
       "    <tr>\n",
       "      <th>97</th>\n",
       "      <td>1</td>\n",
       "      <td>NaN</td>\n",
       "    </tr>\n",
       "    <tr>\n",
       "      <th>98</th>\n",
       "      <td>1</td>\n",
       "      <td>NaN</td>\n",
       "    </tr>\n",
       "  </tbody>\n",
       "</table>\n",
       "<p>99 rows × 2 columns</p>\n",
       "</div>"
      ],
      "text/plain": [
       "    COlumn1 COlumn2\n",
       "0         0      58\n",
       "1         0      58\n",
       "2         0     NaN\n",
       "3         0     NaN\n",
       "4         0     NaN\n",
       "..      ...     ...\n",
       "94        0     NaN\n",
       "95        0     NaN\n",
       "96        0     NaN\n",
       "97        1     NaN\n",
       "98        1     NaN\n",
       "\n",
       "[99 rows x 2 columns]"
      ]
     },
     "execution_count": 11,
     "metadata": {},
     "output_type": "execute_result"
    }
   ],
   "source": [
    "df"
   ]
  },
  {
   "cell_type": "code",
   "execution_count": 12,
   "id": "7a9037d6",
   "metadata": {},
   "outputs": [],
   "source": [
    "dic={'COlumn1':47,'COlumn2':57}"
   ]
  },
  {
   "cell_type": "code",
   "execution_count": 13,
   "id": "e23c03f6",
   "metadata": {},
   "outputs": [],
   "source": [
    "new_df=pd.DataFrame(dic,index=[99])"
   ]
  },
  {
   "cell_type": "code",
   "execution_count": 14,
   "id": "25f91681",
   "metadata": {},
   "outputs": [],
   "source": [
    "df=pd.concat([df,new_df])  "
   ]
  },
  {
   "cell_type": "code",
   "execution_count": 15,
   "id": "e0fcb839",
   "metadata": {},
   "outputs": [
    {
     "data": {
      "text/html": [
       "<div>\n",
       "<style scoped>\n",
       "    .dataframe tbody tr th:only-of-type {\n",
       "        vertical-align: middle;\n",
       "    }\n",
       "\n",
       "    .dataframe tbody tr th {\n",
       "        vertical-align: top;\n",
       "    }\n",
       "\n",
       "    .dataframe thead th {\n",
       "        text-align: right;\n",
       "    }\n",
       "</style>\n",
       "<table border=\"1\" class=\"dataframe\">\n",
       "  <thead>\n",
       "    <tr style=\"text-align: right;\">\n",
       "      <th></th>\n",
       "      <th>COlumn1</th>\n",
       "      <th>COlumn2</th>\n",
       "    </tr>\n",
       "  </thead>\n",
       "  <tbody>\n",
       "    <tr>\n",
       "      <th>0</th>\n",
       "      <td>0</td>\n",
       "      <td>58</td>\n",
       "    </tr>\n",
       "    <tr>\n",
       "      <th>1</th>\n",
       "      <td>0</td>\n",
       "      <td>58</td>\n",
       "    </tr>\n",
       "    <tr>\n",
       "      <th>2</th>\n",
       "      <td>0</td>\n",
       "      <td>NaN</td>\n",
       "    </tr>\n",
       "    <tr>\n",
       "      <th>3</th>\n",
       "      <td>0</td>\n",
       "      <td>NaN</td>\n",
       "    </tr>\n",
       "    <tr>\n",
       "      <th>4</th>\n",
       "      <td>0</td>\n",
       "      <td>NaN</td>\n",
       "    </tr>\n",
       "    <tr>\n",
       "      <th>...</th>\n",
       "      <td>...</td>\n",
       "      <td>...</td>\n",
       "    </tr>\n",
       "    <tr>\n",
       "      <th>95</th>\n",
       "      <td>0</td>\n",
       "      <td>NaN</td>\n",
       "    </tr>\n",
       "    <tr>\n",
       "      <th>96</th>\n",
       "      <td>0</td>\n",
       "      <td>NaN</td>\n",
       "    </tr>\n",
       "    <tr>\n",
       "      <th>97</th>\n",
       "      <td>1</td>\n",
       "      <td>NaN</td>\n",
       "    </tr>\n",
       "    <tr>\n",
       "      <th>98</th>\n",
       "      <td>1</td>\n",
       "      <td>NaN</td>\n",
       "    </tr>\n",
       "    <tr>\n",
       "      <th>99</th>\n",
       "      <td>47</td>\n",
       "      <td>57</td>\n",
       "    </tr>\n",
       "  </tbody>\n",
       "</table>\n",
       "<p>100 rows × 2 columns</p>\n",
       "</div>"
      ],
      "text/plain": [
       "    COlumn1 COlumn2\n",
       "0         0      58\n",
       "1         0      58\n",
       "2         0     NaN\n",
       "3         0     NaN\n",
       "4         0     NaN\n",
       "..      ...     ...\n",
       "95        0     NaN\n",
       "96        0     NaN\n",
       "97        1     NaN\n",
       "98        1     NaN\n",
       "99       47      57\n",
       "\n",
       "[100 rows x 2 columns]"
      ]
     },
     "execution_count": 15,
     "metadata": {},
     "output_type": "execute_result"
    }
   ],
   "source": [
    "df"
   ]
  },
  {
   "cell_type": "code",
   "execution_count": 16,
   "id": "405a69de",
   "metadata": {},
   "outputs": [],
   "source": [
    "df['COlumn3']=np.arange(1,101,1)"
   ]
  },
  {
   "cell_type": "code",
   "execution_count": 17,
   "id": "2137b5ee",
   "metadata": {},
   "outputs": [
    {
     "data": {
      "text/html": [
       "<div>\n",
       "<style scoped>\n",
       "    .dataframe tbody tr th:only-of-type {\n",
       "        vertical-align: middle;\n",
       "    }\n",
       "\n",
       "    .dataframe tbody tr th {\n",
       "        vertical-align: top;\n",
       "    }\n",
       "\n",
       "    .dataframe thead th {\n",
       "        text-align: right;\n",
       "    }\n",
       "</style>\n",
       "<table border=\"1\" class=\"dataframe\">\n",
       "  <thead>\n",
       "    <tr style=\"text-align: right;\">\n",
       "      <th></th>\n",
       "      <th>COlumn1</th>\n",
       "      <th>COlumn2</th>\n",
       "      <th>COlumn3</th>\n",
       "    </tr>\n",
       "  </thead>\n",
       "  <tbody>\n",
       "    <tr>\n",
       "      <th>0</th>\n",
       "      <td>0</td>\n",
       "      <td>58</td>\n",
       "      <td>1</td>\n",
       "    </tr>\n",
       "    <tr>\n",
       "      <th>1</th>\n",
       "      <td>0</td>\n",
       "      <td>58</td>\n",
       "      <td>2</td>\n",
       "    </tr>\n",
       "    <tr>\n",
       "      <th>2</th>\n",
       "      <td>0</td>\n",
       "      <td>NaN</td>\n",
       "      <td>3</td>\n",
       "    </tr>\n",
       "    <tr>\n",
       "      <th>3</th>\n",
       "      <td>0</td>\n",
       "      <td>NaN</td>\n",
       "      <td>4</td>\n",
       "    </tr>\n",
       "    <tr>\n",
       "      <th>4</th>\n",
       "      <td>0</td>\n",
       "      <td>NaN</td>\n",
       "      <td>5</td>\n",
       "    </tr>\n",
       "    <tr>\n",
       "      <th>...</th>\n",
       "      <td>...</td>\n",
       "      <td>...</td>\n",
       "      <td>...</td>\n",
       "    </tr>\n",
       "    <tr>\n",
       "      <th>95</th>\n",
       "      <td>0</td>\n",
       "      <td>NaN</td>\n",
       "      <td>96</td>\n",
       "    </tr>\n",
       "    <tr>\n",
       "      <th>96</th>\n",
       "      <td>0</td>\n",
       "      <td>NaN</td>\n",
       "      <td>97</td>\n",
       "    </tr>\n",
       "    <tr>\n",
       "      <th>97</th>\n",
       "      <td>1</td>\n",
       "      <td>NaN</td>\n",
       "      <td>98</td>\n",
       "    </tr>\n",
       "    <tr>\n",
       "      <th>98</th>\n",
       "      <td>1</td>\n",
       "      <td>NaN</td>\n",
       "      <td>99</td>\n",
       "    </tr>\n",
       "    <tr>\n",
       "      <th>99</th>\n",
       "      <td>47</td>\n",
       "      <td>57</td>\n",
       "      <td>100</td>\n",
       "    </tr>\n",
       "  </tbody>\n",
       "</table>\n",
       "<p>100 rows × 3 columns</p>\n",
       "</div>"
      ],
      "text/plain": [
       "    COlumn1 COlumn2  COlumn3\n",
       "0         0      58        1\n",
       "1         0      58        2\n",
       "2         0     NaN        3\n",
       "3         0     NaN        4\n",
       "4         0     NaN        5\n",
       "..      ...     ...      ...\n",
       "95        0     NaN       96\n",
       "96        0     NaN       97\n",
       "97        1     NaN       98\n",
       "98        1     NaN       99\n",
       "99       47      57      100\n",
       "\n",
       "[100 rows x 3 columns]"
      ]
     },
     "execution_count": 17,
     "metadata": {},
     "output_type": "execute_result"
    }
   ],
   "source": [
    "df"
   ]
  },
  {
   "cell_type": "code",
   "execution_count": 18,
   "id": "32586826",
   "metadata": {},
   "outputs": [
    {
     "data": {
      "text/plain": [
       "0     58.000000\n",
       "1     58.000000\n",
       "2     57.666667\n",
       "3     57.666667\n",
       "4     57.666667\n",
       "        ...    \n",
       "95    57.666667\n",
       "96    57.666667\n",
       "97    57.666667\n",
       "98    57.666667\n",
       "99    57.000000\n",
       "Name: COlumn2, Length: 100, dtype: float64"
      ]
     },
     "execution_count": 18,
     "metadata": {},
     "output_type": "execute_result"
    }
   ],
   "source": [
    "df['COlumn2'].fillna(df['COlumn2'].mean())"
   ]
  },
  {
   "cell_type": "code",
   "execution_count": 19,
   "id": "dc29f77d",
   "metadata": {},
   "outputs": [],
   "source": [
    "df['COlumn2']=df['COlumn2'].fillna(df['COlumn2'].mean())"
   ]
  },
  {
   "cell_type": "code",
   "execution_count": 20,
   "id": "19b9126a",
   "metadata": {},
   "outputs": [
    {
     "data": {
      "text/html": [
       "<div>\n",
       "<style scoped>\n",
       "    .dataframe tbody tr th:only-of-type {\n",
       "        vertical-align: middle;\n",
       "    }\n",
       "\n",
       "    .dataframe tbody tr th {\n",
       "        vertical-align: top;\n",
       "    }\n",
       "\n",
       "    .dataframe thead th {\n",
       "        text-align: right;\n",
       "    }\n",
       "</style>\n",
       "<table border=\"1\" class=\"dataframe\">\n",
       "  <thead>\n",
       "    <tr style=\"text-align: right;\">\n",
       "      <th></th>\n",
       "      <th>COlumn1</th>\n",
       "      <th>COlumn2</th>\n",
       "      <th>COlumn3</th>\n",
       "    </tr>\n",
       "  </thead>\n",
       "  <tbody>\n",
       "    <tr>\n",
       "      <th>0</th>\n",
       "      <td>0</td>\n",
       "      <td>58.000000</td>\n",
       "      <td>1</td>\n",
       "    </tr>\n",
       "    <tr>\n",
       "      <th>1</th>\n",
       "      <td>0</td>\n",
       "      <td>58.000000</td>\n",
       "      <td>2</td>\n",
       "    </tr>\n",
       "    <tr>\n",
       "      <th>2</th>\n",
       "      <td>0</td>\n",
       "      <td>57.666667</td>\n",
       "      <td>3</td>\n",
       "    </tr>\n",
       "    <tr>\n",
       "      <th>3</th>\n",
       "      <td>0</td>\n",
       "      <td>57.666667</td>\n",
       "      <td>4</td>\n",
       "    </tr>\n",
       "    <tr>\n",
       "      <th>4</th>\n",
       "      <td>0</td>\n",
       "      <td>57.666667</td>\n",
       "      <td>5</td>\n",
       "    </tr>\n",
       "    <tr>\n",
       "      <th>...</th>\n",
       "      <td>...</td>\n",
       "      <td>...</td>\n",
       "      <td>...</td>\n",
       "    </tr>\n",
       "    <tr>\n",
       "      <th>95</th>\n",
       "      <td>0</td>\n",
       "      <td>57.666667</td>\n",
       "      <td>96</td>\n",
       "    </tr>\n",
       "    <tr>\n",
       "      <th>96</th>\n",
       "      <td>0</td>\n",
       "      <td>57.666667</td>\n",
       "      <td>97</td>\n",
       "    </tr>\n",
       "    <tr>\n",
       "      <th>97</th>\n",
       "      <td>1</td>\n",
       "      <td>57.666667</td>\n",
       "      <td>98</td>\n",
       "    </tr>\n",
       "    <tr>\n",
       "      <th>98</th>\n",
       "      <td>1</td>\n",
       "      <td>57.666667</td>\n",
       "      <td>99</td>\n",
       "    </tr>\n",
       "    <tr>\n",
       "      <th>99</th>\n",
       "      <td>47</td>\n",
       "      <td>57.000000</td>\n",
       "      <td>100</td>\n",
       "    </tr>\n",
       "  </tbody>\n",
       "</table>\n",
       "<p>100 rows × 3 columns</p>\n",
       "</div>"
      ],
      "text/plain": [
       "    COlumn1    COlumn2  COlumn3\n",
       "0         0  58.000000        1\n",
       "1         0  58.000000        2\n",
       "2         0  57.666667        3\n",
       "3         0  57.666667        4\n",
       "4         0  57.666667        5\n",
       "..      ...        ...      ...\n",
       "95        0  57.666667       96\n",
       "96        0  57.666667       97\n",
       "97        1  57.666667       98\n",
       "98        1  57.666667       99\n",
       "99       47  57.000000      100\n",
       "\n",
       "[100 rows x 3 columns]"
      ]
     },
     "execution_count": 20,
     "metadata": {},
     "output_type": "execute_result"
    }
   ],
   "source": [
    "df"
   ]
  },
  {
   "cell_type": "code",
   "execution_count": 21,
   "id": "dceec408",
   "metadata": {},
   "outputs": [
    {
     "data": {
      "text/html": [
       "<div>\n",
       "<style scoped>\n",
       "    .dataframe tbody tr th:only-of-type {\n",
       "        vertical-align: middle;\n",
       "    }\n",
       "\n",
       "    .dataframe tbody tr th {\n",
       "        vertical-align: top;\n",
       "    }\n",
       "\n",
       "    .dataframe thead th {\n",
       "        text-align: right;\n",
       "    }\n",
       "</style>\n",
       "<table border=\"1\" class=\"dataframe\">\n",
       "  <thead>\n",
       "    <tr style=\"text-align: right;\">\n",
       "      <th></th>\n",
       "      <th>COlumn1</th>\n",
       "      <th>COlumn2</th>\n",
       "      <th>COlumn3</th>\n",
       "    </tr>\n",
       "  </thead>\n",
       "  <tbody>\n",
       "    <tr>\n",
       "      <th>0</th>\n",
       "      <td>False</td>\n",
       "      <td>False</td>\n",
       "      <td>False</td>\n",
       "    </tr>\n",
       "    <tr>\n",
       "      <th>1</th>\n",
       "      <td>False</td>\n",
       "      <td>False</td>\n",
       "      <td>False</td>\n",
       "    </tr>\n",
       "    <tr>\n",
       "      <th>2</th>\n",
       "      <td>False</td>\n",
       "      <td>False</td>\n",
       "      <td>False</td>\n",
       "    </tr>\n",
       "    <tr>\n",
       "      <th>3</th>\n",
       "      <td>False</td>\n",
       "      <td>False</td>\n",
       "      <td>False</td>\n",
       "    </tr>\n",
       "    <tr>\n",
       "      <th>4</th>\n",
       "      <td>False</td>\n",
       "      <td>False</td>\n",
       "      <td>False</td>\n",
       "    </tr>\n",
       "    <tr>\n",
       "      <th>...</th>\n",
       "      <td>...</td>\n",
       "      <td>...</td>\n",
       "      <td>...</td>\n",
       "    </tr>\n",
       "    <tr>\n",
       "      <th>95</th>\n",
       "      <td>False</td>\n",
       "      <td>False</td>\n",
       "      <td>False</td>\n",
       "    </tr>\n",
       "    <tr>\n",
       "      <th>96</th>\n",
       "      <td>False</td>\n",
       "      <td>False</td>\n",
       "      <td>False</td>\n",
       "    </tr>\n",
       "    <tr>\n",
       "      <th>97</th>\n",
       "      <td>False</td>\n",
       "      <td>False</td>\n",
       "      <td>False</td>\n",
       "    </tr>\n",
       "    <tr>\n",
       "      <th>98</th>\n",
       "      <td>False</td>\n",
       "      <td>False</td>\n",
       "      <td>False</td>\n",
       "    </tr>\n",
       "    <tr>\n",
       "      <th>99</th>\n",
       "      <td>False</td>\n",
       "      <td>False</td>\n",
       "      <td>False</td>\n",
       "    </tr>\n",
       "  </tbody>\n",
       "</table>\n",
       "<p>100 rows × 3 columns</p>\n",
       "</div>"
      ],
      "text/plain": [
       "    COlumn1  COlumn2  COlumn3\n",
       "0     False    False    False\n",
       "1     False    False    False\n",
       "2     False    False    False\n",
       "3     False    False    False\n",
       "4     False    False    False\n",
       "..      ...      ...      ...\n",
       "95    False    False    False\n",
       "96    False    False    False\n",
       "97    False    False    False\n",
       "98    False    False    False\n",
       "99    False    False    False\n",
       "\n",
       "[100 rows x 3 columns]"
      ]
     },
     "execution_count": 21,
     "metadata": {},
     "output_type": "execute_result"
    }
   ],
   "source": [
    "df.isnull()"
   ]
  },
  {
   "cell_type": "code",
   "execution_count": 22,
   "id": "903ac6db",
   "metadata": {},
   "outputs": [
    {
     "data": {
      "text/plain": [
       "57"
      ]
     },
     "execution_count": 22,
     "metadata": {},
     "output_type": "execute_result"
    }
   ],
   "source": [
    "import math\n",
    "math.floor(df['COlumn2'].mean())"
   ]
  },
  {
   "cell_type": "code",
   "execution_count": 23,
   "id": "1d3ebe4d",
   "metadata": {
    "scrolled": true
   },
   "outputs": [
    {
     "data": {
      "text/html": [
       "<div>\n",
       "<style scoped>\n",
       "    .dataframe tbody tr th:only-of-type {\n",
       "        vertical-align: middle;\n",
       "    }\n",
       "\n",
       "    .dataframe tbody tr th {\n",
       "        vertical-align: top;\n",
       "    }\n",
       "\n",
       "    .dataframe thead th {\n",
       "        text-align: right;\n",
       "    }\n",
       "</style>\n",
       "<table border=\"1\" class=\"dataframe\">\n",
       "  <thead>\n",
       "    <tr style=\"text-align: right;\">\n",
       "      <th></th>\n",
       "      <th>COlumn1</th>\n",
       "      <th>COlumn2</th>\n",
       "      <th>COlumn3</th>\n",
       "    </tr>\n",
       "  </thead>\n",
       "  <tbody>\n",
       "    <tr>\n",
       "      <th>count</th>\n",
       "      <td>100.000000</td>\n",
       "      <td>100.000000</td>\n",
       "      <td>100.000000</td>\n",
       "    </tr>\n",
       "    <tr>\n",
       "      <th>mean</th>\n",
       "      <td>0.940000</td>\n",
       "      <td>57.666667</td>\n",
       "      <td>50.500000</td>\n",
       "    </tr>\n",
       "    <tr>\n",
       "      <th>std</th>\n",
       "      <td>4.679247</td>\n",
       "      <td>0.082061</td>\n",
       "      <td>29.011492</td>\n",
       "    </tr>\n",
       "    <tr>\n",
       "      <th>min</th>\n",
       "      <td>0.000000</td>\n",
       "      <td>57.000000</td>\n",
       "      <td>1.000000</td>\n",
       "    </tr>\n",
       "    <tr>\n",
       "      <th>25%</th>\n",
       "      <td>0.000000</td>\n",
       "      <td>57.666667</td>\n",
       "      <td>25.750000</td>\n",
       "    </tr>\n",
       "    <tr>\n",
       "      <th>50%</th>\n",
       "      <td>0.000000</td>\n",
       "      <td>57.666667</td>\n",
       "      <td>50.500000</td>\n",
       "    </tr>\n",
       "    <tr>\n",
       "      <th>75%</th>\n",
       "      <td>1.000000</td>\n",
       "      <td>57.666667</td>\n",
       "      <td>75.250000</td>\n",
       "    </tr>\n",
       "    <tr>\n",
       "      <th>max</th>\n",
       "      <td>47.000000</td>\n",
       "      <td>58.000000</td>\n",
       "      <td>100.000000</td>\n",
       "    </tr>\n",
       "  </tbody>\n",
       "</table>\n",
       "</div>"
      ],
      "text/plain": [
       "          COlumn1     COlumn2     COlumn3\n",
       "count  100.000000  100.000000  100.000000\n",
       "mean     0.940000   57.666667   50.500000\n",
       "std      4.679247    0.082061   29.011492\n",
       "min      0.000000   57.000000    1.000000\n",
       "25%      0.000000   57.666667   25.750000\n",
       "50%      0.000000   57.666667   50.500000\n",
       "75%      1.000000   57.666667   75.250000\n",
       "max     47.000000   58.000000  100.000000"
      ]
     },
     "execution_count": 23,
     "metadata": {},
     "output_type": "execute_result"
    }
   ],
   "source": [
    "df.describe()"
   ]
  },
  {
   "cell_type": "code",
   "execution_count": 24,
   "id": "665fc969",
   "metadata": {
    "scrolled": true
   },
   "outputs": [
    {
     "name": "stdout",
     "output_type": "stream",
     "text": [
      "<class 'pandas.core.frame.DataFrame'>\n",
      "Int64Index: 100 entries, 0 to 99\n",
      "Data columns (total 3 columns):\n",
      " #   Column   Non-Null Count  Dtype  \n",
      "---  ------   --------------  -----  \n",
      " 0   COlumn1  100 non-null    int64  \n",
      " 1   COlumn2  100 non-null    float64\n",
      " 2   COlumn3  100 non-null    int32  \n",
      "dtypes: float64(1), int32(1), int64(1)\n",
      "memory usage: 2.7 KB\n"
     ]
    }
   ],
   "source": [
    "df.info()"
   ]
  },
  {
   "cell_type": "code",
   "execution_count": 25,
   "id": "5536cbe2",
   "metadata": {
    "scrolled": true
   },
   "outputs": [
    {
     "name": "stdout",
     "output_type": "stream",
     "text": [
      "0\n",
      "1\n",
      "2\n",
      "3\n",
      "4\n",
      "5\n",
      "6\n",
      "7\n",
      "8\n",
      "9\n",
      "10\n",
      "11\n",
      "12\n",
      "13\n",
      "14\n",
      "15\n",
      "16\n",
      "17\n",
      "18\n",
      "19\n",
      "20\n",
      "21\n",
      "22\n",
      "23\n",
      "24\n",
      "25\n",
      "26\n",
      "27\n",
      "28\n",
      "29\n",
      "30\n",
      "31\n",
      "32\n",
      "33\n",
      "34\n",
      "35\n",
      "36\n",
      "37\n",
      "38\n",
      "39\n",
      "40\n",
      "41\n",
      "42\n",
      "43\n",
      "44\n",
      "45\n",
      "46\n",
      "47\n",
      "48\n",
      "49\n",
      "50\n",
      "51\n",
      "52\n",
      "53\n",
      "54\n",
      "55\n",
      "56\n",
      "57\n",
      "58\n",
      "59\n",
      "60\n",
      "61\n",
      "62\n",
      "63\n",
      "64\n",
      "65\n",
      "66\n",
      "67\n",
      "68\n",
      "69\n",
      "70\n",
      "71\n",
      "72\n",
      "73\n",
      "74\n",
      "75\n",
      "76\n",
      "77\n",
      "78\n",
      "79\n",
      "80\n",
      "81\n",
      "82\n",
      "83\n",
      "84\n",
      "85\n",
      "86\n",
      "87\n",
      "88\n",
      "89\n",
      "90\n",
      "91\n",
      "92\n",
      "93\n",
      "94\n",
      "95\n",
      "96\n",
      "97\n",
      "98\n",
      "99\n"
     ]
    }
   ],
   "source": [
    "for x in df.index:\n",
    "    print(x)"
   ]
  },
  {
   "cell_type": "code",
   "execution_count": 26,
   "id": "105aada9",
   "metadata": {},
   "outputs": [
    {
     "data": {
      "text/plain": [
       "Index(['COlumn1', 'COlumn2', 'COlumn3'], dtype='object')"
      ]
     },
     "execution_count": 26,
     "metadata": {},
     "output_type": "execute_result"
    }
   ],
   "source": [
    "df.columns"
   ]
  },
  {
   "cell_type": "code",
   "execution_count": 27,
   "id": "bae05bcd",
   "metadata": {},
   "outputs": [
    {
     "data": {
      "text/plain": [
       "Int64Index([ 0,  1,  2,  3,  4,  5,  6,  7,  8,  9, 10, 11, 12, 13, 14, 15, 16,\n",
       "            17, 18, 19, 20, 21, 22, 23, 24, 25, 26, 27, 28, 29, 30, 31, 32, 33,\n",
       "            34, 35, 36, 37, 38, 39, 40, 41, 42, 43, 44, 45, 46, 47, 48, 49, 50,\n",
       "            51, 52, 53, 54, 55, 56, 57, 58, 59, 60, 61, 62, 63, 64, 65, 66, 67,\n",
       "            68, 69, 70, 71, 72, 73, 74, 75, 76, 77, 78, 79, 80, 81, 82, 83, 84,\n",
       "            85, 86, 87, 88, 89, 90, 91, 92, 93, 94, 95, 96, 97, 98, 99],\n",
       "           dtype='int64')"
      ]
     },
     "execution_count": 27,
     "metadata": {},
     "output_type": "execute_result"
    }
   ],
   "source": [
    "df.index"
   ]
  },
  {
   "cell_type": "code",
   "execution_count": 28,
   "id": "0605ad19",
   "metadata": {},
   "outputs": [],
   "source": [
    "df['COlumn4']=np.random.choice(['AI&ML','AI&DA','CYS'],100)"
   ]
  },
  {
   "cell_type": "code",
   "execution_count": 29,
   "id": "430c6d75",
   "metadata": {},
   "outputs": [],
   "source": [
    "a=np.random.choice(['AI&ML','AI&DA','CYS'],100)"
   ]
  },
  {
   "cell_type": "code",
   "execution_count": 30,
   "id": "82ba3816",
   "metadata": {},
   "outputs": [
    {
     "data": {
      "text/plain": [
       "array(['CYS', 'AI&ML', 'AI&DA', 'AI&ML', 'CYS', 'AI&DA', 'AI&ML', 'AI&DA',\n",
       "       'CYS', 'AI&ML', 'AI&ML', 'AI&DA', 'AI&DA', 'AI&DA', 'AI&ML',\n",
       "       'AI&ML', 'AI&DA', 'AI&ML', 'AI&DA', 'CYS', 'AI&DA', 'AI&DA', 'CYS',\n",
       "       'AI&DA', 'CYS', 'AI&ML', 'CYS', 'AI&DA', 'AI&ML', 'AI&ML', 'AI&ML',\n",
       "       'AI&DA', 'AI&DA', 'AI&DA', 'AI&ML', 'AI&ML', 'AI&ML', 'CYS',\n",
       "       'AI&DA', 'AI&ML', 'AI&DA', 'AI&ML', 'AI&DA', 'AI&ML', 'CYS',\n",
       "       'AI&ML', 'AI&ML', 'CYS', 'AI&ML', 'AI&DA', 'AI&DA', 'AI&ML', 'CYS',\n",
       "       'AI&DA', 'AI&ML', 'CYS', 'AI&ML', 'AI&DA', 'CYS', 'CYS', 'CYS',\n",
       "       'AI&ML', 'AI&DA', 'AI&DA', 'CYS', 'AI&DA', 'AI&DA', 'AI&DA', 'CYS',\n",
       "       'CYS', 'AI&ML', 'AI&DA', 'CYS', 'CYS', 'CYS', 'CYS', 'AI&DA',\n",
       "       'AI&DA', 'CYS', 'AI&DA', 'AI&DA', 'AI&DA', 'AI&DA', 'AI&DA',\n",
       "       'AI&DA', 'AI&ML', 'AI&DA', 'AI&ML', 'AI&ML', 'AI&ML', 'AI&ML',\n",
       "       'CYS', 'AI&DA', 'CYS', 'AI&DA', 'CYS', 'AI&ML', 'AI&ML', 'AI&ML',\n",
       "       'AI&DA'], dtype='<U5')"
      ]
     },
     "execution_count": 30,
     "metadata": {},
     "output_type": "execute_result"
    }
   ],
   "source": [
    "a"
   ]
  },
  {
   "cell_type": "code",
   "execution_count": 31,
   "id": "07cd6ff0",
   "metadata": {},
   "outputs": [],
   "source": [
    "df['Column4']=a"
   ]
  },
  {
   "cell_type": "code",
   "execution_count": 32,
   "id": "f1c45b40",
   "metadata": {},
   "outputs": [
    {
     "data": {
      "text/html": [
       "<div>\n",
       "<style scoped>\n",
       "    .dataframe tbody tr th:only-of-type {\n",
       "        vertical-align: middle;\n",
       "    }\n",
       "\n",
       "    .dataframe tbody tr th {\n",
       "        vertical-align: top;\n",
       "    }\n",
       "\n",
       "    .dataframe thead th {\n",
       "        text-align: right;\n",
       "    }\n",
       "</style>\n",
       "<table border=\"1\" class=\"dataframe\">\n",
       "  <thead>\n",
       "    <tr style=\"text-align: right;\">\n",
       "      <th></th>\n",
       "      <th>COlumn1</th>\n",
       "      <th>COlumn2</th>\n",
       "      <th>COlumn3</th>\n",
       "      <th>COlumn4</th>\n",
       "      <th>Column4</th>\n",
       "    </tr>\n",
       "  </thead>\n",
       "  <tbody>\n",
       "    <tr>\n",
       "      <th>0</th>\n",
       "      <td>0</td>\n",
       "      <td>58.000000</td>\n",
       "      <td>1</td>\n",
       "      <td>AI&amp;ML</td>\n",
       "      <td>CYS</td>\n",
       "    </tr>\n",
       "    <tr>\n",
       "      <th>1</th>\n",
       "      <td>0</td>\n",
       "      <td>58.000000</td>\n",
       "      <td>2</td>\n",
       "      <td>CYS</td>\n",
       "      <td>AI&amp;ML</td>\n",
       "    </tr>\n",
       "    <tr>\n",
       "      <th>2</th>\n",
       "      <td>0</td>\n",
       "      <td>57.666667</td>\n",
       "      <td>3</td>\n",
       "      <td>CYS</td>\n",
       "      <td>AI&amp;DA</td>\n",
       "    </tr>\n",
       "    <tr>\n",
       "      <th>3</th>\n",
       "      <td>0</td>\n",
       "      <td>57.666667</td>\n",
       "      <td>4</td>\n",
       "      <td>CYS</td>\n",
       "      <td>AI&amp;ML</td>\n",
       "    </tr>\n",
       "    <tr>\n",
       "      <th>4</th>\n",
       "      <td>0</td>\n",
       "      <td>57.666667</td>\n",
       "      <td>5</td>\n",
       "      <td>CYS</td>\n",
       "      <td>CYS</td>\n",
       "    </tr>\n",
       "    <tr>\n",
       "      <th>...</th>\n",
       "      <td>...</td>\n",
       "      <td>...</td>\n",
       "      <td>...</td>\n",
       "      <td>...</td>\n",
       "      <td>...</td>\n",
       "    </tr>\n",
       "    <tr>\n",
       "      <th>95</th>\n",
       "      <td>0</td>\n",
       "      <td>57.666667</td>\n",
       "      <td>96</td>\n",
       "      <td>CYS</td>\n",
       "      <td>CYS</td>\n",
       "    </tr>\n",
       "    <tr>\n",
       "      <th>96</th>\n",
       "      <td>0</td>\n",
       "      <td>57.666667</td>\n",
       "      <td>97</td>\n",
       "      <td>CYS</td>\n",
       "      <td>AI&amp;ML</td>\n",
       "    </tr>\n",
       "    <tr>\n",
       "      <th>97</th>\n",
       "      <td>1</td>\n",
       "      <td>57.666667</td>\n",
       "      <td>98</td>\n",
       "      <td>CYS</td>\n",
       "      <td>AI&amp;ML</td>\n",
       "    </tr>\n",
       "    <tr>\n",
       "      <th>98</th>\n",
       "      <td>1</td>\n",
       "      <td>57.666667</td>\n",
       "      <td>99</td>\n",
       "      <td>AI&amp;DA</td>\n",
       "      <td>AI&amp;ML</td>\n",
       "    </tr>\n",
       "    <tr>\n",
       "      <th>99</th>\n",
       "      <td>47</td>\n",
       "      <td>57.000000</td>\n",
       "      <td>100</td>\n",
       "      <td>AI&amp;ML</td>\n",
       "      <td>AI&amp;DA</td>\n",
       "    </tr>\n",
       "  </tbody>\n",
       "</table>\n",
       "<p>100 rows × 5 columns</p>\n",
       "</div>"
      ],
      "text/plain": [
       "    COlumn1    COlumn2  COlumn3 COlumn4 Column4\n",
       "0         0  58.000000        1   AI&ML     CYS\n",
       "1         0  58.000000        2     CYS   AI&ML\n",
       "2         0  57.666667        3     CYS   AI&DA\n",
       "3         0  57.666667        4     CYS   AI&ML\n",
       "4         0  57.666667        5     CYS     CYS\n",
       "..      ...        ...      ...     ...     ...\n",
       "95        0  57.666667       96     CYS     CYS\n",
       "96        0  57.666667       97     CYS   AI&ML\n",
       "97        1  57.666667       98     CYS   AI&ML\n",
       "98        1  57.666667       99   AI&DA   AI&ML\n",
       "99       47  57.000000      100   AI&ML   AI&DA\n",
       "\n",
       "[100 rows x 5 columns]"
      ]
     },
     "execution_count": 32,
     "metadata": {},
     "output_type": "execute_result"
    }
   ],
   "source": [
    "df"
   ]
  },
  {
   "cell_type": "code",
   "execution_count": 33,
   "id": "872f27a8",
   "metadata": {},
   "outputs": [],
   "source": [
    "df.loc[0,'Column4']=\"DA\""
   ]
  },
  {
   "cell_type": "code",
   "execution_count": 34,
   "id": "64ae3607",
   "metadata": {},
   "outputs": [
    {
     "data": {
      "text/html": [
       "<div>\n",
       "<style scoped>\n",
       "    .dataframe tbody tr th:only-of-type {\n",
       "        vertical-align: middle;\n",
       "    }\n",
       "\n",
       "    .dataframe tbody tr th {\n",
       "        vertical-align: top;\n",
       "    }\n",
       "\n",
       "    .dataframe thead th {\n",
       "        text-align: right;\n",
       "    }\n",
       "</style>\n",
       "<table border=\"1\" class=\"dataframe\">\n",
       "  <thead>\n",
       "    <tr style=\"text-align: right;\">\n",
       "      <th></th>\n",
       "      <th>COlumn1</th>\n",
       "      <th>COlumn2</th>\n",
       "      <th>COlumn3</th>\n",
       "      <th>COlumn4</th>\n",
       "      <th>Column4</th>\n",
       "    </tr>\n",
       "  </thead>\n",
       "  <tbody>\n",
       "    <tr>\n",
       "      <th>0</th>\n",
       "      <td>0</td>\n",
       "      <td>58.000000</td>\n",
       "      <td>1</td>\n",
       "      <td>AI&amp;ML</td>\n",
       "      <td>DA</td>\n",
       "    </tr>\n",
       "    <tr>\n",
       "      <th>1</th>\n",
       "      <td>0</td>\n",
       "      <td>58.000000</td>\n",
       "      <td>2</td>\n",
       "      <td>CYS</td>\n",
       "      <td>AI&amp;ML</td>\n",
       "    </tr>\n",
       "    <tr>\n",
       "      <th>2</th>\n",
       "      <td>0</td>\n",
       "      <td>57.666667</td>\n",
       "      <td>3</td>\n",
       "      <td>CYS</td>\n",
       "      <td>AI&amp;DA</td>\n",
       "    </tr>\n",
       "    <tr>\n",
       "      <th>3</th>\n",
       "      <td>0</td>\n",
       "      <td>57.666667</td>\n",
       "      <td>4</td>\n",
       "      <td>CYS</td>\n",
       "      <td>AI&amp;ML</td>\n",
       "    </tr>\n",
       "    <tr>\n",
       "      <th>4</th>\n",
       "      <td>0</td>\n",
       "      <td>57.666667</td>\n",
       "      <td>5</td>\n",
       "      <td>CYS</td>\n",
       "      <td>CYS</td>\n",
       "    </tr>\n",
       "    <tr>\n",
       "      <th>...</th>\n",
       "      <td>...</td>\n",
       "      <td>...</td>\n",
       "      <td>...</td>\n",
       "      <td>...</td>\n",
       "      <td>...</td>\n",
       "    </tr>\n",
       "    <tr>\n",
       "      <th>95</th>\n",
       "      <td>0</td>\n",
       "      <td>57.666667</td>\n",
       "      <td>96</td>\n",
       "      <td>CYS</td>\n",
       "      <td>CYS</td>\n",
       "    </tr>\n",
       "    <tr>\n",
       "      <th>96</th>\n",
       "      <td>0</td>\n",
       "      <td>57.666667</td>\n",
       "      <td>97</td>\n",
       "      <td>CYS</td>\n",
       "      <td>AI&amp;ML</td>\n",
       "    </tr>\n",
       "    <tr>\n",
       "      <th>97</th>\n",
       "      <td>1</td>\n",
       "      <td>57.666667</td>\n",
       "      <td>98</td>\n",
       "      <td>CYS</td>\n",
       "      <td>AI&amp;ML</td>\n",
       "    </tr>\n",
       "    <tr>\n",
       "      <th>98</th>\n",
       "      <td>1</td>\n",
       "      <td>57.666667</td>\n",
       "      <td>99</td>\n",
       "      <td>AI&amp;DA</td>\n",
       "      <td>AI&amp;ML</td>\n",
       "    </tr>\n",
       "    <tr>\n",
       "      <th>99</th>\n",
       "      <td>47</td>\n",
       "      <td>57.000000</td>\n",
       "      <td>100</td>\n",
       "      <td>AI&amp;ML</td>\n",
       "      <td>AI&amp;DA</td>\n",
       "    </tr>\n",
       "  </tbody>\n",
       "</table>\n",
       "<p>100 rows × 5 columns</p>\n",
       "</div>"
      ],
      "text/plain": [
       "    COlumn1    COlumn2  COlumn3 COlumn4 Column4\n",
       "0         0  58.000000        1   AI&ML      DA\n",
       "1         0  58.000000        2     CYS   AI&ML\n",
       "2         0  57.666667        3     CYS   AI&DA\n",
       "3         0  57.666667        4     CYS   AI&ML\n",
       "4         0  57.666667        5     CYS     CYS\n",
       "..      ...        ...      ...     ...     ...\n",
       "95        0  57.666667       96     CYS     CYS\n",
       "96        0  57.666667       97     CYS   AI&ML\n",
       "97        1  57.666667       98     CYS   AI&ML\n",
       "98        1  57.666667       99   AI&DA   AI&ML\n",
       "99       47  57.000000      100   AI&ML   AI&DA\n",
       "\n",
       "[100 rows x 5 columns]"
      ]
     },
     "execution_count": 34,
     "metadata": {},
     "output_type": "execute_result"
    }
   ],
   "source": [
    "df"
   ]
  },
  {
   "cell_type": "code",
   "execution_count": 35,
   "id": "531b3d87",
   "metadata": {},
   "outputs": [
    {
     "data": {
      "text/plain": [
       "{'AI&DA', 'AI&ML', 'CYS', 'DA'}"
      ]
     },
     "execution_count": 35,
     "metadata": {},
     "output_type": "execute_result"
    }
   ],
   "source": [
    "set(df['Column4'])"
   ]
  },
  {
   "cell_type": "code",
   "execution_count": 36,
   "id": "1cfd46eb",
   "metadata": {},
   "outputs": [],
   "source": [
    "dic={'AI&DA':'Artificial Intelligence & Data Analytics','DA':'Artificial Intelligence & Data Analytics','AI&ML':'Artificial Intelligence & Machine Learning','CYS':'CYber Security'}"
   ]
  },
  {
   "cell_type": "code",
   "execution_count": 37,
   "id": "f3348ead",
   "metadata": {},
   "outputs": [],
   "source": [
    "df['Column4']=df['Column4'].map(dic)"
   ]
  },
  {
   "cell_type": "code",
   "execution_count": 38,
   "id": "f0e6c797",
   "metadata": {},
   "outputs": [
    {
     "data": {
      "text/html": [
       "<div>\n",
       "<style scoped>\n",
       "    .dataframe tbody tr th:only-of-type {\n",
       "        vertical-align: middle;\n",
       "    }\n",
       "\n",
       "    .dataframe tbody tr th {\n",
       "        vertical-align: top;\n",
       "    }\n",
       "\n",
       "    .dataframe thead th {\n",
       "        text-align: right;\n",
       "    }\n",
       "</style>\n",
       "<table border=\"1\" class=\"dataframe\">\n",
       "  <thead>\n",
       "    <tr style=\"text-align: right;\">\n",
       "      <th></th>\n",
       "      <th>COlumn1</th>\n",
       "      <th>COlumn2</th>\n",
       "      <th>COlumn3</th>\n",
       "      <th>COlumn4</th>\n",
       "      <th>Column4</th>\n",
       "    </tr>\n",
       "  </thead>\n",
       "  <tbody>\n",
       "    <tr>\n",
       "      <th>0</th>\n",
       "      <td>0</td>\n",
       "      <td>58.000000</td>\n",
       "      <td>1</td>\n",
       "      <td>AI&amp;ML</td>\n",
       "      <td>Artificial Intelligence &amp; Data Analytics</td>\n",
       "    </tr>\n",
       "    <tr>\n",
       "      <th>1</th>\n",
       "      <td>0</td>\n",
       "      <td>58.000000</td>\n",
       "      <td>2</td>\n",
       "      <td>CYS</td>\n",
       "      <td>Artificial Intelligence &amp; Machine Learning</td>\n",
       "    </tr>\n",
       "    <tr>\n",
       "      <th>2</th>\n",
       "      <td>0</td>\n",
       "      <td>57.666667</td>\n",
       "      <td>3</td>\n",
       "      <td>CYS</td>\n",
       "      <td>Artificial Intelligence &amp; Data Analytics</td>\n",
       "    </tr>\n",
       "    <tr>\n",
       "      <th>3</th>\n",
       "      <td>0</td>\n",
       "      <td>57.666667</td>\n",
       "      <td>4</td>\n",
       "      <td>CYS</td>\n",
       "      <td>Artificial Intelligence &amp; Machine Learning</td>\n",
       "    </tr>\n",
       "    <tr>\n",
       "      <th>4</th>\n",
       "      <td>0</td>\n",
       "      <td>57.666667</td>\n",
       "      <td>5</td>\n",
       "      <td>CYS</td>\n",
       "      <td>CYber Security</td>\n",
       "    </tr>\n",
       "    <tr>\n",
       "      <th>...</th>\n",
       "      <td>...</td>\n",
       "      <td>...</td>\n",
       "      <td>...</td>\n",
       "      <td>...</td>\n",
       "      <td>...</td>\n",
       "    </tr>\n",
       "    <tr>\n",
       "      <th>95</th>\n",
       "      <td>0</td>\n",
       "      <td>57.666667</td>\n",
       "      <td>96</td>\n",
       "      <td>CYS</td>\n",
       "      <td>CYber Security</td>\n",
       "    </tr>\n",
       "    <tr>\n",
       "      <th>96</th>\n",
       "      <td>0</td>\n",
       "      <td>57.666667</td>\n",
       "      <td>97</td>\n",
       "      <td>CYS</td>\n",
       "      <td>Artificial Intelligence &amp; Machine Learning</td>\n",
       "    </tr>\n",
       "    <tr>\n",
       "      <th>97</th>\n",
       "      <td>1</td>\n",
       "      <td>57.666667</td>\n",
       "      <td>98</td>\n",
       "      <td>CYS</td>\n",
       "      <td>Artificial Intelligence &amp; Machine Learning</td>\n",
       "    </tr>\n",
       "    <tr>\n",
       "      <th>98</th>\n",
       "      <td>1</td>\n",
       "      <td>57.666667</td>\n",
       "      <td>99</td>\n",
       "      <td>AI&amp;DA</td>\n",
       "      <td>Artificial Intelligence &amp; Machine Learning</td>\n",
       "    </tr>\n",
       "    <tr>\n",
       "      <th>99</th>\n",
       "      <td>47</td>\n",
       "      <td>57.000000</td>\n",
       "      <td>100</td>\n",
       "      <td>AI&amp;ML</td>\n",
       "      <td>Artificial Intelligence &amp; Data Analytics</td>\n",
       "    </tr>\n",
       "  </tbody>\n",
       "</table>\n",
       "<p>100 rows × 5 columns</p>\n",
       "</div>"
      ],
      "text/plain": [
       "    COlumn1    COlumn2  COlumn3 COlumn4  \\\n",
       "0         0  58.000000        1   AI&ML   \n",
       "1         0  58.000000        2     CYS   \n",
       "2         0  57.666667        3     CYS   \n",
       "3         0  57.666667        4     CYS   \n",
       "4         0  57.666667        5     CYS   \n",
       "..      ...        ...      ...     ...   \n",
       "95        0  57.666667       96     CYS   \n",
       "96        0  57.666667       97     CYS   \n",
       "97        1  57.666667       98     CYS   \n",
       "98        1  57.666667       99   AI&DA   \n",
       "99       47  57.000000      100   AI&ML   \n",
       "\n",
       "                                       Column4  \n",
       "0     Artificial Intelligence & Data Analytics  \n",
       "1   Artificial Intelligence & Machine Learning  \n",
       "2     Artificial Intelligence & Data Analytics  \n",
       "3   Artificial Intelligence & Machine Learning  \n",
       "4                               CYber Security  \n",
       "..                                         ...  \n",
       "95                              CYber Security  \n",
       "96  Artificial Intelligence & Machine Learning  \n",
       "97  Artificial Intelligence & Machine Learning  \n",
       "98  Artificial Intelligence & Machine Learning  \n",
       "99    Artificial Intelligence & Data Analytics  \n",
       "\n",
       "[100 rows x 5 columns]"
      ]
     },
     "execution_count": 38,
     "metadata": {},
     "output_type": "execute_result"
    }
   ],
   "source": [
    "df"
   ]
  },
  {
   "cell_type": "code",
   "execution_count": 39,
   "id": "d650585b",
   "metadata": {},
   "outputs": [],
   "source": [
    "del df['COlumn4']"
   ]
  },
  {
   "cell_type": "code",
   "execution_count": 40,
   "id": "091c6d87",
   "metadata": {},
   "outputs": [
    {
     "data": {
      "text/html": [
       "<div>\n",
       "<style scoped>\n",
       "    .dataframe tbody tr th:only-of-type {\n",
       "        vertical-align: middle;\n",
       "    }\n",
       "\n",
       "    .dataframe tbody tr th {\n",
       "        vertical-align: top;\n",
       "    }\n",
       "\n",
       "    .dataframe thead th {\n",
       "        text-align: right;\n",
       "    }\n",
       "</style>\n",
       "<table border=\"1\" class=\"dataframe\">\n",
       "  <thead>\n",
       "    <tr style=\"text-align: right;\">\n",
       "      <th></th>\n",
       "      <th>COlumn1</th>\n",
       "      <th>COlumn2</th>\n",
       "      <th>COlumn3</th>\n",
       "      <th>Column4</th>\n",
       "    </tr>\n",
       "  </thead>\n",
       "  <tbody>\n",
       "    <tr>\n",
       "      <th>0</th>\n",
       "      <td>0</td>\n",
       "      <td>58.000000</td>\n",
       "      <td>1</td>\n",
       "      <td>Artificial Intelligence &amp; Data Analytics</td>\n",
       "    </tr>\n",
       "    <tr>\n",
       "      <th>1</th>\n",
       "      <td>0</td>\n",
       "      <td>58.000000</td>\n",
       "      <td>2</td>\n",
       "      <td>Artificial Intelligence &amp; Machine Learning</td>\n",
       "    </tr>\n",
       "    <tr>\n",
       "      <th>2</th>\n",
       "      <td>0</td>\n",
       "      <td>57.666667</td>\n",
       "      <td>3</td>\n",
       "      <td>Artificial Intelligence &amp; Data Analytics</td>\n",
       "    </tr>\n",
       "    <tr>\n",
       "      <th>3</th>\n",
       "      <td>0</td>\n",
       "      <td>57.666667</td>\n",
       "      <td>4</td>\n",
       "      <td>Artificial Intelligence &amp; Machine Learning</td>\n",
       "    </tr>\n",
       "    <tr>\n",
       "      <th>4</th>\n",
       "      <td>0</td>\n",
       "      <td>57.666667</td>\n",
       "      <td>5</td>\n",
       "      <td>CYber Security</td>\n",
       "    </tr>\n",
       "    <tr>\n",
       "      <th>...</th>\n",
       "      <td>...</td>\n",
       "      <td>...</td>\n",
       "      <td>...</td>\n",
       "      <td>...</td>\n",
       "    </tr>\n",
       "    <tr>\n",
       "      <th>95</th>\n",
       "      <td>0</td>\n",
       "      <td>57.666667</td>\n",
       "      <td>96</td>\n",
       "      <td>CYber Security</td>\n",
       "    </tr>\n",
       "    <tr>\n",
       "      <th>96</th>\n",
       "      <td>0</td>\n",
       "      <td>57.666667</td>\n",
       "      <td>97</td>\n",
       "      <td>Artificial Intelligence &amp; Machine Learning</td>\n",
       "    </tr>\n",
       "    <tr>\n",
       "      <th>97</th>\n",
       "      <td>1</td>\n",
       "      <td>57.666667</td>\n",
       "      <td>98</td>\n",
       "      <td>Artificial Intelligence &amp; Machine Learning</td>\n",
       "    </tr>\n",
       "    <tr>\n",
       "      <th>98</th>\n",
       "      <td>1</td>\n",
       "      <td>57.666667</td>\n",
       "      <td>99</td>\n",
       "      <td>Artificial Intelligence &amp; Machine Learning</td>\n",
       "    </tr>\n",
       "    <tr>\n",
       "      <th>99</th>\n",
       "      <td>47</td>\n",
       "      <td>57.000000</td>\n",
       "      <td>100</td>\n",
       "      <td>Artificial Intelligence &amp; Data Analytics</td>\n",
       "    </tr>\n",
       "  </tbody>\n",
       "</table>\n",
       "<p>100 rows × 4 columns</p>\n",
       "</div>"
      ],
      "text/plain": [
       "    COlumn1    COlumn2  COlumn3                                     Column4\n",
       "0         0  58.000000        1    Artificial Intelligence & Data Analytics\n",
       "1         0  58.000000        2  Artificial Intelligence & Machine Learning\n",
       "2         0  57.666667        3    Artificial Intelligence & Data Analytics\n",
       "3         0  57.666667        4  Artificial Intelligence & Machine Learning\n",
       "4         0  57.666667        5                              CYber Security\n",
       "..      ...        ...      ...                                         ...\n",
       "95        0  57.666667       96                              CYber Security\n",
       "96        0  57.666667       97  Artificial Intelligence & Machine Learning\n",
       "97        1  57.666667       98  Artificial Intelligence & Machine Learning\n",
       "98        1  57.666667       99  Artificial Intelligence & Machine Learning\n",
       "99       47  57.000000      100    Artificial Intelligence & Data Analytics\n",
       "\n",
       "[100 rows x 4 columns]"
      ]
     },
     "execution_count": 40,
     "metadata": {},
     "output_type": "execute_result"
    }
   ],
   "source": [
    "df"
   ]
  },
  {
   "cell_type": "code",
   "execution_count": 41,
   "id": "f96fc0f1",
   "metadata": {},
   "outputs": [],
   "source": [
    "dic={'Artificial Intelligence & Machine Learning':'E01','CYber Security':'E02','Artificial Intelligence & Data Analytics':'E03'}"
   ]
  },
  {
   "cell_type": "code",
   "execution_count": 42,
   "id": "269e9cc7",
   "metadata": {},
   "outputs": [],
   "source": [
    "df['Column5']=df['Column4'].map(dic)"
   ]
  },
  {
   "cell_type": "code",
   "execution_count": 43,
   "id": "a303ca40",
   "metadata": {},
   "outputs": [
    {
     "data": {
      "text/plain": [
       "0       Artificial Intelligence & Data Analytics\n",
       "1     Artificial Intelligence & Machine Learning\n",
       "2       Artificial Intelligence & Data Analytics\n",
       "3     Artificial Intelligence & Machine Learning\n",
       "4                                 CYber Security\n",
       "                         ...                    \n",
       "95                                CYber Security\n",
       "96    Artificial Intelligence & Machine Learning\n",
       "97    Artificial Intelligence & Machine Learning\n",
       "98    Artificial Intelligence & Machine Learning\n",
       "99      Artificial Intelligence & Data Analytics\n",
       "Name: Column4, Length: 100, dtype: object"
      ]
     },
     "execution_count": 43,
     "metadata": {},
     "output_type": "execute_result"
    }
   ],
   "source": [
    "df['Column4']"
   ]
  },
  {
   "cell_type": "code",
   "execution_count": 44,
   "id": "53e57346",
   "metadata": {},
   "outputs": [
    {
     "data": {
      "text/html": [
       "<div>\n",
       "<style scoped>\n",
       "    .dataframe tbody tr th:only-of-type {\n",
       "        vertical-align: middle;\n",
       "    }\n",
       "\n",
       "    .dataframe tbody tr th {\n",
       "        vertical-align: top;\n",
       "    }\n",
       "\n",
       "    .dataframe thead th {\n",
       "        text-align: right;\n",
       "    }\n",
       "</style>\n",
       "<table border=\"1\" class=\"dataframe\">\n",
       "  <thead>\n",
       "    <tr style=\"text-align: right;\">\n",
       "      <th></th>\n",
       "      <th>COlumn1</th>\n",
       "      <th>COlumn2</th>\n",
       "      <th>COlumn3</th>\n",
       "      <th>Column4</th>\n",
       "      <th>Column5</th>\n",
       "    </tr>\n",
       "  </thead>\n",
       "  <tbody>\n",
       "    <tr>\n",
       "      <th>0</th>\n",
       "      <td>0</td>\n",
       "      <td>58.000000</td>\n",
       "      <td>1</td>\n",
       "      <td>Artificial Intelligence &amp; Data Analytics</td>\n",
       "      <td>E03</td>\n",
       "    </tr>\n",
       "    <tr>\n",
       "      <th>1</th>\n",
       "      <td>0</td>\n",
       "      <td>58.000000</td>\n",
       "      <td>2</td>\n",
       "      <td>Artificial Intelligence &amp; Machine Learning</td>\n",
       "      <td>E01</td>\n",
       "    </tr>\n",
       "    <tr>\n",
       "      <th>2</th>\n",
       "      <td>0</td>\n",
       "      <td>57.666667</td>\n",
       "      <td>3</td>\n",
       "      <td>Artificial Intelligence &amp; Data Analytics</td>\n",
       "      <td>E03</td>\n",
       "    </tr>\n",
       "    <tr>\n",
       "      <th>3</th>\n",
       "      <td>0</td>\n",
       "      <td>57.666667</td>\n",
       "      <td>4</td>\n",
       "      <td>Artificial Intelligence &amp; Machine Learning</td>\n",
       "      <td>E01</td>\n",
       "    </tr>\n",
       "    <tr>\n",
       "      <th>4</th>\n",
       "      <td>0</td>\n",
       "      <td>57.666667</td>\n",
       "      <td>5</td>\n",
       "      <td>CYber Security</td>\n",
       "      <td>E02</td>\n",
       "    </tr>\n",
       "    <tr>\n",
       "      <th>...</th>\n",
       "      <td>...</td>\n",
       "      <td>...</td>\n",
       "      <td>...</td>\n",
       "      <td>...</td>\n",
       "      <td>...</td>\n",
       "    </tr>\n",
       "    <tr>\n",
       "      <th>95</th>\n",
       "      <td>0</td>\n",
       "      <td>57.666667</td>\n",
       "      <td>96</td>\n",
       "      <td>CYber Security</td>\n",
       "      <td>E02</td>\n",
       "    </tr>\n",
       "    <tr>\n",
       "      <th>96</th>\n",
       "      <td>0</td>\n",
       "      <td>57.666667</td>\n",
       "      <td>97</td>\n",
       "      <td>Artificial Intelligence &amp; Machine Learning</td>\n",
       "      <td>E01</td>\n",
       "    </tr>\n",
       "    <tr>\n",
       "      <th>97</th>\n",
       "      <td>1</td>\n",
       "      <td>57.666667</td>\n",
       "      <td>98</td>\n",
       "      <td>Artificial Intelligence &amp; Machine Learning</td>\n",
       "      <td>E01</td>\n",
       "    </tr>\n",
       "    <tr>\n",
       "      <th>98</th>\n",
       "      <td>1</td>\n",
       "      <td>57.666667</td>\n",
       "      <td>99</td>\n",
       "      <td>Artificial Intelligence &amp; Machine Learning</td>\n",
       "      <td>E01</td>\n",
       "    </tr>\n",
       "    <tr>\n",
       "      <th>99</th>\n",
       "      <td>47</td>\n",
       "      <td>57.000000</td>\n",
       "      <td>100</td>\n",
       "      <td>Artificial Intelligence &amp; Data Analytics</td>\n",
       "      <td>E03</td>\n",
       "    </tr>\n",
       "  </tbody>\n",
       "</table>\n",
       "<p>100 rows × 5 columns</p>\n",
       "</div>"
      ],
      "text/plain": [
       "    COlumn1    COlumn2  COlumn3                                     Column4  \\\n",
       "0         0  58.000000        1    Artificial Intelligence & Data Analytics   \n",
       "1         0  58.000000        2  Artificial Intelligence & Machine Learning   \n",
       "2         0  57.666667        3    Artificial Intelligence & Data Analytics   \n",
       "3         0  57.666667        4  Artificial Intelligence & Machine Learning   \n",
       "4         0  57.666667        5                              CYber Security   \n",
       "..      ...        ...      ...                                         ...   \n",
       "95        0  57.666667       96                              CYber Security   \n",
       "96        0  57.666667       97  Artificial Intelligence & Machine Learning   \n",
       "97        1  57.666667       98  Artificial Intelligence & Machine Learning   \n",
       "98        1  57.666667       99  Artificial Intelligence & Machine Learning   \n",
       "99       47  57.000000      100    Artificial Intelligence & Data Analytics   \n",
       "\n",
       "   Column5  \n",
       "0      E03  \n",
       "1      E01  \n",
       "2      E03  \n",
       "3      E01  \n",
       "4      E02  \n",
       "..     ...  \n",
       "95     E02  \n",
       "96     E01  \n",
       "97     E01  \n",
       "98     E01  \n",
       "99     E03  \n",
       "\n",
       "[100 rows x 5 columns]"
      ]
     },
     "execution_count": 44,
     "metadata": {},
     "output_type": "execute_result"
    }
   ],
   "source": [
    "df"
   ]
  },
  {
   "cell_type": "code",
   "execution_count": 45,
   "id": "3fcafa8f",
   "metadata": {},
   "outputs": [],
   "source": [
    "df=pd.read_clipboard()"
   ]
  },
  {
   "cell_type": "code",
   "execution_count": 46,
   "id": "14fee04b",
   "metadata": {},
   "outputs": [
    {
     "data": {
      "text/html": [
       "<div>\n",
       "<style scoped>\n",
       "    .dataframe tbody tr th:only-of-type {\n",
       "        vertical-align: middle;\n",
       "    }\n",
       "\n",
       "    .dataframe tbody tr th {\n",
       "        vertical-align: top;\n",
       "    }\n",
       "\n",
       "    .dataframe thead th {\n",
       "        text-align: right;\n",
       "    }\n",
       "</style>\n",
       "<table border=\"1\" class=\"dataframe\">\n",
       "  <thead>\n",
       "    <tr style=\"text-align: right;\">\n",
       "      <th></th>\n",
       "      <th>1</th>\n",
       "      <th>67</th>\n",
       "      <th>1000</th>\n",
       "    </tr>\n",
       "  </thead>\n",
       "  <tbody>\n",
       "    <tr>\n",
       "      <th>0</th>\n",
       "      <td>2</td>\n",
       "      <td>17</td>\n",
       "      <td>1547</td>\n",
       "    </tr>\n",
       "    <tr>\n",
       "      <th>1</th>\n",
       "      <td>5</td>\n",
       "      <td>96</td>\n",
       "      <td>2587</td>\n",
       "    </tr>\n",
       "    <tr>\n",
       "      <th>2</th>\n",
       "      <td>6</td>\n",
       "      <td>74</td>\n",
       "      <td>4586</td>\n",
       "    </tr>\n",
       "    <tr>\n",
       "      <th>3</th>\n",
       "      <td>3</td>\n",
       "      <td>38</td>\n",
       "      <td>3578</td>\n",
       "    </tr>\n",
       "    <tr>\n",
       "      <th>4</th>\n",
       "      <td>4</td>\n",
       "      <td>87</td>\n",
       "      <td>1486</td>\n",
       "    </tr>\n",
       "    <tr>\n",
       "      <th>5</th>\n",
       "      <td>8</td>\n",
       "      <td>54</td>\n",
       "      <td>5713</td>\n",
       "    </tr>\n",
       "    <tr>\n",
       "      <th>6</th>\n",
       "      <td>3</td>\n",
       "      <td>43</td>\n",
       "      <td>9841</td>\n",
       "    </tr>\n",
       "    <tr>\n",
       "      <th>7</th>\n",
       "      <td>4</td>\n",
       "      <td>23</td>\n",
       "      <td>2684</td>\n",
       "    </tr>\n",
       "    <tr>\n",
       "      <th>8</th>\n",
       "      <td>2</td>\n",
       "      <td>32</td>\n",
       "      <td>7513</td>\n",
       "    </tr>\n",
       "    <tr>\n",
       "      <th>9</th>\n",
       "      <td>4</td>\n",
       "      <td>23</td>\n",
       "      <td>9855</td>\n",
       "    </tr>\n",
       "    <tr>\n",
       "      <th>10</th>\n",
       "      <td>5</td>\n",
       "      <td>23</td>\n",
       "      <td>4521</td>\n",
       "    </tr>\n",
       "    <tr>\n",
       "      <th>11</th>\n",
       "      <td>3</td>\n",
       "      <td>12</td>\n",
       "      <td>1564</td>\n",
       "    </tr>\n",
       "  </tbody>\n",
       "</table>\n",
       "</div>"
      ],
      "text/plain": [
       "    1  67  1000\n",
       "0   2  17  1547\n",
       "1   5  96  2587\n",
       "2   6  74  4586\n",
       "3   3  38  3578\n",
       "4   4  87  1486\n",
       "5   8  54  5713\n",
       "6   3  43  9841\n",
       "7   4  23  2684\n",
       "8   2  32  7513\n",
       "9   4  23  9855\n",
       "10  5  23  4521\n",
       "11  3  12  1564"
      ]
     },
     "execution_count": 46,
     "metadata": {},
     "output_type": "execute_result"
    }
   ],
   "source": [
    "df"
   ]
  },
  {
   "cell_type": "code",
   "execution_count": 47,
   "id": "000abe9e",
   "metadata": {},
   "outputs": [],
   "source": [
    "df['new1']=df['1']/max(df['1'])"
   ]
  },
  {
   "cell_type": "code",
   "execution_count": 48,
   "id": "19320045",
   "metadata": {},
   "outputs": [
    {
     "data": {
      "text/html": [
       "<div>\n",
       "<style scoped>\n",
       "    .dataframe tbody tr th:only-of-type {\n",
       "        vertical-align: middle;\n",
       "    }\n",
       "\n",
       "    .dataframe tbody tr th {\n",
       "        vertical-align: top;\n",
       "    }\n",
       "\n",
       "    .dataframe thead th {\n",
       "        text-align: right;\n",
       "    }\n",
       "</style>\n",
       "<table border=\"1\" class=\"dataframe\">\n",
       "  <thead>\n",
       "    <tr style=\"text-align: right;\">\n",
       "      <th></th>\n",
       "      <th>1</th>\n",
       "      <th>67</th>\n",
       "      <th>1000</th>\n",
       "      <th>new1</th>\n",
       "    </tr>\n",
       "  </thead>\n",
       "  <tbody>\n",
       "    <tr>\n",
       "      <th>0</th>\n",
       "      <td>2</td>\n",
       "      <td>17</td>\n",
       "      <td>1547</td>\n",
       "      <td>0.250</td>\n",
       "    </tr>\n",
       "    <tr>\n",
       "      <th>1</th>\n",
       "      <td>5</td>\n",
       "      <td>96</td>\n",
       "      <td>2587</td>\n",
       "      <td>0.625</td>\n",
       "    </tr>\n",
       "    <tr>\n",
       "      <th>2</th>\n",
       "      <td>6</td>\n",
       "      <td>74</td>\n",
       "      <td>4586</td>\n",
       "      <td>0.750</td>\n",
       "    </tr>\n",
       "    <tr>\n",
       "      <th>3</th>\n",
       "      <td>3</td>\n",
       "      <td>38</td>\n",
       "      <td>3578</td>\n",
       "      <td>0.375</td>\n",
       "    </tr>\n",
       "    <tr>\n",
       "      <th>4</th>\n",
       "      <td>4</td>\n",
       "      <td>87</td>\n",
       "      <td>1486</td>\n",
       "      <td>0.500</td>\n",
       "    </tr>\n",
       "    <tr>\n",
       "      <th>5</th>\n",
       "      <td>8</td>\n",
       "      <td>54</td>\n",
       "      <td>5713</td>\n",
       "      <td>1.000</td>\n",
       "    </tr>\n",
       "    <tr>\n",
       "      <th>6</th>\n",
       "      <td>3</td>\n",
       "      <td>43</td>\n",
       "      <td>9841</td>\n",
       "      <td>0.375</td>\n",
       "    </tr>\n",
       "    <tr>\n",
       "      <th>7</th>\n",
       "      <td>4</td>\n",
       "      <td>23</td>\n",
       "      <td>2684</td>\n",
       "      <td>0.500</td>\n",
       "    </tr>\n",
       "    <tr>\n",
       "      <th>8</th>\n",
       "      <td>2</td>\n",
       "      <td>32</td>\n",
       "      <td>7513</td>\n",
       "      <td>0.250</td>\n",
       "    </tr>\n",
       "    <tr>\n",
       "      <th>9</th>\n",
       "      <td>4</td>\n",
       "      <td>23</td>\n",
       "      <td>9855</td>\n",
       "      <td>0.500</td>\n",
       "    </tr>\n",
       "    <tr>\n",
       "      <th>10</th>\n",
       "      <td>5</td>\n",
       "      <td>23</td>\n",
       "      <td>4521</td>\n",
       "      <td>0.625</td>\n",
       "    </tr>\n",
       "    <tr>\n",
       "      <th>11</th>\n",
       "      <td>3</td>\n",
       "      <td>12</td>\n",
       "      <td>1564</td>\n",
       "      <td>0.375</td>\n",
       "    </tr>\n",
       "  </tbody>\n",
       "</table>\n",
       "</div>"
      ],
      "text/plain": [
       "    1  67  1000   new1\n",
       "0   2  17  1547  0.250\n",
       "1   5  96  2587  0.625\n",
       "2   6  74  4586  0.750\n",
       "3   3  38  3578  0.375\n",
       "4   4  87  1486  0.500\n",
       "5   8  54  5713  1.000\n",
       "6   3  43  9841  0.375\n",
       "7   4  23  2684  0.500\n",
       "8   2  32  7513  0.250\n",
       "9   4  23  9855  0.500\n",
       "10  5  23  4521  0.625\n",
       "11  3  12  1564  0.375"
      ]
     },
     "execution_count": 48,
     "metadata": {},
     "output_type": "execute_result"
    }
   ],
   "source": [
    "df"
   ]
  },
  {
   "cell_type": "code",
   "execution_count": 55,
   "id": "700ffa5c",
   "metadata": {},
   "outputs": [],
   "source": [
    "df['new2']=(df['67']-min(df['67']))/(max(df['67'])-min(df['67']))"
   ]
  },
  {
   "cell_type": "code",
   "execution_count": 56,
   "id": "a49adb2d",
   "metadata": {},
   "outputs": [
    {
     "data": {
      "text/html": [
       "<div>\n",
       "<style scoped>\n",
       "    .dataframe tbody tr th:only-of-type {\n",
       "        vertical-align: middle;\n",
       "    }\n",
       "\n",
       "    .dataframe tbody tr th {\n",
       "        vertical-align: top;\n",
       "    }\n",
       "\n",
       "    .dataframe thead th {\n",
       "        text-align: right;\n",
       "    }\n",
       "</style>\n",
       "<table border=\"1\" class=\"dataframe\">\n",
       "  <thead>\n",
       "    <tr style=\"text-align: right;\">\n",
       "      <th></th>\n",
       "      <th>1</th>\n",
       "      <th>67</th>\n",
       "      <th>1000</th>\n",
       "      <th>new1</th>\n",
       "      <th>new2</th>\n",
       "      <th>new3</th>\n",
       "    </tr>\n",
       "  </thead>\n",
       "  <tbody>\n",
       "    <tr>\n",
       "      <th>0</th>\n",
       "      <td>2</td>\n",
       "      <td>17</td>\n",
       "      <td>1547</td>\n",
       "      <td>0.250</td>\n",
       "      <td>0.059524</td>\n",
       "      <td>-1.011055</td>\n",
       "    </tr>\n",
       "    <tr>\n",
       "      <th>1</th>\n",
       "      <td>5</td>\n",
       "      <td>96</td>\n",
       "      <td>2587</td>\n",
       "      <td>0.625</td>\n",
       "      <td>1.000000</td>\n",
       "      <td>-0.669207</td>\n",
       "    </tr>\n",
       "    <tr>\n",
       "      <th>2</th>\n",
       "      <td>6</td>\n",
       "      <td>74</td>\n",
       "      <td>4586</td>\n",
       "      <td>0.750</td>\n",
       "      <td>0.738095</td>\n",
       "      <td>-0.012135</td>\n",
       "    </tr>\n",
       "    <tr>\n",
       "      <th>3</th>\n",
       "      <td>3</td>\n",
       "      <td>38</td>\n",
       "      <td>3578</td>\n",
       "      <td>0.375</td>\n",
       "      <td>0.309524</td>\n",
       "      <td>-0.343465</td>\n",
       "    </tr>\n",
       "    <tr>\n",
       "      <th>4</th>\n",
       "      <td>4</td>\n",
       "      <td>87</td>\n",
       "      <td>1486</td>\n",
       "      <td>0.500</td>\n",
       "      <td>0.892857</td>\n",
       "      <td>-1.031106</td>\n",
       "    </tr>\n",
       "    <tr>\n",
       "      <th>5</th>\n",
       "      <td>8</td>\n",
       "      <td>54</td>\n",
       "      <td>5713</td>\n",
       "      <td>1.000</td>\n",
       "      <td>0.500000</td>\n",
       "      <td>0.358311</td>\n",
       "    </tr>\n",
       "    <tr>\n",
       "      <th>6</th>\n",
       "      <td>3</td>\n",
       "      <td>43</td>\n",
       "      <td>9841</td>\n",
       "      <td>0.375</td>\n",
       "      <td>0.369048</td>\n",
       "      <td>1.715186</td>\n",
       "    </tr>\n",
       "    <tr>\n",
       "      <th>7</th>\n",
       "      <td>4</td>\n",
       "      <td>23</td>\n",
       "      <td>2684</td>\n",
       "      <td>0.500</td>\n",
       "      <td>0.130952</td>\n",
       "      <td>-0.637323</td>\n",
       "    </tr>\n",
       "    <tr>\n",
       "      <th>8</th>\n",
       "      <td>2</td>\n",
       "      <td>32</td>\n",
       "      <td>7513</td>\n",
       "      <td>0.250</td>\n",
       "      <td>0.238095</td>\n",
       "      <td>0.949972</td>\n",
       "    </tr>\n",
       "    <tr>\n",
       "      <th>9</th>\n",
       "      <td>4</td>\n",
       "      <td>23</td>\n",
       "      <td>9855</td>\n",
       "      <td>0.500</td>\n",
       "      <td>0.130952</td>\n",
       "      <td>1.719788</td>\n",
       "    </tr>\n",
       "    <tr>\n",
       "      <th>10</th>\n",
       "      <td>5</td>\n",
       "      <td>23</td>\n",
       "      <td>4521</td>\n",
       "      <td>0.625</td>\n",
       "      <td>0.130952</td>\n",
       "      <td>-0.033500</td>\n",
       "    </tr>\n",
       "    <tr>\n",
       "      <th>11</th>\n",
       "      <td>3</td>\n",
       "      <td>12</td>\n",
       "      <td>1564</td>\n",
       "      <td>0.375</td>\n",
       "      <td>0.000000</td>\n",
       "      <td>-1.005467</td>\n",
       "    </tr>\n",
       "  </tbody>\n",
       "</table>\n",
       "</div>"
      ],
      "text/plain": [
       "    1  67  1000   new1      new2      new3\n",
       "0   2  17  1547  0.250  0.059524 -1.011055\n",
       "1   5  96  2587  0.625  1.000000 -0.669207\n",
       "2   6  74  4586  0.750  0.738095 -0.012135\n",
       "3   3  38  3578  0.375  0.309524 -0.343465\n",
       "4   4  87  1486  0.500  0.892857 -1.031106\n",
       "5   8  54  5713  1.000  0.500000  0.358311\n",
       "6   3  43  9841  0.375  0.369048  1.715186\n",
       "7   4  23  2684  0.500  0.130952 -0.637323\n",
       "8   2  32  7513  0.250  0.238095  0.949972\n",
       "9   4  23  9855  0.500  0.130952  1.719788\n",
       "10  5  23  4521  0.625  0.130952 -0.033500\n",
       "11  3  12  1564  0.375  0.000000 -1.005467"
      ]
     },
     "execution_count": 56,
     "metadata": {},
     "output_type": "execute_result"
    }
   ],
   "source": [
    "df"
   ]
  },
  {
   "cell_type": "code",
   "execution_count": 57,
   "id": "345b6f2b",
   "metadata": {},
   "outputs": [],
   "source": [
    "df['new3']=(df['1000']-(df['1000'].mean()))/((df['1000']).std())"
   ]
  },
  {
   "cell_type": "code",
   "execution_count": 58,
   "id": "d9880988",
   "metadata": {},
   "outputs": [
    {
     "data": {
      "text/html": [
       "<div>\n",
       "<style scoped>\n",
       "    .dataframe tbody tr th:only-of-type {\n",
       "        vertical-align: middle;\n",
       "    }\n",
       "\n",
       "    .dataframe tbody tr th {\n",
       "        vertical-align: top;\n",
       "    }\n",
       "\n",
       "    .dataframe thead th {\n",
       "        text-align: right;\n",
       "    }\n",
       "</style>\n",
       "<table border=\"1\" class=\"dataframe\">\n",
       "  <thead>\n",
       "    <tr style=\"text-align: right;\">\n",
       "      <th></th>\n",
       "      <th>1</th>\n",
       "      <th>67</th>\n",
       "      <th>1000</th>\n",
       "      <th>new1</th>\n",
       "      <th>new2</th>\n",
       "      <th>new3</th>\n",
       "    </tr>\n",
       "  </thead>\n",
       "  <tbody>\n",
       "    <tr>\n",
       "      <th>0</th>\n",
       "      <td>2</td>\n",
       "      <td>17</td>\n",
       "      <td>1547</td>\n",
       "      <td>0.250</td>\n",
       "      <td>0.059524</td>\n",
       "      <td>-1.011055</td>\n",
       "    </tr>\n",
       "    <tr>\n",
       "      <th>1</th>\n",
       "      <td>5</td>\n",
       "      <td>96</td>\n",
       "      <td>2587</td>\n",
       "      <td>0.625</td>\n",
       "      <td>1.000000</td>\n",
       "      <td>-0.669207</td>\n",
       "    </tr>\n",
       "    <tr>\n",
       "      <th>2</th>\n",
       "      <td>6</td>\n",
       "      <td>74</td>\n",
       "      <td>4586</td>\n",
       "      <td>0.750</td>\n",
       "      <td>0.738095</td>\n",
       "      <td>-0.012135</td>\n",
       "    </tr>\n",
       "    <tr>\n",
       "      <th>3</th>\n",
       "      <td>3</td>\n",
       "      <td>38</td>\n",
       "      <td>3578</td>\n",
       "      <td>0.375</td>\n",
       "      <td>0.309524</td>\n",
       "      <td>-0.343465</td>\n",
       "    </tr>\n",
       "    <tr>\n",
       "      <th>4</th>\n",
       "      <td>4</td>\n",
       "      <td>87</td>\n",
       "      <td>1486</td>\n",
       "      <td>0.500</td>\n",
       "      <td>0.892857</td>\n",
       "      <td>-1.031106</td>\n",
       "    </tr>\n",
       "    <tr>\n",
       "      <th>5</th>\n",
       "      <td>8</td>\n",
       "      <td>54</td>\n",
       "      <td>5713</td>\n",
       "      <td>1.000</td>\n",
       "      <td>0.500000</td>\n",
       "      <td>0.358311</td>\n",
       "    </tr>\n",
       "    <tr>\n",
       "      <th>6</th>\n",
       "      <td>3</td>\n",
       "      <td>43</td>\n",
       "      <td>9841</td>\n",
       "      <td>0.375</td>\n",
       "      <td>0.369048</td>\n",
       "      <td>1.715186</td>\n",
       "    </tr>\n",
       "    <tr>\n",
       "      <th>7</th>\n",
       "      <td>4</td>\n",
       "      <td>23</td>\n",
       "      <td>2684</td>\n",
       "      <td>0.500</td>\n",
       "      <td>0.130952</td>\n",
       "      <td>-0.637323</td>\n",
       "    </tr>\n",
       "    <tr>\n",
       "      <th>8</th>\n",
       "      <td>2</td>\n",
       "      <td>32</td>\n",
       "      <td>7513</td>\n",
       "      <td>0.250</td>\n",
       "      <td>0.238095</td>\n",
       "      <td>0.949972</td>\n",
       "    </tr>\n",
       "    <tr>\n",
       "      <th>9</th>\n",
       "      <td>4</td>\n",
       "      <td>23</td>\n",
       "      <td>9855</td>\n",
       "      <td>0.500</td>\n",
       "      <td>0.130952</td>\n",
       "      <td>1.719788</td>\n",
       "    </tr>\n",
       "    <tr>\n",
       "      <th>10</th>\n",
       "      <td>5</td>\n",
       "      <td>23</td>\n",
       "      <td>4521</td>\n",
       "      <td>0.625</td>\n",
       "      <td>0.130952</td>\n",
       "      <td>-0.033500</td>\n",
       "    </tr>\n",
       "    <tr>\n",
       "      <th>11</th>\n",
       "      <td>3</td>\n",
       "      <td>12</td>\n",
       "      <td>1564</td>\n",
       "      <td>0.375</td>\n",
       "      <td>0.000000</td>\n",
       "      <td>-1.005467</td>\n",
       "    </tr>\n",
       "  </tbody>\n",
       "</table>\n",
       "</div>"
      ],
      "text/plain": [
       "    1  67  1000   new1      new2      new3\n",
       "0   2  17  1547  0.250  0.059524 -1.011055\n",
       "1   5  96  2587  0.625  1.000000 -0.669207\n",
       "2   6  74  4586  0.750  0.738095 -0.012135\n",
       "3   3  38  3578  0.375  0.309524 -0.343465\n",
       "4   4  87  1486  0.500  0.892857 -1.031106\n",
       "5   8  54  5713  1.000  0.500000  0.358311\n",
       "6   3  43  9841  0.375  0.369048  1.715186\n",
       "7   4  23  2684  0.500  0.130952 -0.637323\n",
       "8   2  32  7513  0.250  0.238095  0.949972\n",
       "9   4  23  9855  0.500  0.130952  1.719788\n",
       "10  5  23  4521  0.625  0.130952 -0.033500\n",
       "11  3  12  1564  0.375  0.000000 -1.005467"
      ]
     },
     "execution_count": 58,
     "metadata": {},
     "output_type": "execute_result"
    }
   ],
   "source": [
    "df"
   ]
  },
  {
   "cell_type": "code",
   "execution_count": 59,
   "id": "bff5dca1",
   "metadata": {},
   "outputs": [],
   "source": [
    "lst=[1,2,3,4,5,6]\n",
    "arr=np.array(lst)"
   ]
  },
  {
   "cell_type": "code",
   "execution_count": 60,
   "id": "75614435",
   "metadata": {},
   "outputs": [
    {
     "data": {
      "text/plain": [
       "array([1, 2, 3, 4, 5, 6])"
      ]
     },
     "execution_count": 60,
     "metadata": {},
     "output_type": "execute_result"
    }
   ],
   "source": [
    "arr"
   ]
  },
  {
   "cell_type": "code",
   "execution_count": 61,
   "id": "7f136d91",
   "metadata": {},
   "outputs": [],
   "source": [
    "arr=np.array([1,2,3,4,5,6,7])"
   ]
  },
  {
   "cell_type": "code",
   "execution_count": 62,
   "id": "85a91c84",
   "metadata": {},
   "outputs": [
    {
     "data": {
      "text/plain": [
       "array([1, 2, 3, 4, 5, 6, 7])"
      ]
     },
     "execution_count": 62,
     "metadata": {},
     "output_type": "execute_result"
    }
   ],
   "source": [
    "arr"
   ]
  },
  {
   "cell_type": "code",
   "execution_count": 63,
   "id": "29096a47",
   "metadata": {},
   "outputs": [
    {
     "data": {
      "text/plain": [
       "3"
      ]
     },
     "execution_count": 63,
     "metadata": {},
     "output_type": "execute_result"
    }
   ],
   "source": [
    "lst[2]"
   ]
  },
  {
   "cell_type": "code",
   "execution_count": 68,
   "id": "accd0a69",
   "metadata": {},
   "outputs": [
    {
     "data": {
      "text/plain": [
       "(2, 5, 2, 5)"
      ]
     },
     "execution_count": 68,
     "metadata": {},
     "output_type": "execute_result"
    }
   ],
   "source": [
    "arr.shape"
   ]
  },
  {
   "cell_type": "code",
   "execution_count": 66,
   "id": "2e20add2",
   "metadata": {},
   "outputs": [],
   "source": [
    "arr=np.arange(0,100).reshape(2,5,2,5)"
   ]
  },
  {
   "cell_type": "code",
   "execution_count": 67,
   "id": "0df6d404",
   "metadata": {},
   "outputs": [
    {
     "data": {
      "text/plain": [
       "array([[[[ 0,  1,  2,  3,  4],\n",
       "         [ 5,  6,  7,  8,  9]],\n",
       "\n",
       "        [[10, 11, 12, 13, 14],\n",
       "         [15, 16, 17, 18, 19]],\n",
       "\n",
       "        [[20, 21, 22, 23, 24],\n",
       "         [25, 26, 27, 28, 29]],\n",
       "\n",
       "        [[30, 31, 32, 33, 34],\n",
       "         [35, 36, 37, 38, 39]],\n",
       "\n",
       "        [[40, 41, 42, 43, 44],\n",
       "         [45, 46, 47, 48, 49]]],\n",
       "\n",
       "\n",
       "       [[[50, 51, 52, 53, 54],\n",
       "         [55, 56, 57, 58, 59]],\n",
       "\n",
       "        [[60, 61, 62, 63, 64],\n",
       "         [65, 66, 67, 68, 69]],\n",
       "\n",
       "        [[70, 71, 72, 73, 74],\n",
       "         [75, 76, 77, 78, 79]],\n",
       "\n",
       "        [[80, 81, 82, 83, 84],\n",
       "         [85, 86, 87, 88, 89]],\n",
       "\n",
       "        [[90, 91, 92, 93, 94],\n",
       "         [95, 96, 97, 98, 99]]]])"
      ]
     },
     "execution_count": 67,
     "metadata": {},
     "output_type": "execute_result"
    }
   ],
   "source": [
    "arr"
   ]
  },
  {
   "cell_type": "code",
   "execution_count": null,
   "id": "945a1fec",
   "metadata": {},
   "outputs": [],
   "source": [
    "2,5,2,5"
   ]
  },
  {
   "cell_type": "code",
   "execution_count": 69,
   "id": "cca15909",
   "metadata": {},
   "outputs": [
    {
     "data": {
      "text/plain": [
       "array([[[ 0,  1,  2,  3,  4],\n",
       "        [ 5,  6,  7,  8,  9]],\n",
       "\n",
       "       [[10, 11, 12, 13, 14],\n",
       "        [15, 16, 17, 18, 19]],\n",
       "\n",
       "       [[20, 21, 22, 23, 24],\n",
       "        [25, 26, 27, 28, 29]],\n",
       "\n",
       "       [[30, 31, 32, 33, 34],\n",
       "        [35, 36, 37, 38, 39]],\n",
       "\n",
       "       [[40, 41, 42, 43, 44],\n",
       "        [45, 46, 47, 48, 49]]])"
      ]
     },
     "execution_count": 69,
     "metadata": {},
     "output_type": "execute_result"
    }
   ],
   "source": [
    "arr[0]"
   ]
  },
  {
   "cell_type": "code",
   "execution_count": 70,
   "id": "6adb993e",
   "metadata": {},
   "outputs": [
    {
     "data": {
      "text/plain": [
       "(2, 5, 2, 5)"
      ]
     },
     "execution_count": 70,
     "metadata": {},
     "output_type": "execute_result"
    }
   ],
   "source": [
    "arr.shape"
   ]
  },
  {
   "cell_type": "code",
   "execution_count": 74,
   "id": "a95d74d1",
   "metadata": {},
   "outputs": [
    {
     "data": {
      "text/plain": [
       "array([[[[495, 339, 476],\n",
       "         [371, 409, 334],\n",
       "         [232, 324, 484],\n",
       "         [397, 325, 231]],\n",
       "\n",
       "        [[251, 496, 264],\n",
       "         [377, 301, 443],\n",
       "         [388, 434, 271],\n",
       "         [228, 394, 295]]],\n",
       "\n",
       "\n",
       "       [[[431, 405, 244],\n",
       "         [221, 454, 201],\n",
       "         [241, 311, 464],\n",
       "         [242, 346, 310]],\n",
       "\n",
       "        [[254, 247, 466],\n",
       "         [491, 218, 295],\n",
       "         [200, 263, 411],\n",
       "         [377, 310, 417]]],\n",
       "\n",
       "\n",
       "       [[[376, 213, 352],\n",
       "         [342, 210, 231],\n",
       "         [258, 208, 420],\n",
       "         [463, 304, 259]],\n",
       "\n",
       "        [[294, 343, 226],\n",
       "         [441, 464, 437],\n",
       "         [238, 229, 375],\n",
       "         [230, 376, 200]]],\n",
       "\n",
       "\n",
       "       [[[336, 316, 466],\n",
       "         [464, 464, 432],\n",
       "         [418, 368, 335],\n",
       "         [294, 254, 234]],\n",
       "\n",
       "        [[370, 459, 282],\n",
       "         [257, 330, 425],\n",
       "         [268, 416, 202],\n",
       "         [378, 499, 400]]],\n",
       "\n",
       "\n",
       "       [[[257, 318, 481],\n",
       "         [463, 285, 211],\n",
       "         [290, 458, 490],\n",
       "         [408, 488, 498]],\n",
       "\n",
       "        [[235, 355, 254],\n",
       "         [473, 205, 247],\n",
       "         [252, 206, 334],\n",
       "         [383, 332, 259]]]])"
      ]
     },
     "execution_count": 74,
     "metadata": {},
     "output_type": "execute_result"
    }
   ],
   "source": [
    "arr"
   ]
  },
  {
   "cell_type": "code",
   "execution_count": null,
   "id": "4f9fba86",
   "metadata": {},
   "outputs": [],
   "source": [
    "5,2,4,3"
   ]
  },
  {
   "cell_type": "code",
   "execution_count": 77,
   "id": "d8bb5165",
   "metadata": {},
   "outputs": [
    {
     "data": {
      "text/plain": [
       "(5, 2, 4, 3)"
      ]
     },
     "execution_count": 77,
     "metadata": {},
     "output_type": "execute_result"
    }
   ],
   "source": [
    "arr.shape"
   ]
  },
  {
   "cell_type": "code",
   "execution_count": 79,
   "id": "2ca6dd83",
   "metadata": {},
   "outputs": [
    {
     "data": {
      "text/plain": [
       "array([[[[141, 157],\n",
       "         [141, 568],\n",
       "         [141, 568],\n",
       "         [157, 157]],\n",
       "\n",
       "        [[141, 568],\n",
       "         [141, 157],\n",
       "         [141, 141],\n",
       "         [568, 568]],\n",
       "\n",
       "        [[157, 141],\n",
       "         [157, 157],\n",
       "         [141, 568],\n",
       "         [141, 568]]],\n",
       "\n",
       "\n",
       "       [[[568, 568],\n",
       "         [568, 568],\n",
       "         [141, 157],\n",
       "         [157, 141]],\n",
       "\n",
       "        [[157, 157],\n",
       "         [141, 141],\n",
       "         [157, 568],\n",
       "         [157, 141]],\n",
       "\n",
       "        [[568, 157],\n",
       "         [568, 568],\n",
       "         [157, 568],\n",
       "         [157, 568]]],\n",
       "\n",
       "\n",
       "       [[[141, 141],\n",
       "         [568, 157],\n",
       "         [568, 568],\n",
       "         [568, 568]],\n",
       "\n",
       "        [[141, 141],\n",
       "         [141, 157],\n",
       "         [141, 157],\n",
       "         [141, 568]],\n",
       "\n",
       "        [[141, 141],\n",
       "         [157, 141],\n",
       "         [141, 157],\n",
       "         [568, 157]]],\n",
       "\n",
       "\n",
       "       [[[568, 157],\n",
       "         [141, 568],\n",
       "         [157, 157],\n",
       "         [141, 141]],\n",
       "\n",
       "        [[141, 141],\n",
       "         [141, 568],\n",
       "         [568, 141],\n",
       "         [568, 157]],\n",
       "\n",
       "        [[568, 568],\n",
       "         [157, 568],\n",
       "         [157, 568],\n",
       "         [157, 568]]],\n",
       "\n",
       "\n",
       "       [[[157, 568],\n",
       "         [568, 157],\n",
       "         [568, 141],\n",
       "         [141, 141]],\n",
       "\n",
       "        [[568, 141],\n",
       "         [157, 568],\n",
       "         [141, 141],\n",
       "         [568, 141]],\n",
       "\n",
       "        [[157, 568],\n",
       "         [157, 157],\n",
       "         [141, 141],\n",
       "         [568, 157]]]])"
      ]
     },
     "execution_count": 79,
     "metadata": {},
     "output_type": "execute_result"
    }
   ],
   "source": [
    "arr"
   ]
  },
  {
   "cell_type": "code",
   "execution_count": 80,
   "id": "c555a301",
   "metadata": {},
   "outputs": [
    {
     "data": {
      "text/plain": [
       "(5, 3, 4, 2)"
      ]
     },
     "execution_count": 80,
     "metadata": {},
     "output_type": "execute_result"
    }
   ],
   "source": [
    "arr.shape"
   ]
  },
  {
   "cell_type": "code",
   "execution_count": 81,
   "id": "774f2809",
   "metadata": {},
   "outputs": [],
   "source": [
    "arr=arr.flatten()"
   ]
  },
  {
   "cell_type": "code",
   "execution_count": 82,
   "id": "d0e7f843",
   "metadata": {},
   "outputs": [
    {
     "data": {
      "text/plain": [
       "array([141, 157, 141, 568, 141, 568, 157, 157, 141, 568, 141, 157, 141,\n",
       "       141, 568, 568, 157, 141, 157, 157, 141, 568, 141, 568, 568, 568,\n",
       "       568, 568, 141, 157, 157, 141, 157, 157, 141, 141, 157, 568, 157,\n",
       "       141, 568, 157, 568, 568, 157, 568, 157, 568, 141, 141, 568, 157,\n",
       "       568, 568, 568, 568, 141, 141, 141, 157, 141, 157, 141, 568, 141,\n",
       "       141, 157, 141, 141, 157, 568, 157, 568, 157, 141, 568, 157, 157,\n",
       "       141, 141, 141, 141, 141, 568, 568, 141, 568, 157, 568, 568, 157,\n",
       "       568, 157, 568, 157, 568, 157, 568, 568, 157, 568, 141, 141, 141,\n",
       "       568, 141, 157, 568, 141, 141, 568, 141, 157, 568, 157, 157, 141,\n",
       "       141, 568, 157])"
      ]
     },
     "execution_count": 82,
     "metadata": {},
     "output_type": "execute_result"
    }
   ],
   "source": [
    "arr"
   ]
  },
  {
   "cell_type": "code",
   "execution_count": 83,
   "id": "511b3922",
   "metadata": {},
   "outputs": [
    {
     "data": {
      "text/plain": [
       "(120,)"
      ]
     },
     "execution_count": 83,
     "metadata": {},
     "output_type": "execute_result"
    }
   ],
   "source": [
    "arr.shape"
   ]
  },
  {
   "cell_type": "code",
   "execution_count": 88,
   "id": "580fb3ad",
   "metadata": {},
   "outputs": [],
   "source": [
    "arr=np.arange(1,1001).reshape(2,50,10)"
   ]
  },
  {
   "cell_type": "code",
   "execution_count": 89,
   "id": "375a99c3",
   "metadata": {},
   "outputs": [
    {
     "data": {
      "text/plain": [
       "array([[[   1,    2,    3,    4,    5,    6,    7,    8,    9,   10],\n",
       "        [  11,   12,   13,   14,   15,   16,   17,   18,   19,   20],\n",
       "        [  21,   22,   23,   24,   25,   26,   27,   28,   29,   30],\n",
       "        [  31,   32,   33,   34,   35,   36,   37,   38,   39,   40],\n",
       "        [  41,   42,   43,   44,   45,   46,   47,   48,   49,   50],\n",
       "        [  51,   52,   53,   54,   55,   56,   57,   58,   59,   60],\n",
       "        [  61,   62,   63,   64,   65,   66,   67,   68,   69,   70],\n",
       "        [  71,   72,   73,   74,   75,   76,   77,   78,   79,   80],\n",
       "        [  81,   82,   83,   84,   85,   86,   87,   88,   89,   90],\n",
       "        [  91,   92,   93,   94,   95,   96,   97,   98,   99,  100],\n",
       "        [ 101,  102,  103,  104,  105,  106,  107,  108,  109,  110],\n",
       "        [ 111,  112,  113,  114,  115,  116,  117,  118,  119,  120],\n",
       "        [ 121,  122,  123,  124,  125,  126,  127,  128,  129,  130],\n",
       "        [ 131,  132,  133,  134,  135,  136,  137,  138,  139,  140],\n",
       "        [ 141,  142,  143,  144,  145,  146,  147,  148,  149,  150],\n",
       "        [ 151,  152,  153,  154,  155,  156,  157,  158,  159,  160],\n",
       "        [ 161,  162,  163,  164,  165,  166,  167,  168,  169,  170],\n",
       "        [ 171,  172,  173,  174,  175,  176,  177,  178,  179,  180],\n",
       "        [ 181,  182,  183,  184,  185,  186,  187,  188,  189,  190],\n",
       "        [ 191,  192,  193,  194,  195,  196,  197,  198,  199,  200],\n",
       "        [ 201,  202,  203,  204,  205,  206,  207,  208,  209,  210],\n",
       "        [ 211,  212,  213,  214,  215,  216,  217,  218,  219,  220],\n",
       "        [ 221,  222,  223,  224,  225,  226,  227,  228,  229,  230],\n",
       "        [ 231,  232,  233,  234,  235,  236,  237,  238,  239,  240],\n",
       "        [ 241,  242,  243,  244,  245,  246,  247,  248,  249,  250],\n",
       "        [ 251,  252,  253,  254,  255,  256,  257,  258,  259,  260],\n",
       "        [ 261,  262,  263,  264,  265,  266,  267,  268,  269,  270],\n",
       "        [ 271,  272,  273,  274,  275,  276,  277,  278,  279,  280],\n",
       "        [ 281,  282,  283,  284,  285,  286,  287,  288,  289,  290],\n",
       "        [ 291,  292,  293,  294,  295,  296,  297,  298,  299,  300],\n",
       "        [ 301,  302,  303,  304,  305,  306,  307,  308,  309,  310],\n",
       "        [ 311,  312,  313,  314,  315,  316,  317,  318,  319,  320],\n",
       "        [ 321,  322,  323,  324,  325,  326,  327,  328,  329,  330],\n",
       "        [ 331,  332,  333,  334,  335,  336,  337,  338,  339,  340],\n",
       "        [ 341,  342,  343,  344,  345,  346,  347,  348,  349,  350],\n",
       "        [ 351,  352,  353,  354,  355,  356,  357,  358,  359,  360],\n",
       "        [ 361,  362,  363,  364,  365,  366,  367,  368,  369,  370],\n",
       "        [ 371,  372,  373,  374,  375,  376,  377,  378,  379,  380],\n",
       "        [ 381,  382,  383,  384,  385,  386,  387,  388,  389,  390],\n",
       "        [ 391,  392,  393,  394,  395,  396,  397,  398,  399,  400],\n",
       "        [ 401,  402,  403,  404,  405,  406,  407,  408,  409,  410],\n",
       "        [ 411,  412,  413,  414,  415,  416,  417,  418,  419,  420],\n",
       "        [ 421,  422,  423,  424,  425,  426,  427,  428,  429,  430],\n",
       "        [ 431,  432,  433,  434,  435,  436,  437,  438,  439,  440],\n",
       "        [ 441,  442,  443,  444,  445,  446,  447,  448,  449,  450],\n",
       "        [ 451,  452,  453,  454,  455,  456,  457,  458,  459,  460],\n",
       "        [ 461,  462,  463,  464,  465,  466,  467,  468,  469,  470],\n",
       "        [ 471,  472,  473,  474,  475,  476,  477,  478,  479,  480],\n",
       "        [ 481,  482,  483,  484,  485,  486,  487,  488,  489,  490],\n",
       "        [ 491,  492,  493,  494,  495,  496,  497,  498,  499,  500]],\n",
       "\n",
       "       [[ 501,  502,  503,  504,  505,  506,  507,  508,  509,  510],\n",
       "        [ 511,  512,  513,  514,  515,  516,  517,  518,  519,  520],\n",
       "        [ 521,  522,  523,  524,  525,  526,  527,  528,  529,  530],\n",
       "        [ 531,  532,  533,  534,  535,  536,  537,  538,  539,  540],\n",
       "        [ 541,  542,  543,  544,  545,  546,  547,  548,  549,  550],\n",
       "        [ 551,  552,  553,  554,  555,  556,  557,  558,  559,  560],\n",
       "        [ 561,  562,  563,  564,  565,  566,  567,  568,  569,  570],\n",
       "        [ 571,  572,  573,  574,  575,  576,  577,  578,  579,  580],\n",
       "        [ 581,  582,  583,  584,  585,  586,  587,  588,  589,  590],\n",
       "        [ 591,  592,  593,  594,  595,  596,  597,  598,  599,  600],\n",
       "        [ 601,  602,  603,  604,  605,  606,  607,  608,  609,  610],\n",
       "        [ 611,  612,  613,  614,  615,  616,  617,  618,  619,  620],\n",
       "        [ 621,  622,  623,  624,  625,  626,  627,  628,  629,  630],\n",
       "        [ 631,  632,  633,  634,  635,  636,  637,  638,  639,  640],\n",
       "        [ 641,  642,  643,  644,  645,  646,  647,  648,  649,  650],\n",
       "        [ 651,  652,  653,  654,  655,  656,  657,  658,  659,  660],\n",
       "        [ 661,  662,  663,  664,  665,  666,  667,  668,  669,  670],\n",
       "        [ 671,  672,  673,  674,  675,  676,  677,  678,  679,  680],\n",
       "        [ 681,  682,  683,  684,  685,  686,  687,  688,  689,  690],\n",
       "        [ 691,  692,  693,  694,  695,  696,  697,  698,  699,  700],\n",
       "        [ 701,  702,  703,  704,  705,  706,  707,  708,  709,  710],\n",
       "        [ 711,  712,  713,  714,  715,  716,  717,  718,  719,  720],\n",
       "        [ 721,  722,  723,  724,  725,  726,  727,  728,  729,  730],\n",
       "        [ 731,  732,  733,  734,  735,  736,  737,  738,  739,  740],\n",
       "        [ 741,  742,  743,  744,  745,  746,  747,  748,  749,  750],\n",
       "        [ 751,  752,  753,  754,  755,  756,  757,  758,  759,  760],\n",
       "        [ 761,  762,  763,  764,  765,  766,  767,  768,  769,  770],\n",
       "        [ 771,  772,  773,  774,  775,  776,  777,  778,  779,  780],\n",
       "        [ 781,  782,  783,  784,  785,  786,  787,  788,  789,  790],\n",
       "        [ 791,  792,  793,  794,  795,  796,  797,  798,  799,  800],\n",
       "        [ 801,  802,  803,  804,  805,  806,  807,  808,  809,  810],\n",
       "        [ 811,  812,  813,  814,  815,  816,  817,  818,  819,  820],\n",
       "        [ 821,  822,  823,  824,  825,  826,  827,  828,  829,  830],\n",
       "        [ 831,  832,  833,  834,  835,  836,  837,  838,  839,  840],\n",
       "        [ 841,  842,  843,  844,  845,  846,  847,  848,  849,  850],\n",
       "        [ 851,  852,  853,  854,  855,  856,  857,  858,  859,  860],\n",
       "        [ 861,  862,  863,  864,  865,  866,  867,  868,  869,  870],\n",
       "        [ 871,  872,  873,  874,  875,  876,  877,  878,  879,  880],\n",
       "        [ 881,  882,  883,  884,  885,  886,  887,  888,  889,  890],\n",
       "        [ 891,  892,  893,  894,  895,  896,  897,  898,  899,  900],\n",
       "        [ 901,  902,  903,  904,  905,  906,  907,  908,  909,  910],\n",
       "        [ 911,  912,  913,  914,  915,  916,  917,  918,  919,  920],\n",
       "        [ 921,  922,  923,  924,  925,  926,  927,  928,  929,  930],\n",
       "        [ 931,  932,  933,  934,  935,  936,  937,  938,  939,  940],\n",
       "        [ 941,  942,  943,  944,  945,  946,  947,  948,  949,  950],\n",
       "        [ 951,  952,  953,  954,  955,  956,  957,  958,  959,  960],\n",
       "        [ 961,  962,  963,  964,  965,  966,  967,  968,  969,  970],\n",
       "        [ 971,  972,  973,  974,  975,  976,  977,  978,  979,  980],\n",
       "        [ 981,  982,  983,  984,  985,  986,  987,  988,  989,  990],\n",
       "        [ 991,  992,  993,  994,  995,  996,  997,  998,  999, 1000]]])"
      ]
     },
     "execution_count": 89,
     "metadata": {},
     "output_type": "execute_result"
    }
   ],
   "source": [
    "arr"
   ]
  },
  {
   "cell_type": "code",
   "execution_count": 90,
   "id": "a44e3dc3",
   "metadata": {},
   "outputs": [
    {
     "data": {
      "text/plain": [
       "array([   1,    2,    3,    4,    5,    6,    7,    8,    9,   10,   11,\n",
       "         12,   13,   14,   15,   16,   17,   18,   19,   20,   21,   22,\n",
       "         23,   24,   25,   26,   27,   28,   29,   30,   31,   32,   33,\n",
       "         34,   35,   36,   37,   38,   39,   40,   41,   42,   43,   44,\n",
       "         45,   46,   47,   48,   49,   50,   51,   52,   53,   54,   55,\n",
       "         56,   57,   58,   59,   60,   61,   62,   63,   64,   65,   66,\n",
       "         67,   68,   69,   70,   71,   72,   73,   74,   75,   76,   77,\n",
       "         78,   79,   80,   81,   82,   83,   84,   85,   86,   87,   88,\n",
       "         89,   90,   91,   92,   93,   94,   95,   96,   97,   98,   99,\n",
       "        100,  101,  102,  103,  104,  105,  106,  107,  108,  109,  110,\n",
       "        111,  112,  113,  114,  115,  116,  117,  118,  119,  120,  121,\n",
       "        122,  123,  124,  125,  126,  127,  128,  129,  130,  131,  132,\n",
       "        133,  134,  135,  136,  137,  138,  139,  140,  141,  142,  143,\n",
       "        144,  145,  146,  147,  148,  149,  150,  151,  152,  153,  154,\n",
       "        155,  156,  157,  158,  159,  160,  161,  162,  163,  164,  165,\n",
       "        166,  167,  168,  169,  170,  171,  172,  173,  174,  175,  176,\n",
       "        177,  178,  179,  180,  181,  182,  183,  184,  185,  186,  187,\n",
       "        188,  189,  190,  191,  192,  193,  194,  195,  196,  197,  198,\n",
       "        199,  200,  201,  202,  203,  204,  205,  206,  207,  208,  209,\n",
       "        210,  211,  212,  213,  214,  215,  216,  217,  218,  219,  220,\n",
       "        221,  222,  223,  224,  225,  226,  227,  228,  229,  230,  231,\n",
       "        232,  233,  234,  235,  236,  237,  238,  239,  240,  241,  242,\n",
       "        243,  244,  245,  246,  247,  248,  249,  250,  251,  252,  253,\n",
       "        254,  255,  256,  257,  258,  259,  260,  261,  262,  263,  264,\n",
       "        265,  266,  267,  268,  269,  270,  271,  272,  273,  274,  275,\n",
       "        276,  277,  278,  279,  280,  281,  282,  283,  284,  285,  286,\n",
       "        287,  288,  289,  290,  291,  292,  293,  294,  295,  296,  297,\n",
       "        298,  299,  300,  301,  302,  303,  304,  305,  306,  307,  308,\n",
       "        309,  310,  311,  312,  313,  314,  315,  316,  317,  318,  319,\n",
       "        320,  321,  322,  323,  324,  325,  326,  327,  328,  329,  330,\n",
       "        331,  332,  333,  334,  335,  336,  337,  338,  339,  340,  341,\n",
       "        342,  343,  344,  345,  346,  347,  348,  349,  350,  351,  352,\n",
       "        353,  354,  355,  356,  357,  358,  359,  360,  361,  362,  363,\n",
       "        364,  365,  366,  367,  368,  369,  370,  371,  372,  373,  374,\n",
       "        375,  376,  377,  378,  379,  380,  381,  382,  383,  384,  385,\n",
       "        386,  387,  388,  389,  390,  391,  392,  393,  394,  395,  396,\n",
       "        397,  398,  399,  400,  401,  402,  403,  404,  405,  406,  407,\n",
       "        408,  409,  410,  411,  412,  413,  414,  415,  416,  417,  418,\n",
       "        419,  420,  421,  422,  423,  424,  425,  426,  427,  428,  429,\n",
       "        430,  431,  432,  433,  434,  435,  436,  437,  438,  439,  440,\n",
       "        441,  442,  443,  444,  445,  446,  447,  448,  449,  450,  451,\n",
       "        452,  453,  454,  455,  456,  457,  458,  459,  460,  461,  462,\n",
       "        463,  464,  465,  466,  467,  468,  469,  470,  471,  472,  473,\n",
       "        474,  475,  476,  477,  478,  479,  480,  481,  482,  483,  484,\n",
       "        485,  486,  487,  488,  489,  490,  491,  492,  493,  494,  495,\n",
       "        496,  497,  498,  499,  500,  501,  502,  503,  504,  505,  506,\n",
       "        507,  508,  509,  510,  511,  512,  513,  514,  515,  516,  517,\n",
       "        518,  519,  520,  521,  522,  523,  524,  525,  526,  527,  528,\n",
       "        529,  530,  531,  532,  533,  534,  535,  536,  537,  538,  539,\n",
       "        540,  541,  542,  543,  544,  545,  546,  547,  548,  549,  550,\n",
       "        551,  552,  553,  554,  555,  556,  557,  558,  559,  560,  561,\n",
       "        562,  563,  564,  565,  566,  567,  568,  569,  570,  571,  572,\n",
       "        573,  574,  575,  576,  577,  578,  579,  580,  581,  582,  583,\n",
       "        584,  585,  586,  587,  588,  589,  590,  591,  592,  593,  594,\n",
       "        595,  596,  597,  598,  599,  600,  601,  602,  603,  604,  605,\n",
       "        606,  607,  608,  609,  610,  611,  612,  613,  614,  615,  616,\n",
       "        617,  618,  619,  620,  621,  622,  623,  624,  625,  626,  627,\n",
       "        628,  629,  630,  631,  632,  633,  634,  635,  636,  637,  638,\n",
       "        639,  640,  641,  642,  643,  644,  645,  646,  647,  648,  649,\n",
       "        650,  651,  652,  653,  654,  655,  656,  657,  658,  659,  660,\n",
       "        661,  662,  663,  664,  665,  666,  667,  668,  669,  670,  671,\n",
       "        672,  673,  674,  675,  676,  677,  678,  679,  680,  681,  682,\n",
       "        683,  684,  685,  686,  687,  688,  689,  690,  691,  692,  693,\n",
       "        694,  695,  696,  697,  698,  699,  700,  701,  702,  703,  704,\n",
       "        705,  706,  707,  708,  709,  710,  711,  712,  713,  714,  715,\n",
       "        716,  717,  718,  719,  720,  721,  722,  723,  724,  725,  726,\n",
       "        727,  728,  729,  730,  731,  732,  733,  734,  735,  736,  737,\n",
       "        738,  739,  740,  741,  742,  743,  744,  745,  746,  747,  748,\n",
       "        749,  750,  751,  752,  753,  754,  755,  756,  757,  758,  759,\n",
       "        760,  761,  762,  763,  764,  765,  766,  767,  768,  769,  770,\n",
       "        771,  772,  773,  774,  775,  776,  777,  778,  779,  780,  781,\n",
       "        782,  783,  784,  785,  786,  787,  788,  789,  790,  791,  792,\n",
       "        793,  794,  795,  796,  797,  798,  799,  800,  801,  802,  803,\n",
       "        804,  805,  806,  807,  808,  809,  810,  811,  812,  813,  814,\n",
       "        815,  816,  817,  818,  819,  820,  821,  822,  823,  824,  825,\n",
       "        826,  827,  828,  829,  830,  831,  832,  833,  834,  835,  836,\n",
       "        837,  838,  839,  840,  841,  842,  843,  844,  845,  846,  847,\n",
       "        848,  849,  850,  851,  852,  853,  854,  855,  856,  857,  858,\n",
       "        859,  860,  861,  862,  863,  864,  865,  866,  867,  868,  869,\n",
       "        870,  871,  872,  873,  874,  875,  876,  877,  878,  879,  880,\n",
       "        881,  882,  883,  884,  885,  886,  887,  888,  889,  890,  891,\n",
       "        892,  893,  894,  895,  896,  897,  898,  899,  900,  901,  902,\n",
       "        903,  904,  905,  906,  907,  908,  909,  910,  911,  912,  913,\n",
       "        914,  915,  916,  917,  918,  919,  920,  921,  922,  923,  924,\n",
       "        925,  926,  927,  928,  929,  930,  931,  932,  933,  934,  935,\n",
       "        936,  937,  938,  939,  940,  941,  942,  943,  944,  945,  946,\n",
       "        947,  948,  949,  950,  951,  952,  953,  954,  955,  956,  957,\n",
       "        958,  959,  960,  961,  962,  963,  964,  965,  966,  967,  968,\n",
       "        969,  970,  971,  972,  973,  974,  975,  976,  977,  978,  979,\n",
       "        980,  981,  982,  983,  984,  985,  986,  987,  988,  989,  990,\n",
       "        991,  992,  993,  994,  995,  996,  997,  998,  999, 1000])"
      ]
     },
     "execution_count": 90,
     "metadata": {},
     "output_type": "execute_result"
    }
   ],
   "source": [
    "arr.ravel()"
   ]
  },
  {
   "cell_type": "code",
   "execution_count": 91,
   "id": "01274cd8",
   "metadata": {},
   "outputs": [
    {
     "data": {
      "text/plain": [
       "array([[[   1,    2,    3,    4,    5,    6,    7,    8,    9,   10],\n",
       "        [  11,   12,   13,   14,   15,   16,   17,   18,   19,   20],\n",
       "        [  21,   22,   23,   24,   25,   26,   27,   28,   29,   30],\n",
       "        [  31,   32,   33,   34,   35,   36,   37,   38,   39,   40],\n",
       "        [  41,   42,   43,   44,   45,   46,   47,   48,   49,   50],\n",
       "        [  51,   52,   53,   54,   55,   56,   57,   58,   59,   60],\n",
       "        [  61,   62,   63,   64,   65,   66,   67,   68,   69,   70],\n",
       "        [  71,   72,   73,   74,   75,   76,   77,   78,   79,   80],\n",
       "        [  81,   82,   83,   84,   85,   86,   87,   88,   89,   90],\n",
       "        [  91,   92,   93,   94,   95,   96,   97,   98,   99,  100],\n",
       "        [ 101,  102,  103,  104,  105,  106,  107,  108,  109,  110],\n",
       "        [ 111,  112,  113,  114,  115,  116,  117,  118,  119,  120],\n",
       "        [ 121,  122,  123,  124,  125,  126,  127,  128,  129,  130],\n",
       "        [ 131,  132,  133,  134,  135,  136,  137,  138,  139,  140],\n",
       "        [ 141,  142,  143,  144,  145,  146,  147,  148,  149,  150],\n",
       "        [ 151,  152,  153,  154,  155,  156,  157,  158,  159,  160],\n",
       "        [ 161,  162,  163,  164,  165,  166,  167,  168,  169,  170],\n",
       "        [ 171,  172,  173,  174,  175,  176,  177,  178,  179,  180],\n",
       "        [ 181,  182,  183,  184,  185,  186,  187,  188,  189,  190],\n",
       "        [ 191,  192,  193,  194,  195,  196,  197,  198,  199,  200],\n",
       "        [ 201,  202,  203,  204,  205,  206,  207,  208,  209,  210],\n",
       "        [ 211,  212,  213,  214,  215,  216,  217,  218,  219,  220],\n",
       "        [ 221,  222,  223,  224,  225,  226,  227,  228,  229,  230],\n",
       "        [ 231,  232,  233,  234,  235,  236,  237,  238,  239,  240],\n",
       "        [ 241,  242,  243,  244,  245,  246,  247,  248,  249,  250],\n",
       "        [ 251,  252,  253,  254,  255,  256,  257,  258,  259,  260],\n",
       "        [ 261,  262,  263,  264,  265,  266,  267,  268,  269,  270],\n",
       "        [ 271,  272,  273,  274,  275,  276,  277,  278,  279,  280],\n",
       "        [ 281,  282,  283,  284,  285,  286,  287,  288,  289,  290],\n",
       "        [ 291,  292,  293,  294,  295,  296,  297,  298,  299,  300],\n",
       "        [ 301,  302,  303,  304,  305,  306,  307,  308,  309,  310],\n",
       "        [ 311,  312,  313,  314,  315,  316,  317,  318,  319,  320],\n",
       "        [ 321,  322,  323,  324,  325,  326,  327,  328,  329,  330],\n",
       "        [ 331,  332,  333,  334,  335,  336,  337,  338,  339,  340],\n",
       "        [ 341,  342,  343,  344,  345,  346,  347,  348,  349,  350],\n",
       "        [ 351,  352,  353,  354,  355,  356,  357,  358,  359,  360],\n",
       "        [ 361,  362,  363,  364,  365,  366,  367,  368,  369,  370],\n",
       "        [ 371,  372,  373,  374,  375,  376,  377,  378,  379,  380],\n",
       "        [ 381,  382,  383,  384,  385,  386,  387,  388,  389,  390],\n",
       "        [ 391,  392,  393,  394,  395,  396,  397,  398,  399,  400],\n",
       "        [ 401,  402,  403,  404,  405,  406,  407,  408,  409,  410],\n",
       "        [ 411,  412,  413,  414,  415,  416,  417,  418,  419,  420],\n",
       "        [ 421,  422,  423,  424,  425,  426,  427,  428,  429,  430],\n",
       "        [ 431,  432,  433,  434,  435,  436,  437,  438,  439,  440],\n",
       "        [ 441,  442,  443,  444,  445,  446,  447,  448,  449,  450],\n",
       "        [ 451,  452,  453,  454,  455,  456,  457,  458,  459,  460],\n",
       "        [ 461,  462,  463,  464,  465,  466,  467,  468,  469,  470],\n",
       "        [ 471,  472,  473,  474,  475,  476,  477,  478,  479,  480],\n",
       "        [ 481,  482,  483,  484,  485,  486,  487,  488,  489,  490],\n",
       "        [ 491,  492,  493,  494,  495,  496,  497,  498,  499,  500]],\n",
       "\n",
       "       [[ 501,  502,  503,  504,  505,  506,  507,  508,  509,  510],\n",
       "        [ 511,  512,  513,  514,  515,  516,  517,  518,  519,  520],\n",
       "        [ 521,  522,  523,  524,  525,  526,  527,  528,  529,  530],\n",
       "        [ 531,  532,  533,  534,  535,  536,  537,  538,  539,  540],\n",
       "        [ 541,  542,  543,  544,  545,  546,  547,  548,  549,  550],\n",
       "        [ 551,  552,  553,  554,  555,  556,  557,  558,  559,  560],\n",
       "        [ 561,  562,  563,  564,  565,  566,  567,  568,  569,  570],\n",
       "        [ 571,  572,  573,  574,  575,  576,  577,  578,  579,  580],\n",
       "        [ 581,  582,  583,  584,  585,  586,  587,  588,  589,  590],\n",
       "        [ 591,  592,  593,  594,  595,  596,  597,  598,  599,  600],\n",
       "        [ 601,  602,  603,  604,  605,  606,  607,  608,  609,  610],\n",
       "        [ 611,  612,  613,  614,  615,  616,  617,  618,  619,  620],\n",
       "        [ 621,  622,  623,  624,  625,  626,  627,  628,  629,  630],\n",
       "        [ 631,  632,  633,  634,  635,  636,  637,  638,  639,  640],\n",
       "        [ 641,  642,  643,  644,  645,  646,  647,  648,  649,  650],\n",
       "        [ 651,  652,  653,  654,  655,  656,  657,  658,  659,  660],\n",
       "        [ 661,  662,  663,  664,  665,  666,  667,  668,  669,  670],\n",
       "        [ 671,  672,  673,  674,  675,  676,  677,  678,  679,  680],\n",
       "        [ 681,  682,  683,  684,  685,  686,  687,  688,  689,  690],\n",
       "        [ 691,  692,  693,  694,  695,  696,  697,  698,  699,  700],\n",
       "        [ 701,  702,  703,  704,  705,  706,  707,  708,  709,  710],\n",
       "        [ 711,  712,  713,  714,  715,  716,  717,  718,  719,  720],\n",
       "        [ 721,  722,  723,  724,  725,  726,  727,  728,  729,  730],\n",
       "        [ 731,  732,  733,  734,  735,  736,  737,  738,  739,  740],\n",
       "        [ 741,  742,  743,  744,  745,  746,  747,  748,  749,  750],\n",
       "        [ 751,  752,  753,  754,  755,  756,  757,  758,  759,  760],\n",
       "        [ 761,  762,  763,  764,  765,  766,  767,  768,  769,  770],\n",
       "        [ 771,  772,  773,  774,  775,  776,  777,  778,  779,  780],\n",
       "        [ 781,  782,  783,  784,  785,  786,  787,  788,  789,  790],\n",
       "        [ 791,  792,  793,  794,  795,  796,  797,  798,  799,  800],\n",
       "        [ 801,  802,  803,  804,  805,  806,  807,  808,  809,  810],\n",
       "        [ 811,  812,  813,  814,  815,  816,  817,  818,  819,  820],\n",
       "        [ 821,  822,  823,  824,  825,  826,  827,  828,  829,  830],\n",
       "        [ 831,  832,  833,  834,  835,  836,  837,  838,  839,  840],\n",
       "        [ 841,  842,  843,  844,  845,  846,  847,  848,  849,  850],\n",
       "        [ 851,  852,  853,  854,  855,  856,  857,  858,  859,  860],\n",
       "        [ 861,  862,  863,  864,  865,  866,  867,  868,  869,  870],\n",
       "        [ 871,  872,  873,  874,  875,  876,  877,  878,  879,  880],\n",
       "        [ 881,  882,  883,  884,  885,  886,  887,  888,  889,  890],\n",
       "        [ 891,  892,  893,  894,  895,  896,  897,  898,  899,  900],\n",
       "        [ 901,  902,  903,  904,  905,  906,  907,  908,  909,  910],\n",
       "        [ 911,  912,  913,  914,  915,  916,  917,  918,  919,  920],\n",
       "        [ 921,  922,  923,  924,  925,  926,  927,  928,  929,  930],\n",
       "        [ 931,  932,  933,  934,  935,  936,  937,  938,  939,  940],\n",
       "        [ 941,  942,  943,  944,  945,  946,  947,  948,  949,  950],\n",
       "        [ 951,  952,  953,  954,  955,  956,  957,  958,  959,  960],\n",
       "        [ 961,  962,  963,  964,  965,  966,  967,  968,  969,  970],\n",
       "        [ 971,  972,  973,  974,  975,  976,  977,  978,  979,  980],\n",
       "        [ 981,  982,  983,  984,  985,  986,  987,  988,  989,  990],\n",
       "        [ 991,  992,  993,  994,  995,  996,  997,  998,  999, 1000]]])"
      ]
     },
     "execution_count": 91,
     "metadata": {},
     "output_type": "execute_result"
    }
   ],
   "source": [
    "arr"
   ]
  },
  {
   "cell_type": "code",
   "execution_count": 92,
   "id": "f270e658",
   "metadata": {},
   "outputs": [],
   "source": [
    "arr=np.arange(1,1001).reshape(2,50,10)"
   ]
  },
  {
   "cell_type": "code",
   "execution_count": 93,
   "id": "031e2313",
   "metadata": {},
   "outputs": [
    {
     "data": {
      "text/plain": [
       "array([[[   1,    2,    3,    4,    5,    6,    7,    8,    9,   10],\n",
       "        [  11,   12,   13,   14,   15,   16,   17,   18,   19,   20],\n",
       "        [  21,   22,   23,   24,   25,   26,   27,   28,   29,   30],\n",
       "        [  31,   32,   33,   34,   35,   36,   37,   38,   39,   40],\n",
       "        [  41,   42,   43,   44,   45,   46,   47,   48,   49,   50],\n",
       "        [  51,   52,   53,   54,   55,   56,   57,   58,   59,   60],\n",
       "        [  61,   62,   63,   64,   65,   66,   67,   68,   69,   70],\n",
       "        [  71,   72,   73,   74,   75,   76,   77,   78,   79,   80],\n",
       "        [  81,   82,   83,   84,   85,   86,   87,   88,   89,   90],\n",
       "        [  91,   92,   93,   94,   95,   96,   97,   98,   99,  100],\n",
       "        [ 101,  102,  103,  104,  105,  106,  107,  108,  109,  110],\n",
       "        [ 111,  112,  113,  114,  115,  116,  117,  118,  119,  120],\n",
       "        [ 121,  122,  123,  124,  125,  126,  127,  128,  129,  130],\n",
       "        [ 131,  132,  133,  134,  135,  136,  137,  138,  139,  140],\n",
       "        [ 141,  142,  143,  144,  145,  146,  147,  148,  149,  150],\n",
       "        [ 151,  152,  153,  154,  155,  156,  157,  158,  159,  160],\n",
       "        [ 161,  162,  163,  164,  165,  166,  167,  168,  169,  170],\n",
       "        [ 171,  172,  173,  174,  175,  176,  177,  178,  179,  180],\n",
       "        [ 181,  182,  183,  184,  185,  186,  187,  188,  189,  190],\n",
       "        [ 191,  192,  193,  194,  195,  196,  197,  198,  199,  200],\n",
       "        [ 201,  202,  203,  204,  205,  206,  207,  208,  209,  210],\n",
       "        [ 211,  212,  213,  214,  215,  216,  217,  218,  219,  220],\n",
       "        [ 221,  222,  223,  224,  225,  226,  227,  228,  229,  230],\n",
       "        [ 231,  232,  233,  234,  235,  236,  237,  238,  239,  240],\n",
       "        [ 241,  242,  243,  244,  245,  246,  247,  248,  249,  250],\n",
       "        [ 251,  252,  253,  254,  255,  256,  257,  258,  259,  260],\n",
       "        [ 261,  262,  263,  264,  265,  266,  267,  268,  269,  270],\n",
       "        [ 271,  272,  273,  274,  275,  276,  277,  278,  279,  280],\n",
       "        [ 281,  282,  283,  284,  285,  286,  287,  288,  289,  290],\n",
       "        [ 291,  292,  293,  294,  295,  296,  297,  298,  299,  300],\n",
       "        [ 301,  302,  303,  304,  305,  306,  307,  308,  309,  310],\n",
       "        [ 311,  312,  313,  314,  315,  316,  317,  318,  319,  320],\n",
       "        [ 321,  322,  323,  324,  325,  326,  327,  328,  329,  330],\n",
       "        [ 331,  332,  333,  334,  335,  336,  337,  338,  339,  340],\n",
       "        [ 341,  342,  343,  344,  345,  346,  347,  348,  349,  350],\n",
       "        [ 351,  352,  353,  354,  355,  356,  357,  358,  359,  360],\n",
       "        [ 361,  362,  363,  364,  365,  366,  367,  368,  369,  370],\n",
       "        [ 371,  372,  373,  374,  375,  376,  377,  378,  379,  380],\n",
       "        [ 381,  382,  383,  384,  385,  386,  387,  388,  389,  390],\n",
       "        [ 391,  392,  393,  394,  395,  396,  397,  398,  399,  400],\n",
       "        [ 401,  402,  403,  404,  405,  406,  407,  408,  409,  410],\n",
       "        [ 411,  412,  413,  414,  415,  416,  417,  418,  419,  420],\n",
       "        [ 421,  422,  423,  424,  425,  426,  427,  428,  429,  430],\n",
       "        [ 431,  432,  433,  434,  435,  436,  437,  438,  439,  440],\n",
       "        [ 441,  442,  443,  444,  445,  446,  447,  448,  449,  450],\n",
       "        [ 451,  452,  453,  454,  455,  456,  457,  458,  459,  460],\n",
       "        [ 461,  462,  463,  464,  465,  466,  467,  468,  469,  470],\n",
       "        [ 471,  472,  473,  474,  475,  476,  477,  478,  479,  480],\n",
       "        [ 481,  482,  483,  484,  485,  486,  487,  488,  489,  490],\n",
       "        [ 491,  492,  493,  494,  495,  496,  497,  498,  499,  500]],\n",
       "\n",
       "       [[ 501,  502,  503,  504,  505,  506,  507,  508,  509,  510],\n",
       "        [ 511,  512,  513,  514,  515,  516,  517,  518,  519,  520],\n",
       "        [ 521,  522,  523,  524,  525,  526,  527,  528,  529,  530],\n",
       "        [ 531,  532,  533,  534,  535,  536,  537,  538,  539,  540],\n",
       "        [ 541,  542,  543,  544,  545,  546,  547,  548,  549,  550],\n",
       "        [ 551,  552,  553,  554,  555,  556,  557,  558,  559,  560],\n",
       "        [ 561,  562,  563,  564,  565,  566,  567,  568,  569,  570],\n",
       "        [ 571,  572,  573,  574,  575,  576,  577,  578,  579,  580],\n",
       "        [ 581,  582,  583,  584,  585,  586,  587,  588,  589,  590],\n",
       "        [ 591,  592,  593,  594,  595,  596,  597,  598,  599,  600],\n",
       "        [ 601,  602,  603,  604,  605,  606,  607,  608,  609,  610],\n",
       "        [ 611,  612,  613,  614,  615,  616,  617,  618,  619,  620],\n",
       "        [ 621,  622,  623,  624,  625,  626,  627,  628,  629,  630],\n",
       "        [ 631,  632,  633,  634,  635,  636,  637,  638,  639,  640],\n",
       "        [ 641,  642,  643,  644,  645,  646,  647,  648,  649,  650],\n",
       "        [ 651,  652,  653,  654,  655,  656,  657,  658,  659,  660],\n",
       "        [ 661,  662,  663,  664,  665,  666,  667,  668,  669,  670],\n",
       "        [ 671,  672,  673,  674,  675,  676,  677,  678,  679,  680],\n",
       "        [ 681,  682,  683,  684,  685,  686,  687,  688,  689,  690],\n",
       "        [ 691,  692,  693,  694,  695,  696,  697,  698,  699,  700],\n",
       "        [ 701,  702,  703,  704,  705,  706,  707,  708,  709,  710],\n",
       "        [ 711,  712,  713,  714,  715,  716,  717,  718,  719,  720],\n",
       "        [ 721,  722,  723,  724,  725,  726,  727,  728,  729,  730],\n",
       "        [ 731,  732,  733,  734,  735,  736,  737,  738,  739,  740],\n",
       "        [ 741,  742,  743,  744,  745,  746,  747,  748,  749,  750],\n",
       "        [ 751,  752,  753,  754,  755,  756,  757,  758,  759,  760],\n",
       "        [ 761,  762,  763,  764,  765,  766,  767,  768,  769,  770],\n",
       "        [ 771,  772,  773,  774,  775,  776,  777,  778,  779,  780],\n",
       "        [ 781,  782,  783,  784,  785,  786,  787,  788,  789,  790],\n",
       "        [ 791,  792,  793,  794,  795,  796,  797,  798,  799,  800],\n",
       "        [ 801,  802,  803,  804,  805,  806,  807,  808,  809,  810],\n",
       "        [ 811,  812,  813,  814,  815,  816,  817,  818,  819,  820],\n",
       "        [ 821,  822,  823,  824,  825,  826,  827,  828,  829,  830],\n",
       "        [ 831,  832,  833,  834,  835,  836,  837,  838,  839,  840],\n",
       "        [ 841,  842,  843,  844,  845,  846,  847,  848,  849,  850],\n",
       "        [ 851,  852,  853,  854,  855,  856,  857,  858,  859,  860],\n",
       "        [ 861,  862,  863,  864,  865,  866,  867,  868,  869,  870],\n",
       "        [ 871,  872,  873,  874,  875,  876,  877,  878,  879,  880],\n",
       "        [ 881,  882,  883,  884,  885,  886,  887,  888,  889,  890],\n",
       "        [ 891,  892,  893,  894,  895,  896,  897,  898,  899,  900],\n",
       "        [ 901,  902,  903,  904,  905,  906,  907,  908,  909,  910],\n",
       "        [ 911,  912,  913,  914,  915,  916,  917,  918,  919,  920],\n",
       "        [ 921,  922,  923,  924,  925,  926,  927,  928,  929,  930],\n",
       "        [ 931,  932,  933,  934,  935,  936,  937,  938,  939,  940],\n",
       "        [ 941,  942,  943,  944,  945,  946,  947,  948,  949,  950],\n",
       "        [ 951,  952,  953,  954,  955,  956,  957,  958,  959,  960],\n",
       "        [ 961,  962,  963,  964,  965,  966,  967,  968,  969,  970],\n",
       "        [ 971,  972,  973,  974,  975,  976,  977,  978,  979,  980],\n",
       "        [ 981,  982,  983,  984,  985,  986,  987,  988,  989,  990],\n",
       "        [ 991,  992,  993,  994,  995,  996,  997,  998,  999, 1000]]])"
      ]
     },
     "execution_count": 93,
     "metadata": {},
     "output_type": "execute_result"
    }
   ],
   "source": [
    "arr"
   ]
  },
  {
   "cell_type": "code",
   "execution_count": 94,
   "id": "2df021c1",
   "metadata": {},
   "outputs": [
    {
     "data": {
      "text/plain": [
       "array([   1,    2,    3,    4,    5,    6,    7,    8,    9,   10,   11,\n",
       "         12,   13,   14,   15,   16,   17,   18,   19,   20,   21,   22,\n",
       "         23,   24,   25,   26,   27,   28,   29,   30,   31,   32,   33,\n",
       "         34,   35,   36,   37,   38,   39,   40,   41,   42,   43,   44,\n",
       "         45,   46,   47,   48,   49,   50,   51,   52,   53,   54,   55,\n",
       "         56,   57,   58,   59,   60,   61,   62,   63,   64,   65,   66,\n",
       "         67,   68,   69,   70,   71,   72,   73,   74,   75,   76,   77,\n",
       "         78,   79,   80,   81,   82,   83,   84,   85,   86,   87,   88,\n",
       "         89,   90,   91,   92,   93,   94,   95,   96,   97,   98,   99,\n",
       "        100,  101,  102,  103,  104,  105,  106,  107,  108,  109,  110,\n",
       "        111,  112,  113,  114,  115,  116,  117,  118,  119,  120,  121,\n",
       "        122,  123,  124,  125,  126,  127,  128,  129,  130,  131,  132,\n",
       "        133,  134,  135,  136,  137,  138,  139,  140,  141,  142,  143,\n",
       "        144,  145,  146,  147,  148,  149,  150,  151,  152,  153,  154,\n",
       "        155,  156,  157,  158,  159,  160,  161,  162,  163,  164,  165,\n",
       "        166,  167,  168,  169,  170,  171,  172,  173,  174,  175,  176,\n",
       "        177,  178,  179,  180,  181,  182,  183,  184,  185,  186,  187,\n",
       "        188,  189,  190,  191,  192,  193,  194,  195,  196,  197,  198,\n",
       "        199,  200,  201,  202,  203,  204,  205,  206,  207,  208,  209,\n",
       "        210,  211,  212,  213,  214,  215,  216,  217,  218,  219,  220,\n",
       "        221,  222,  223,  224,  225,  226,  227,  228,  229,  230,  231,\n",
       "        232,  233,  234,  235,  236,  237,  238,  239,  240,  241,  242,\n",
       "        243,  244,  245,  246,  247,  248,  249,  250,  251,  252,  253,\n",
       "        254,  255,  256,  257,  258,  259,  260,  261,  262,  263,  264,\n",
       "        265,  266,  267,  268,  269,  270,  271,  272,  273,  274,  275,\n",
       "        276,  277,  278,  279,  280,  281,  282,  283,  284,  285,  286,\n",
       "        287,  288,  289,  290,  291,  292,  293,  294,  295,  296,  297,\n",
       "        298,  299,  300,  301,  302,  303,  304,  305,  306,  307,  308,\n",
       "        309,  310,  311,  312,  313,  314,  315,  316,  317,  318,  319,\n",
       "        320,  321,  322,  323,  324,  325,  326,  327,  328,  329,  330,\n",
       "        331,  332,  333,  334,  335,  336,  337,  338,  339,  340,  341,\n",
       "        342,  343,  344,  345,  346,  347,  348,  349,  350,  351,  352,\n",
       "        353,  354,  355,  356,  357,  358,  359,  360,  361,  362,  363,\n",
       "        364,  365,  366,  367,  368,  369,  370,  371,  372,  373,  374,\n",
       "        375,  376,  377,  378,  379,  380,  381,  382,  383,  384,  385,\n",
       "        386,  387,  388,  389,  390,  391,  392,  393,  394,  395,  396,\n",
       "        397,  398,  399,  400,  401,  402,  403,  404,  405,  406,  407,\n",
       "        408,  409,  410,  411,  412,  413,  414,  415,  416,  417,  418,\n",
       "        419,  420,  421,  422,  423,  424,  425,  426,  427,  428,  429,\n",
       "        430,  431,  432,  433,  434,  435,  436,  437,  438,  439,  440,\n",
       "        441,  442,  443,  444,  445,  446,  447,  448,  449,  450,  451,\n",
       "        452,  453,  454,  455,  456,  457,  458,  459,  460,  461,  462,\n",
       "        463,  464,  465,  466,  467,  468,  469,  470,  471,  472,  473,\n",
       "        474,  475,  476,  477,  478,  479,  480,  481,  482,  483,  484,\n",
       "        485,  486,  487,  488,  489,  490,  491,  492,  493,  494,  495,\n",
       "        496,  497,  498,  499,  500,  501,  502,  503,  504,  505,  506,\n",
       "        507,  508,  509,  510,  511,  512,  513,  514,  515,  516,  517,\n",
       "        518,  519,  520,  521,  522,  523,  524,  525,  526,  527,  528,\n",
       "        529,  530,  531,  532,  533,  534,  535,  536,  537,  538,  539,\n",
       "        540,  541,  542,  543,  544,  545,  546,  547,  548,  549,  550,\n",
       "        551,  552,  553,  554,  555,  556,  557,  558,  559,  560,  561,\n",
       "        562,  563,  564,  565,  566,  567,  568,  569,  570,  571,  572,\n",
       "        573,  574,  575,  576,  577,  578,  579,  580,  581,  582,  583,\n",
       "        584,  585,  586,  587,  588,  589,  590,  591,  592,  593,  594,\n",
       "        595,  596,  597,  598,  599,  600,  601,  602,  603,  604,  605,\n",
       "        606,  607,  608,  609,  610,  611,  612,  613,  614,  615,  616,\n",
       "        617,  618,  619,  620,  621,  622,  623,  624,  625,  626,  627,\n",
       "        628,  629,  630,  631,  632,  633,  634,  635,  636,  637,  638,\n",
       "        639,  640,  641,  642,  643,  644,  645,  646,  647,  648,  649,\n",
       "        650,  651,  652,  653,  654,  655,  656,  657,  658,  659,  660,\n",
       "        661,  662,  663,  664,  665,  666,  667,  668,  669,  670,  671,\n",
       "        672,  673,  674,  675,  676,  677,  678,  679,  680,  681,  682,\n",
       "        683,  684,  685,  686,  687,  688,  689,  690,  691,  692,  693,\n",
       "        694,  695,  696,  697,  698,  699,  700,  701,  702,  703,  704,\n",
       "        705,  706,  707,  708,  709,  710,  711,  712,  713,  714,  715,\n",
       "        716,  717,  718,  719,  720,  721,  722,  723,  724,  725,  726,\n",
       "        727,  728,  729,  730,  731,  732,  733,  734,  735,  736,  737,\n",
       "        738,  739,  740,  741,  742,  743,  744,  745,  746,  747,  748,\n",
       "        749,  750,  751,  752,  753,  754,  755,  756,  757,  758,  759,\n",
       "        760,  761,  762,  763,  764,  765,  766,  767,  768,  769,  770,\n",
       "        771,  772,  773,  774,  775,  776,  777,  778,  779,  780,  781,\n",
       "        782,  783,  784,  785,  786,  787,  788,  789,  790,  791,  792,\n",
       "        793,  794,  795,  796,  797,  798,  799,  800,  801,  802,  803,\n",
       "        804,  805,  806,  807,  808,  809,  810,  811,  812,  813,  814,\n",
       "        815,  816,  817,  818,  819,  820,  821,  822,  823,  824,  825,\n",
       "        826,  827,  828,  829,  830,  831,  832,  833,  834,  835,  836,\n",
       "        837,  838,  839,  840,  841,  842,  843,  844,  845,  846,  847,\n",
       "        848,  849,  850,  851,  852,  853,  854,  855,  856,  857,  858,\n",
       "        859,  860,  861,  862,  863,  864,  865,  866,  867,  868,  869,\n",
       "        870,  871,  872,  873,  874,  875,  876,  877,  878,  879,  880,\n",
       "        881,  882,  883,  884,  885,  886,  887,  888,  889,  890,  891,\n",
       "        892,  893,  894,  895,  896,  897,  898,  899,  900,  901,  902,\n",
       "        903,  904,  905,  906,  907,  908,  909,  910,  911,  912,  913,\n",
       "        914,  915,  916,  917,  918,  919,  920,  921,  922,  923,  924,\n",
       "        925,  926,  927,  928,  929,  930,  931,  932,  933,  934,  935,\n",
       "        936,  937,  938,  939,  940,  941,  942,  943,  944,  945,  946,\n",
       "        947,  948,  949,  950,  951,  952,  953,  954,  955,  956,  957,\n",
       "        958,  959,  960,  961,  962,  963,  964,  965,  966,  967,  968,\n",
       "        969,  970,  971,  972,  973,  974,  975,  976,  977,  978,  979,\n",
       "        980,  981,  982,  983,  984,  985,  986,  987,  988,  989,  990,\n",
       "        991,  992,  993,  994,  995,  996,  997,  998,  999, 1000])"
      ]
     },
     "execution_count": 94,
     "metadata": {},
     "output_type": "execute_result"
    }
   ],
   "source": [
    "arr.flatten()"
   ]
  },
  {
   "cell_type": "code",
   "execution_count": 142,
   "id": "e0a3ec9d",
   "metadata": {},
   "outputs": [
    {
     "data": {
      "text/plain": [
       "array([ 21, -47,  50, -61])"
      ]
     },
     "execution_count": 142,
     "metadata": {},
     "output_type": "execute_result"
    }
   ],
   "source": [
    "arr"
   ]
  },
  {
   "cell_type": "code",
   "execution_count": 114,
   "id": "e822fb3e",
   "metadata": {},
   "outputs": [],
   "source": [
    "arr=np.arange(1,7)"
   ]
  },
  {
   "cell_type": "code",
   "execution_count": 115,
   "id": "2340e47c",
   "metadata": {},
   "outputs": [
    {
     "data": {
      "text/plain": [
       "array([1, 2, 3, 4, 5, 6])"
      ]
     },
     "execution_count": 115,
     "metadata": {},
     "output_type": "execute_result"
    }
   ],
   "source": [
    "arr"
   ]
  },
  {
   "cell_type": "code",
   "execution_count": 116,
   "id": "8a4753e2",
   "metadata": {},
   "outputs": [],
   "source": [
    "arr1=arr"
   ]
  },
  {
   "cell_type": "code",
   "execution_count": 117,
   "id": "3b4bed65",
   "metadata": {},
   "outputs": [
    {
     "data": {
      "text/plain": [
       "array([1, 2, 3, 4, 5, 6])"
      ]
     },
     "execution_count": 117,
     "metadata": {},
     "output_type": "execute_result"
    }
   ],
   "source": [
    "arr1"
   ]
  },
  {
   "cell_type": "code",
   "execution_count": 118,
   "id": "528f4c2b",
   "metadata": {},
   "outputs": [
    {
     "data": {
      "text/plain": [
       "array([1, 2, 3, 4, 5, 6])"
      ]
     },
     "execution_count": 118,
     "metadata": {},
     "output_type": "execute_result"
    }
   ],
   "source": [
    "arr"
   ]
  },
  {
   "cell_type": "code",
   "execution_count": 122,
   "id": "95e3a2d4",
   "metadata": {},
   "outputs": [
    {
     "data": {
      "text/plain": [
       "array([1, 2, 3, 4, 5, 6])"
      ]
     },
     "execution_count": 122,
     "metadata": {},
     "output_type": "execute_result"
    }
   ],
   "source": [
    "arr1"
   ]
  },
  {
   "cell_type": "code",
   "execution_count": 121,
   "id": "9a96a635",
   "metadata": {},
   "outputs": [
    {
     "data": {
      "text/plain": [
       "array([2, 3, 4, 5, 6, 7])"
      ]
     },
     "execution_count": 121,
     "metadata": {},
     "output_type": "execute_result"
    }
   ],
   "source": [
    "arr"
   ]
  },
  {
   "cell_type": "code",
   "execution_count": 123,
   "id": "6dac04f9",
   "metadata": {},
   "outputs": [
    {
     "data": {
      "text/plain": [
       "array([7, 4, 7, 9, 4, 6, 8, 4, 9, 2, 8, 8, 1, 9, 6, 2, 2, 1, 9, 6, 9, 7,\n",
       "       8, 9, 1, 6, 1, 5, 6, 8, 5, 4, 8, 7, 2, 1, 3, 6, 5, 5, 2, 8, 6, 1,\n",
       "       2, 1, 4, 5, 2, 3, 1, 5, 7, 8, 5, 5, 8, 2, 7, 6, 6, 1, 8, 7, 7, 2,\n",
       "       7, 1, 8, 4, 9, 1, 5, 4, 4, 1, 2, 9, 6, 6, 3, 4, 5, 3, 4, 6, 7, 3,\n",
       "       7, 6, 5, 8, 9, 2, 6, 4, 6, 1, 8, 4])"
      ]
     },
     "execution_count": 123,
     "metadata": {},
     "output_type": "execute_result"
    }
   ],
   "source": [
    "np.random.randint(1,10,100)"
   ]
  },
  {
   "cell_type": "code",
   "execution_count": 124,
   "id": "09e34089",
   "metadata": {},
   "outputs": [],
   "source": [
    "arr=np.array([1,2,3])"
   ]
  },
  {
   "cell_type": "code",
   "execution_count": 125,
   "id": "11459bbc",
   "metadata": {},
   "outputs": [
    {
     "data": {
      "text/plain": [
       "array([2, 1, 3, 1, 2, 1, 2, 3, 1, 1])"
      ]
     },
     "execution_count": 125,
     "metadata": {},
     "output_type": "execute_result"
    }
   ],
   "source": [
    "np.random.choice(arr,10)"
   ]
  },
  {
   "cell_type": "code",
   "execution_count": 127,
   "id": "16490c8a",
   "metadata": {},
   "outputs": [
    {
     "data": {
      "text/plain": [
       "array([1.        , 1.11111111, 1.22222222, 1.33333333, 1.44444444,\n",
       "       1.55555556, 1.66666667, 1.77777778, 1.88888889, 2.        ])"
      ]
     },
     "execution_count": 127,
     "metadata": {},
     "output_type": "execute_result"
    }
   ],
   "source": [
    "np.linspace(1,2,10)"
   ]
  },
  {
   "cell_type": "code",
   "execution_count": 128,
   "id": "a25da31c",
   "metadata": {},
   "outputs": [],
   "source": [
    "arr=np.array([77,82,69,1,7])"
   ]
  },
  {
   "cell_type": "code",
   "execution_count": 129,
   "id": "20c21e51",
   "metadata": {},
   "outputs": [
    {
     "data": {
      "text/plain": [
       "array([77, 82, 69,  1,  7])"
      ]
     },
     "execution_count": 129,
     "metadata": {},
     "output_type": "execute_result"
    }
   ],
   "source": [
    "arr"
   ]
  },
  {
   "cell_type": "code",
   "execution_count": 130,
   "id": "ba6819fb",
   "metadata": {},
   "outputs": [
    {
     "data": {
      "text/plain": [
       "array([3, 4, 2, 0, 1], dtype=int64)"
      ]
     },
     "execution_count": 130,
     "metadata": {},
     "output_type": "execute_result"
    }
   ],
   "source": [
    "np.argsort(arr)"
   ]
  },
  {
   "cell_type": "code",
   "execution_count": 131,
   "id": "adc77636",
   "metadata": {},
   "outputs": [
    {
     "data": {
      "text/plain": [
       "array([ 1,  7, 69, 77, 82])"
      ]
     },
     "execution_count": 131,
     "metadata": {},
     "output_type": "execute_result"
    }
   ],
   "source": [
    "np.sort(arr)"
   ]
  },
  {
   "cell_type": "code",
   "execution_count": 132,
   "id": "8c244b82",
   "metadata": {},
   "outputs": [],
   "source": [
    "arr=np.array([21,-47,50,-61])"
   ]
  },
  {
   "cell_type": "code",
   "execution_count": 133,
   "id": "fb6b4f06",
   "metadata": {},
   "outputs": [
    {
     "data": {
      "text/plain": [
       "array([ 21, -47,  50, -61])"
      ]
     },
     "execution_count": 133,
     "metadata": {},
     "output_type": "execute_result"
    }
   ],
   "source": [
    "arr"
   ]
  },
  {
   "cell_type": "code",
   "execution_count": 134,
   "id": "0401ef4c",
   "metadata": {},
   "outputs": [
    {
     "data": {
      "text/plain": [
       "array([3, 1, 0, 2], dtype=int64)"
      ]
     },
     "execution_count": 134,
     "metadata": {},
     "output_type": "execute_result"
    }
   ],
   "source": [
    "np.argsort(arr)"
   ]
  },
  {
   "cell_type": "code",
   "execution_count": 136,
   "id": "e88b5682",
   "metadata": {},
   "outputs": [],
   "source": [
    "a=np.array([3,8,5,4,1])\n",
    "b=np.array([9,1,7,0,5])"
   ]
  },
  {
   "cell_type": "code",
   "execution_count": 137,
   "id": "98ea0fe7",
   "metadata": {},
   "outputs": [
    {
     "data": {
      "text/plain": [
       "8"
      ]
     },
     "execution_count": 137,
     "metadata": {},
     "output_type": "execute_result"
    }
   ],
   "source": [
    "a.max()"
   ]
  },
  {
   "cell_type": "code",
   "execution_count": 138,
   "id": "1bc7ee04",
   "metadata": {},
   "outputs": [
    {
     "data": {
      "text/plain": [
       "1"
      ]
     },
     "execution_count": 138,
     "metadata": {},
     "output_type": "execute_result"
    }
   ],
   "source": [
    "a.min()"
   ]
  },
  {
   "cell_type": "code",
   "execution_count": 139,
   "id": "b94bd6a4",
   "metadata": {},
   "outputs": [
    {
     "data": {
      "text/plain": [
       "array([9, 8, 7, 4, 5])"
      ]
     },
     "execution_count": 139,
     "metadata": {},
     "output_type": "execute_result"
    }
   ],
   "source": [
    "np.maximum(a,b)"
   ]
  },
  {
   "cell_type": "code",
   "execution_count": 140,
   "id": "fba14ab5",
   "metadata": {},
   "outputs": [
    {
     "data": {
      "text/plain": [
       "array([3, 1, 5, 0, 1])"
      ]
     },
     "execution_count": 140,
     "metadata": {},
     "output_type": "execute_result"
    }
   ],
   "source": [
    "np.minimum(a,b)"
   ]
  },
  {
   "cell_type": "code",
   "execution_count": 141,
   "id": "1a619549",
   "metadata": {},
   "outputs": [
    {
     "data": {
      "text/plain": [
       "1"
      ]
     },
     "execution_count": 141,
     "metadata": {},
     "output_type": "execute_result"
    }
   ],
   "source": [
    "np.ndim(arr)"
   ]
  },
  {
   "cell_type": "code",
   "execution_count": 173,
   "id": "1f2fbb7f",
   "metadata": {},
   "outputs": [],
   "source": [
    "arr=np.arange(1,10).reshape(3,3)"
   ]
  },
  {
   "cell_type": "code",
   "execution_count": 174,
   "id": "1c229aa3",
   "metadata": {},
   "outputs": [
    {
     "data": {
      "text/plain": [
       "array([[1, 2, 3],\n",
       "       [4, 5, 6],\n",
       "       [7, 8, 9]])"
      ]
     },
     "execution_count": 174,
     "metadata": {},
     "output_type": "execute_result"
    }
   ],
   "source": [
    "arr"
   ]
  },
  {
   "cell_type": "code",
   "execution_count": 175,
   "id": "b524ca15",
   "metadata": {},
   "outputs": [],
   "source": [
    "mat=np.matrix(arr)"
   ]
  },
  {
   "cell_type": "code",
   "execution_count": 176,
   "id": "f55bbee6",
   "metadata": {},
   "outputs": [
    {
     "data": {
      "text/plain": [
       "matrix([[1, 2, 3],\n",
       "        [4, 5, 6],\n",
       "        [7, 8, 9]])"
      ]
     },
     "execution_count": 176,
     "metadata": {},
     "output_type": "execute_result"
    }
   ],
   "source": [
    "mat"
   ]
  },
  {
   "cell_type": "code",
   "execution_count": 181,
   "id": "bf3b2210",
   "metadata": {},
   "outputs": [
    {
     "data": {
      "text/plain": [
       "array([[ -2,  -3,  -4],\n",
       "       [ -5,  -6,  -7],\n",
       "       [ -8,  -9, -10]], dtype=int32)"
      ]
     },
     "execution_count": 181,
     "metadata": {},
     "output_type": "execute_result"
    }
   ],
   "source": [
    "np.invert(arr)"
   ]
  },
  {
   "cell_type": "code",
   "execution_count": 182,
   "id": "5f49a5ab",
   "metadata": {},
   "outputs": [
    {
     "data": {
      "text/plain": [
       "array([[-4.50359963e+15,  9.00719925e+15, -4.50359963e+15],\n",
       "       [ 9.00719925e+15, -1.80143985e+16,  9.00719925e+15],\n",
       "       [-4.50359963e+15,  9.00719925e+15, -4.50359963e+15]])"
      ]
     },
     "execution_count": 182,
     "metadata": {},
     "output_type": "execute_result"
    }
   ],
   "source": [
    "np.linalg.inv(arr)"
   ]
  },
  {
   "cell_type": "code",
   "execution_count": 183,
   "id": "d16e1e92",
   "metadata": {},
   "outputs": [
    {
     "data": {
      "text/plain": [
       "6.66133814775094e-16"
      ]
     },
     "execution_count": 183,
     "metadata": {},
     "output_type": "execute_result"
    }
   ],
   "source": [
    "np.linalg.det(arr)"
   ]
  },
  {
   "cell_type": "code",
   "execution_count": 184,
   "id": "2c63c616",
   "metadata": {},
   "outputs": [
    {
     "data": {
      "text/plain": [
       "(array([ 1.61168440e+01, -1.11684397e+00, -4.22209278e-16]),\n",
       " array([[-0.23197069, -0.78583024,  0.40824829],\n",
       "        [-0.52532209, -0.08675134, -0.81649658],\n",
       "        [-0.8186735 ,  0.61232756,  0.40824829]]))"
      ]
     },
     "execution_count": 184,
     "metadata": {},
     "output_type": "execute_result"
    }
   ],
   "source": [
    "np.linalg.eig(arr)"
   ]
  },
  {
   "cell_type": "code",
   "execution_count": 185,
   "id": "6b4997c9",
   "metadata": {},
   "outputs": [
    {
     "data": {
      "text/plain": [
       "21"
      ]
     },
     "execution_count": 185,
     "metadata": {},
     "output_type": "execute_result"
    }
   ],
   "source": [
    "np.sum(a)"
   ]
  },
  {
   "cell_type": "code",
   "execution_count": 186,
   "id": "487c5442",
   "metadata": {},
   "outputs": [
    {
     "data": {
      "text/plain": [
       "21"
      ]
     },
     "execution_count": 186,
     "metadata": {},
     "output_type": "execute_result"
    }
   ],
   "source": [
    "a.sum()"
   ]
  },
  {
   "cell_type": "code",
   "execution_count": 188,
   "id": "8637c4f4",
   "metadata": {},
   "outputs": [
    {
     "data": {
      "text/plain": [
       "array([[[[235, 392, 461, 616, 463, 270, 398],\n",
       "         [626, 572, 471, 839, 819, 274, 483],\n",
       "         [929, 583, 981,  81, 483,  51, 507],\n",
       "         [148, 869, 282, 426, 551, 755, 533],\n",
       "         [458, 872, 812, 216, 751,  78,  86]],\n",
       "\n",
       "        [[585, 921, 334, 637, 479, 651, 981],\n",
       "         [676, 528,  34,  40, 936,  15, 202],\n",
       "         [960, 913, 346, 216, 889, 352, 722],\n",
       "         [276, 911, 803, 297, 464, 951,  31],\n",
       "         [647, 271, 508, 615, 999, 792, 539]],\n",
       "\n",
       "        [[ 16, 900, 801, 654, 347, 502, 193],\n",
       "         [735,  26, 292, 870,  94, 470, 620],\n",
       "         [513, 121, 574, 764, 821, 870, 202],\n",
       "         [461, 283, 720, 609, 225, 111, 479],\n",
       "         [572, 760, 693, 163, 942, 426, 210]],\n",
       "\n",
       "        [[442, 877, 446, 252, 996, 203, 814],\n",
       "         [788, 698, 190, 216,  47, 151, 960],\n",
       "         [252, 325, 571,  99, 340, 343, 511],\n",
       "         [229, 389, 327,  13, 408, 426, 906],\n",
       "         [973, 977, 902, 884,  67, 464, 837]],\n",
       "\n",
       "        [[866, 423, 182, 250, 964, 325, 490],\n",
       "         [740,  36, 886, 630, 257, 619, 159],\n",
       "         [615,  99, 447, 118, 351, 774, 287],\n",
       "         [829, 367, 317, 534, 705, 711, 757],\n",
       "         [766, 655, 431, 940, 602, 661, 192]]],\n",
       "\n",
       "\n",
       "       [[[390, 706, 859, 540, 755, 617, 507],\n",
       "         [940, 890, 173, 213, 220, 492, 642],\n",
       "         [501, 134, 578, 536, 223, 988, 798],\n",
       "         [416, 680, 134, 884, 438, 232, 207],\n",
       "         [738, 865, 763, 664, 499,  45,  71]],\n",
       "\n",
       "        [[210, 660, 695, 363, 781, 571, 983],\n",
       "         [575, 879, 796,  19, 225, 511, 801],\n",
       "         [378, 421, 288, 110, 541, 252, 767],\n",
       "         [ 51, 807, 897, 105, 155, 215,  30],\n",
       "         [154, 574, 431, 753, 580, 813, 820]],\n",
       "\n",
       "        [[481, 363, 191, 101, 240, 808, 109],\n",
       "         [710, 483, 150, 207, 849,  16, 289],\n",
       "         [107, 469, 202, 593, 944, 747, 100],\n",
       "         [953, 116,  92, 756, 127,  98, 651],\n",
       "         [699, 526, 208, 797, 591, 861, 893]],\n",
       "\n",
       "        [[206,   4,   6, 333, 183, 267, 755],\n",
       "         [109, 801, 728, 764, 535, 448, 899],\n",
       "         [821, 616, 172, 870, 483, 277, 818],\n",
       "         [ 99, 725, 657, 568, 322, 275, 911],\n",
       "         [516, 174, 558, 601, 241, 397, 501]],\n",
       "\n",
       "        [[613, 472, 570, 779, 684, 446, 737],\n",
       "         [947, 248, 581, 763, 175, 252, 662],\n",
       "         [731, 124, 725, 527, 616, 719, 620],\n",
       "         [369, 565, 185, 655, 364, 777, 181],\n",
       "         [200,  55, 608, 954, 434, 569,  32]]]])"
      ]
     },
     "execution_count": 188,
     "metadata": {},
     "output_type": "execute_result"
    }
   ],
   "source": [
    "arr"
   ]
  },
  {
   "cell_type": "code",
   "execution_count": 189,
   "id": "0fd20eef",
   "metadata": {},
   "outputs": [
    {
     "data": {
      "text/plain": [
       "(2, 5, 5, 7)"
      ]
     },
     "execution_count": 189,
     "metadata": {},
     "output_type": "execute_result"
    }
   ],
   "source": [
    "arr.shape"
   ]
  },
  {
   "cell_type": "markdown",
   "id": "30562310",
   "metadata": {},
   "source": [
    "ARRAY Operations\n",
    "        ARRAY INSERTION\n",
    "        ARRAY APPENDING\n",
    "        ARRAY DELETION"
   ]
  },
  {
   "cell_type": "code",
   "execution_count": 39,
   "id": "4c3f0a8b",
   "metadata": {},
   "outputs": [
    {
     "data": {
      "application/javascript": [
       "\n",
       "        if (window._pyforest_update_imports_cell) { window._pyforest_update_imports_cell('import numpy as np'); }\n",
       "    "
      ],
      "text/plain": [
       "<IPython.core.display.Javascript object>"
      ]
     },
     "metadata": {},
     "output_type": "display_data"
    },
    {
     "data": {
      "text/plain": [
       "array([[[ 1,  2],\n",
       "        [ 3,  4],\n",
       "        [ 5,  6],\n",
       "        [ 7,  8]],\n",
       "\n",
       "       [[ 9, 10],\n",
       "        [11, 12],\n",
       "        [13, 14],\n",
       "        [15, 16]],\n",
       "\n",
       "       [[17, 18],\n",
       "        [19, 20],\n",
       "        [21, 22],\n",
       "        [23, 24]],\n",
       "\n",
       "       [[25, 26],\n",
       "        [27, 28],\n",
       "        [29, 30],\n",
       "        [31, 32]],\n",
       "\n",
       "       [[33, 34],\n",
       "        [35, 36],\n",
       "        [37, 38],\n",
       "        [39, 40]]])"
      ]
     },
     "execution_count": 39,
     "metadata": {},
     "output_type": "execute_result"
    }
   ],
   "source": [
    "arr=np.arange(1,41).reshape(5,4,2)\n",
    "arr"
   ]
  },
  {
   "cell_type": "code",
   "execution_count": 40,
   "id": "682c361c",
   "metadata": {},
   "outputs": [
    {
     "data": {
      "application/javascript": [
       "\n",
       "        if (window._pyforest_update_imports_cell) { window._pyforest_update_imports_cell('import numpy as np'); }\n",
       "    "
      ],
      "text/plain": [
       "<IPython.core.display.Javascript object>"
      ]
     },
     "metadata": {},
     "output_type": "display_data"
    }
   ],
   "source": [
    "new_arr=np.array([8.1,8.2,8.3,8.4,8.5,8.6,8.7,8.8]).reshape(4,2)"
   ]
  },
  {
   "cell_type": "code",
   "execution_count": 42,
   "id": "6b4199df",
   "metadata": {},
   "outputs": [
    {
     "data": {
      "application/javascript": [
       "\n",
       "        if (window._pyforest_update_imports_cell) { window._pyforest_update_imports_cell('import numpy as np'); }\n",
       "    "
      ],
      "text/plain": [
       "<IPython.core.display.Javascript object>"
      ]
     },
     "metadata": {},
     "output_type": "display_data"
    },
    {
     "data": {
      "text/plain": [
       "array([[[ 1,  2],\n",
       "        [ 3,  4],\n",
       "        [ 5,  6],\n",
       "        [ 7,  8]],\n",
       "\n",
       "       [[ 8,  8],\n",
       "        [ 8,  8],\n",
       "        [ 8,  8],\n",
       "        [ 8,  8]],\n",
       "\n",
       "       [[ 9, 10],\n",
       "        [11, 12],\n",
       "        [13, 14],\n",
       "        [15, 16]],\n",
       "\n",
       "       [[17, 18],\n",
       "        [19, 20],\n",
       "        [21, 22],\n",
       "        [23, 24]],\n",
       "\n",
       "       [[25, 26],\n",
       "        [27, 28],\n",
       "        [29, 30],\n",
       "        [31, 32]],\n",
       "\n",
       "       [[33, 34],\n",
       "        [35, 36],\n",
       "        [37, 38],\n",
       "        [39, 40]]])"
      ]
     },
     "execution_count": 42,
     "metadata": {},
     "output_type": "execute_result"
    }
   ],
   "source": [
    "np.insert(arr,1,new_arr,axis=0)"
   ]
  },
  {
   "cell_type": "code",
   "execution_count": 9,
   "id": "3461b913",
   "metadata": {},
   "outputs": [
    {
     "data": {
      "application/javascript": [
       "\n",
       "        if (window._pyforest_update_imports_cell) { window._pyforest_update_imports_cell('import numpy as np'); }\n",
       "    "
      ],
      "text/plain": [
       "<IPython.core.display.Javascript object>"
      ]
     },
     "metadata": {},
     "output_type": "display_data"
    }
   ],
   "source": [
    "new_array=np.array([21,22,23,24,25,26,27,28])"
   ]
  },
  {
   "cell_type": "code",
   "execution_count": 16,
   "id": "7e0fffdf",
   "metadata": {},
   "outputs": [],
   "source": [
    "new_array.shape=(4,2)"
   ]
  },
  {
   "cell_type": "code",
   "execution_count": 17,
   "id": "0101a4e1",
   "metadata": {},
   "outputs": [
    {
     "data": {
      "text/plain": [
       "array([[21, 22],\n",
       "       [23, 24],\n",
       "       [25, 26],\n",
       "       [27, 28]])"
      ]
     },
     "execution_count": 17,
     "metadata": {},
     "output_type": "execute_result"
    }
   ],
   "source": [
    "new_array"
   ]
  },
  {
   "cell_type": "code",
   "execution_count": 20,
   "id": "6955a6fd",
   "metadata": {},
   "outputs": [
    {
     "data": {
      "application/javascript": [
       "\n",
       "        if (window._pyforest_update_imports_cell) { window._pyforest_update_imports_cell('import numpy as np'); }\n",
       "    "
      ],
      "text/plain": [
       "<IPython.core.display.Javascript object>"
      ]
     },
     "metadata": {},
     "output_type": "display_data"
    }
   ],
   "source": [
    "array=np.insert(arr,1,new_array,axis=0)"
   ]
  },
  {
   "cell_type": "code",
   "execution_count": 21,
   "id": "4b72a067",
   "metadata": {
    "scrolled": false
   },
   "outputs": [
    {
     "data": {
      "text/plain": [
       "array([[[ 1,  2],\n",
       "        [ 3,  4],\n",
       "        [ 5,  6],\n",
       "        [ 7,  8]],\n",
       "\n",
       "       [[21, 22],\n",
       "        [23, 24],\n",
       "        [25, 26],\n",
       "        [27, 28]],\n",
       "\n",
       "       [[ 9, 10],\n",
       "        [11, 12],\n",
       "        [13, 14],\n",
       "        [15, 16]],\n",
       "\n",
       "       [[17, 18],\n",
       "        [19, 20],\n",
       "        [21, 22],\n",
       "        [23, 24]],\n",
       "\n",
       "       [[25, 26],\n",
       "        [27, 28],\n",
       "        [29, 30],\n",
       "        [31, 32]],\n",
       "\n",
       "       [[33, 34],\n",
       "        [35, 36],\n",
       "        [37, 38],\n",
       "        [39, 40]]])"
      ]
     },
     "execution_count": 21,
     "metadata": {},
     "output_type": "execute_result"
    }
   ],
   "source": [
    "array"
   ]
  },
  {
   "cell_type": "code",
   "execution_count": 29,
   "id": "ea128b7b",
   "metadata": {},
   "outputs": [
    {
     "data": {
      "application/javascript": [
       "\n",
       "        if (window._pyforest_update_imports_cell) { window._pyforest_update_imports_cell('import numpy as np'); }\n",
       "    "
      ],
      "text/plain": [
       "<IPython.core.display.Javascript object>"
      ]
     },
     "metadata": {},
     "output_type": "display_data"
    }
   ],
   "source": [
    "arr=np.arange(5,25).reshape(5,4)"
   ]
  },
  {
   "cell_type": "code",
   "execution_count": 30,
   "id": "062c08b1",
   "metadata": {},
   "outputs": [
    {
     "data": {
      "text/plain": [
       "array([[ 5,  6,  7,  8],\n",
       "       [ 9, 10, 11, 12],\n",
       "       [13, 14, 15, 16],\n",
       "       [17, 18, 19, 20],\n",
       "       [21, 22, 23, 24]])"
      ]
     },
     "execution_count": 30,
     "metadata": {},
     "output_type": "execute_result"
    }
   ],
   "source": [
    "arr"
   ]
  },
  {
   "cell_type": "code",
   "execution_count": 33,
   "id": "796ff05b",
   "metadata": {},
   "outputs": [
    {
     "data": {
      "application/javascript": [
       "\n",
       "        if (window._pyforest_update_imports_cell) { window._pyforest_update_imports_cell('import numpy as np'); }\n",
       "    "
      ],
      "text/plain": [
       "<IPython.core.display.Javascript object>"
      ]
     },
     "metadata": {},
     "output_type": "display_data"
    }
   ],
   "source": [
    "new_arr=np.array([25,26,27,28])"
   ]
  },
  {
   "cell_type": "code",
   "execution_count": 36,
   "id": "7efb5ac6",
   "metadata": {},
   "outputs": [
    {
     "data": {
      "application/javascript": [
       "\n",
       "        if (window._pyforest_update_imports_cell) { window._pyforest_update_imports_cell('import numpy as np'); }\n",
       "    "
      ],
      "text/plain": [
       "<IPython.core.display.Javascript object>"
      ]
     },
     "metadata": {},
     "output_type": "display_data"
    }
   ],
   "source": [
    "new_array=np.insert(arr,2,new_arr,axis=0)"
   ]
  },
  {
   "cell_type": "code",
   "execution_count": 37,
   "id": "b4594880",
   "metadata": {},
   "outputs": [
    {
     "data": {
      "text/plain": [
       "array([[ 5,  6,  7,  8],\n",
       "       [ 9, 10, 11, 12],\n",
       "       [25, 26, 27, 28],\n",
       "       [13, 14, 15, 16],\n",
       "       [17, 18, 19, 20],\n",
       "       [21, 22, 23, 24]])"
      ]
     },
     "execution_count": 37,
     "metadata": {},
     "output_type": "execute_result"
    }
   ],
   "source": [
    "new_array"
   ]
  },
  {
   "cell_type": "code",
   "execution_count": 38,
   "id": "9a7cdb46",
   "metadata": {},
   "outputs": [
    {
     "data": {
      "application/javascript": [
       "\n",
       "        if (window._pyforest_update_imports_cell) { window._pyforest_update_imports_cell('import numpy as np'); }\n",
       "    "
      ],
      "text/plain": [
       "<IPython.core.display.Javascript object>"
      ]
     },
     "metadata": {},
     "output_type": "display_data"
    },
    {
     "data": {
      "application/javascript": [
       "\n",
       "        if (window._pyforest_update_imports_cell) { window._pyforest_update_imports_cell('import numpy as np'); }\n",
       "    "
      ],
      "text/plain": [
       "<IPython.core.display.Javascript object>"
      ]
     },
     "metadata": {},
     "output_type": "display_data"
    },
    {
     "data": {
      "text/plain": [
       "array([[ 5,  6,  1,  7,  8],\n",
       "       [ 9, 10,  2, 11, 12],\n",
       "       [25, 26,  3, 27, 28],\n",
       "       [13, 14,  4, 15, 16],\n",
       "       [17, 18,  5, 19, 20],\n",
       "       [21, 22,  6, 23, 24]])"
      ]
     },
     "execution_count": 38,
     "metadata": {},
     "output_type": "execute_result"
    }
   ],
   "source": [
    "np.insert(new_array,2,np.array([1,2,3,4,5,6]),axis=1)"
   ]
  },
  {
   "cell_type": "code",
   "execution_count": 48,
   "id": "34d5fe5f",
   "metadata": {},
   "outputs": [],
   "source": [
    "#NUMPY WITH PANDAS"
   ]
  },
  {
   "cell_type": "code",
   "execution_count": 49,
   "id": "4b013150",
   "metadata": {},
   "outputs": [
    {
     "data": {
      "application/javascript": [
       "\n",
       "        if (window._pyforest_update_imports_cell) { window._pyforest_update_imports_cell('import pandas as pd\\nimport numpy as np'); }\n",
       "    "
      ],
      "text/plain": [
       "<IPython.core.display.Javascript object>"
      ]
     },
     "metadata": {},
     "output_type": "display_data"
    }
   ],
   "source": [
    "df_stud_details=pd.DataFrame()"
   ]
  },
  {
   "cell_type": "code",
   "execution_count": 50,
   "id": "168492d9",
   "metadata": {},
   "outputs": [
    {
     "data": {
      "text/html": [
       "<div>\n",
       "<style scoped>\n",
       "    .dataframe tbody tr th:only-of-type {\n",
       "        vertical-align: middle;\n",
       "    }\n",
       "\n",
       "    .dataframe tbody tr th {\n",
       "        vertical-align: top;\n",
       "    }\n",
       "\n",
       "    .dataframe thead th {\n",
       "        text-align: right;\n",
       "    }\n",
       "</style>\n",
       "<table border=\"1\" class=\"dataframe\">\n",
       "  <thead>\n",
       "    <tr style=\"text-align: right;\">\n",
       "      <th></th>\n",
       "    </tr>\n",
       "  </thead>\n",
       "  <tbody>\n",
       "  </tbody>\n",
       "</table>\n",
       "</div>"
      ],
      "text/plain": [
       "Empty DataFrame\n",
       "Columns: []\n",
       "Index: []"
      ]
     },
     "execution_count": 50,
     "metadata": {},
     "output_type": "execute_result"
    }
   ],
   "source": [
    "df_stud_details"
   ]
  },
  {
   "cell_type": "code",
   "execution_count": 52,
   "id": "8b2c05d6",
   "metadata": {},
   "outputs": [
    {
     "data": {
      "application/javascript": [
       "\n",
       "        if (window._pyforest_update_imports_cell) { window._pyforest_update_imports_cell('import pandas as pd\\nimport numpy as np'); }\n",
       "    "
      ],
      "text/plain": [
       "<IPython.core.display.Javascript object>"
      ]
     },
     "metadata": {},
     "output_type": "display_data"
    }
   ],
   "source": [
    "sr_no=np.arange(1,101)"
   ]
  },
  {
   "cell_type": "code",
   "execution_count": 53,
   "id": "56ec1a0c",
   "metadata": {},
   "outputs": [
    {
     "data": {
      "text/plain": [
       "array([  1,   2,   3,   4,   5,   6,   7,   8,   9,  10,  11,  12,  13,\n",
       "        14,  15,  16,  17,  18,  19,  20,  21,  22,  23,  24,  25,  26,\n",
       "        27,  28,  29,  30,  31,  32,  33,  34,  35,  36,  37,  38,  39,\n",
       "        40,  41,  42,  43,  44,  45,  46,  47,  48,  49,  50,  51,  52,\n",
       "        53,  54,  55,  56,  57,  58,  59,  60,  61,  62,  63,  64,  65,\n",
       "        66,  67,  68,  69,  70,  71,  72,  73,  74,  75,  76,  77,  78,\n",
       "        79,  80,  81,  82,  83,  84,  85,  86,  87,  88,  89,  90,  91,\n",
       "        92,  93,  94,  95,  96,  97,  98,  99, 100])"
      ]
     },
     "execution_count": 53,
     "metadata": {},
     "output_type": "execute_result"
    }
   ],
   "source": [
    "sr_no"
   ]
  },
  {
   "cell_type": "code",
   "execution_count": 54,
   "id": "a724379e",
   "metadata": {},
   "outputs": [
    {
     "data": {
      "application/javascript": [
       "\n",
       "        if (window._pyforest_update_imports_cell) { window._pyforest_update_imports_cell('import pandas as pd\\nimport numpy as np'); }\n",
       "    "
      ],
      "text/plain": [
       "<IPython.core.display.Javascript object>"
      ]
     },
     "metadata": {},
     "output_type": "display_data"
    }
   ],
   "source": [
    "name=np.random.choice(['A','B','C','D'],100)"
   ]
  },
  {
   "cell_type": "code",
   "execution_count": 55,
   "id": "66bb5feb",
   "metadata": {},
   "outputs": [
    {
     "data": {
      "text/plain": [
       "array(['D', 'A', 'C', 'A', 'D', 'C', 'C', 'D', 'B', 'A', 'B', 'B', 'D',\n",
       "       'A', 'A', 'B', 'A', 'D', 'D', 'C', 'C', 'A', 'C', 'B', 'B', 'A',\n",
       "       'A', 'B', 'B', 'D', 'A', 'A', 'C', 'D', 'A', 'A', 'B', 'A', 'D',\n",
       "       'D', 'D', 'A', 'D', 'A', 'A', 'D', 'D', 'C', 'D', 'A', 'C', 'A',\n",
       "       'C', 'A', 'D', 'A', 'C', 'D', 'A', 'B', 'C', 'A', 'B', 'D', 'C',\n",
       "       'A', 'D', 'A', 'D', 'A', 'B', 'A', 'A', 'B', 'D', 'D', 'C', 'B',\n",
       "       'D', 'C', 'A', 'B', 'D', 'D', 'B', 'D', 'C', 'A', 'C', 'D', 'C',\n",
       "       'C', 'D', 'B', 'B', 'B', 'B', 'B', 'C', 'A'], dtype='<U1')"
      ]
     },
     "execution_count": 55,
     "metadata": {},
     "output_type": "execute_result"
    }
   ],
   "source": [
    "name"
   ]
  },
  {
   "cell_type": "code",
   "execution_count": 56,
   "id": "6b0fa51c",
   "metadata": {},
   "outputs": [
    {
     "data": {
      "application/javascript": [
       "\n",
       "        if (window._pyforest_update_imports_cell) { window._pyforest_update_imports_cell('import pandas as pd\\nimport numpy as np'); }\n",
       "    "
      ],
      "text/plain": [
       "<IPython.core.display.Javascript object>"
      ]
     },
     "metadata": {},
     "output_type": "display_data"
    }
   ],
   "source": [
    "gender=np.random.choice(['M','F','O'],100)"
   ]
  },
  {
   "cell_type": "code",
   "execution_count": 57,
   "id": "8ca9a54a",
   "metadata": {},
   "outputs": [
    {
     "data": {
      "text/plain": [
       "array(['F', 'O', 'F', 'O', 'O', 'M', 'M', 'F', 'M', 'F', 'F', 'F', 'F',\n",
       "       'M', 'M', 'O', 'O', 'O', 'O', 'O', 'M', 'M', 'F', 'O', 'O', 'O',\n",
       "       'F', 'F', 'M', 'M', 'O', 'O', 'M', 'O', 'O', 'O', 'M', 'F', 'O',\n",
       "       'F', 'O', 'F', 'F', 'F', 'O', 'M', 'O', 'O', 'O', 'M', 'O', 'F',\n",
       "       'O', 'F', 'O', 'F', 'O', 'F', 'O', 'M', 'O', 'O', 'M', 'M', 'O',\n",
       "       'F', 'M', 'M', 'M', 'F', 'M', 'F', 'F', 'O', 'F', 'M', 'O', 'M',\n",
       "       'O', 'F', 'O', 'M', 'M', 'M', 'O', 'F', 'M', 'O', 'O', 'M', 'O',\n",
       "       'O', 'F', 'M', 'M', 'O', 'M', 'M', 'F', 'F'], dtype='<U1')"
      ]
     },
     "execution_count": 57,
     "metadata": {},
     "output_type": "execute_result"
    }
   ],
   "source": [
    "gender"
   ]
  },
  {
   "cell_type": "code",
   "execution_count": 62,
   "id": "7e763271",
   "metadata": {},
   "outputs": [
    {
     "data": {
      "application/javascript": [
       "\n",
       "        if (window._pyforest_update_imports_cell) { window._pyforest_update_imports_cell('import pandas as pd\\nimport numpy as np'); }\n",
       "    "
      ],
      "text/plain": [
       "<IPython.core.display.Javascript object>"
      ]
     },
     "metadata": {},
     "output_type": "display_data"
    }
   ],
   "source": [
    "mark=np.random.randint(1,101,100)"
   ]
  },
  {
   "cell_type": "code",
   "execution_count": 63,
   "id": "e66c9dd4",
   "metadata": {},
   "outputs": [
    {
     "data": {
      "text/plain": [
       "array([ 76,  73,  74,  25,  89,   8,   7,  26,   3,  20,  43,  30,   8,\n",
       "        25,   9,  33,  93,  25,  66,  69,  16,   1,  11,   8,  99,  32,\n",
       "        63,  64,   2,  18,  50,  19,  89,  83,  61,  80,  75,  26,  38,\n",
       "        89,  80,  43,   6,  33,  37,  57,  28,  28,  57,  97,  40,  56,\n",
       "        14,  69,  37,  71,  99,  70,  19, 100,   2,  14,  29,   3,  56,\n",
       "        14,   3,  40,   5,  16,  82,   1,  68,  79,  13,  24,   8,  85,\n",
       "        39,  82,  12,  59,  19,  15,  52,  49,  53,  76,  42,  60,  12,\n",
       "        21,  58,  22,  25,  19,   7,  55,  75,   7])"
      ]
     },
     "execution_count": 63,
     "metadata": {},
     "output_type": "execute_result"
    }
   ],
   "source": [
    "mark"
   ]
  },
  {
   "cell_type": "code",
   "execution_count": 64,
   "id": "a0c1d4a1",
   "metadata": {},
   "outputs": [],
   "source": [
    "df_stud_details['ID']=sr_no"
   ]
  },
  {
   "cell_type": "code",
   "execution_count": 65,
   "id": "54ca9750",
   "metadata": {},
   "outputs": [],
   "source": [
    "df_stud_details['Name']=name"
   ]
  },
  {
   "cell_type": "code",
   "execution_count": 66,
   "id": "dce53529",
   "metadata": {},
   "outputs": [],
   "source": [
    "df_stud_details['Gender']=gender"
   ]
  },
  {
   "cell_type": "code",
   "execution_count": 67,
   "id": "8277551b",
   "metadata": {},
   "outputs": [],
   "source": [
    "df_stud_details['Marks']=mark"
   ]
  },
  {
   "cell_type": "code",
   "execution_count": 68,
   "id": "b06f91f3",
   "metadata": {},
   "outputs": [
    {
     "data": {
      "text/html": [
       "<div>\n",
       "<style scoped>\n",
       "    .dataframe tbody tr th:only-of-type {\n",
       "        vertical-align: middle;\n",
       "    }\n",
       "\n",
       "    .dataframe tbody tr th {\n",
       "        vertical-align: top;\n",
       "    }\n",
       "\n",
       "    .dataframe thead th {\n",
       "        text-align: right;\n",
       "    }\n",
       "</style>\n",
       "<table border=\"1\" class=\"dataframe\">\n",
       "  <thead>\n",
       "    <tr style=\"text-align: right;\">\n",
       "      <th></th>\n",
       "      <th>ID</th>\n",
       "      <th>Name</th>\n",
       "      <th>Gender</th>\n",
       "      <th>Marks</th>\n",
       "    </tr>\n",
       "  </thead>\n",
       "  <tbody>\n",
       "    <tr>\n",
       "      <th>0</th>\n",
       "      <td>1</td>\n",
       "      <td>D</td>\n",
       "      <td>F</td>\n",
       "      <td>76</td>\n",
       "    </tr>\n",
       "    <tr>\n",
       "      <th>1</th>\n",
       "      <td>2</td>\n",
       "      <td>A</td>\n",
       "      <td>O</td>\n",
       "      <td>73</td>\n",
       "    </tr>\n",
       "    <tr>\n",
       "      <th>2</th>\n",
       "      <td>3</td>\n",
       "      <td>C</td>\n",
       "      <td>F</td>\n",
       "      <td>74</td>\n",
       "    </tr>\n",
       "    <tr>\n",
       "      <th>3</th>\n",
       "      <td>4</td>\n",
       "      <td>A</td>\n",
       "      <td>O</td>\n",
       "      <td>25</td>\n",
       "    </tr>\n",
       "    <tr>\n",
       "      <th>4</th>\n",
       "      <td>5</td>\n",
       "      <td>D</td>\n",
       "      <td>O</td>\n",
       "      <td>89</td>\n",
       "    </tr>\n",
       "    <tr>\n",
       "      <th>...</th>\n",
       "      <td>...</td>\n",
       "      <td>...</td>\n",
       "      <td>...</td>\n",
       "      <td>...</td>\n",
       "    </tr>\n",
       "    <tr>\n",
       "      <th>95</th>\n",
       "      <td>96</td>\n",
       "      <td>B</td>\n",
       "      <td>O</td>\n",
       "      <td>19</td>\n",
       "    </tr>\n",
       "    <tr>\n",
       "      <th>96</th>\n",
       "      <td>97</td>\n",
       "      <td>B</td>\n",
       "      <td>M</td>\n",
       "      <td>7</td>\n",
       "    </tr>\n",
       "    <tr>\n",
       "      <th>97</th>\n",
       "      <td>98</td>\n",
       "      <td>B</td>\n",
       "      <td>M</td>\n",
       "      <td>55</td>\n",
       "    </tr>\n",
       "    <tr>\n",
       "      <th>98</th>\n",
       "      <td>99</td>\n",
       "      <td>C</td>\n",
       "      <td>F</td>\n",
       "      <td>75</td>\n",
       "    </tr>\n",
       "    <tr>\n",
       "      <th>99</th>\n",
       "      <td>100</td>\n",
       "      <td>A</td>\n",
       "      <td>F</td>\n",
       "      <td>7</td>\n",
       "    </tr>\n",
       "  </tbody>\n",
       "</table>\n",
       "<p>100 rows × 4 columns</p>\n",
       "</div>"
      ],
      "text/plain": [
       "     ID Name Gender  Marks\n",
       "0     1    D      F     76\n",
       "1     2    A      O     73\n",
       "2     3    C      F     74\n",
       "3     4    A      O     25\n",
       "4     5    D      O     89\n",
       "..  ...  ...    ...    ...\n",
       "95   96    B      O     19\n",
       "96   97    B      M      7\n",
       "97   98    B      M     55\n",
       "98   99    C      F     75\n",
       "99  100    A      F      7\n",
       "\n",
       "[100 rows x 4 columns]"
      ]
     },
     "execution_count": 68,
     "metadata": {},
     "output_type": "execute_result"
    }
   ],
   "source": [
    "df_stud_details"
   ]
  },
  {
   "cell_type": "code",
   "execution_count": null,
   "id": "68f191b5",
   "metadata": {},
   "outputs": [],
   "source": [
    "find the sum of id column\n",
    "find the missing values(if any)\n",
    "find the no.of times 'D' name occuring in name column\n",
    "find the average of Marks column\n",
    "find the count of 'O' in gender column\n",
    "find the duplicated rows"
   ]
  }
 ],
 "metadata": {
  "kernelspec": {
   "display_name": "Python 3 (ipykernel)",
   "language": "python",
   "name": "python3"
  },
  "language_info": {
   "codemirror_mode": {
    "name": "ipython",
    "version": 3
   },
   "file_extension": ".py",
   "mimetype": "text/x-python",
   "name": "python",
   "nbconvert_exporter": "python",
   "pygments_lexer": "ipython3",
   "version": "3.9.12"
  }
 },
 "nbformat": 4,
 "nbformat_minor": 5
}
